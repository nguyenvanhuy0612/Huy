{
 "cells": [
  {
   "cell_type": "code",
   "execution_count": null,
   "id": "35926e52-faea-4105-9d80-f7b4e4f7eb67",
   "metadata": {},
   "outputs": [],
   "source": [
    "!pip install opencv-python\n",
    "!pip install matplotlib\n",
    "!pip install imutils"
   ]
  },
  {
   "cell_type": "code",
   "execution_count": null,
   "id": "49e8ec71-733f-4d74-8878-208459f13049",
   "metadata": {},
   "outputs": [],
   "source": [
    "%matplotlib inline"
   ]
  },
  {
   "cell_type": "code",
   "execution_count": null,
   "id": "0f48a045-ee7d-494d-a689-f64e8c8b52bf",
   "metadata": {},
   "outputs": [],
   "source": [
    "import cv2\n",
    "from matplotlib import pyplot as plt\n",
    "import imutils"
   ]
  },
  {
   "cell_type": "code",
   "execution_count": null,
   "id": "386d58dc-ae8e-4984-ac30-832ae4175643",
   "metadata": {},
   "outputs": [],
   "source": [
    "# Doc file hinh anh\n",
    "image = cv2.imread(\"anh-dep-hoa-huong-duong-va-mat-troi_022805970-1-1181x800-6.jpg\", cv2.IMREAD_GRAYSCALE)\n",
    "image = cv2.resize(image, dsize=None, fx=0.3, fy=0.3)"
   ]
  },
  {
   "cell_type": "code",
   "execution_count": null,
   "id": "ab3e8555-3abc-414b-8907-9179ed8e9247",
   "metadata": {},
   "outputs": [],
   "source": [
    "# show anh\n",
    "cv2.imshow(\"image\", image)\n",
    "cv2.waitKey()\n",
    "cv2.destroyAllWindows()"
   ]
  },
  {
   "cell_type": "code",
   "execution_count": null,
   "id": "0d0a3c3c-a683-4a7f-8e58-ba669f66647b",
   "metadata": {},
   "outputs": [],
   "source": [
    "cv2.imwrite(\"gray.png\", image)"
   ]
  },
  {
   "cell_type": "code",
   "execution_count": null,
   "id": "445f5b42-fc6e-4baf-936b-e67697be3f06",
   "metadata": {},
   "outputs": [],
   "source": [
    "# Xoay\n",
    "image_rotate = imutils.rotate(image, 90)"
   ]
  },
  {
   "cell_type": "code",
   "execution_count": null,
   "id": "0ea7456d-e198-43c6-b84b-104698ebead8",
   "metadata": {},
   "outputs": [],
   "source": [
    "# show anh\n",
    "cv2.imshow(\"image_rotate\", image_rotate)\n",
    "cv2.waitKey()\n",
    "cv2.destroyAllWindows()"
   ]
  },
  {
   "cell_type": "code",
   "execution_count": 44,
   "id": "1cd3b560-6e72-45d5-93a0-067d5fe053bb",
   "metadata": {},
   "outputs": [],
   "source": [
    "# convert image to gray\n",
    "gray_image = cv2.cvtColor(image, cv2.COLOR_BAYER_BGGR2GRAY)\n",
    "# Apply threshold\n",
    "ret, thresh_binary = cv2.threshold(gray_image, 127, 255, cv2.THRESH_BINARY)"
   ]
  },
  {
   "cell_type": "code",
   "execution_count": 47,
   "id": "83fcf5c0-254b-42b7-969a-64b8ef166e5d",
   "metadata": {},
   "outputs": [],
   "source": [
    "# show anh\n",
    "cv2.imshow(\"gray_image\", gray_image)\n",
    "cv2.imshow(\"thresh_binary\", thresh_binary)\n",
    "cv2.waitKey()\n",
    "cv2.destroyAllWindows()"
   ]
  },
  {
   "cell_type": "code",
   "execution_count": null,
   "id": "475977f3-af9e-431c-8d8b-c233b5ac05e2",
   "metadata": {},
   "outputs": [],
   "source": [
    "# edges\n",
    "edges_image = cv2.Canny(image=gray_image, threshold1=100, threshold2=200)"
   ]
  },
  {
   "cell_type": "code",
   "execution_count": null,
   "id": "c900dde3-8381-45e9-b368-3d8e180213e7",
   "metadata": {},
   "outputs": [],
   "source": [
    "# show anh\n",
    "cv2.imshow(\"gray_image\", gray_image)\n",
    "cv2.imshow(\"edges_image\", edges_image)\n",
    "cv2.waitKey()\n",
    "cv2.destroyAllWindows()"
   ]
  },
  {
   "cell_type": "code",
   "execution_count": null,
   "id": "2ddd48c3-50ca-4882-b063-22ac31c8091f",
   "metadata": {},
   "outputs": [],
   "source": []
  }
 ],
 "metadata": {
  "kernelspec": {
   "display_name": "Python 3 (ipykernel)",
   "language": "python",
   "name": "python3"
  },
  "language_info": {
   "codemirror_mode": {
    "name": "ipython",
    "version": 3
   },
   "file_extension": ".py",
   "mimetype": "text/x-python",
   "name": "python",
   "nbconvert_exporter": "python",
   "pygments_lexer": "ipython3",
   "version": "3.10.2"
  }
 },
 "nbformat": 4,
 "nbformat_minor": 5
}
