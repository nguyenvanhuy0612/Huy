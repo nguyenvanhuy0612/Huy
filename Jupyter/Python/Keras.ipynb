{
 "cells": [
  {
   "cell_type": "markdown",
   "id": "ee9eb39c-c4aa-477b-8bfe-836b72668505",
   "metadata": {
    "tags": []
   },
   "source": [
    "### Keras developed by Google, based on Tensorflow, easier to use than Tensorflow"
   ]
  },
  {
   "cell_type": "code",
   "execution_count": null,
   "id": "43677860-da84-46ef-bad7-2babe33d27fc",
   "metadata": {},
   "outputs": [],
   "source": [
    "!pip install tensorflow\n",
    "!pip install keras\n",
    "!pip install sklearn"
   ]
  },
  {
   "cell_type": "markdown",
   "id": "9083ebd4-9969-42e1-8582-ada444ba61f1",
   "metadata": {},
   "source": [
    "### Code"
   ]
  },
  {
   "cell_type": "code",
   "execution_count": null,
   "id": "3dbf68c9-7e3f-4d78-9ff4-75ec86331da8",
   "metadata": {},
   "outputs": [],
   "source": [
    "from numpy import loadtxt\n",
    "from sklearn.model_selection import train_test_split"
   ]
  },
  {
   "cell_type": "code",
   "execution_count": null,
   "id": "2396fc2c-8b09-4bb0-a9eb-12f140a90904",
   "metadata": {},
   "outputs": [],
   "source": [
    "dataset = loadtxt('pima-indians-diabetes.data.csv', delimiter=',')"
   ]
  },
  {
   "cell_type": "code",
   "execution_count": null,
   "id": "a35bc75c-dd93-4d3c-8b9e-8b20255ed14d",
   "metadata": {},
   "outputs": [],
   "source": [
    "print(dataset)"
   ]
  },
  {
   "cell_type": "code",
   "execution_count": 10,
   "id": "657875c3-0455-48f1-bd59-e0ff69e770fb",
   "metadata": {},
   "outputs": [],
   "source": [
    "x = dataset[:, 0:8]\n",
    "y = dataset[:, 8]"
   ]
  },
  {
   "cell_type": "code",
   "execution_count": 11,
   "id": "f79c09fb-39eb-48ad-b9df-5b4c66d55757",
   "metadata": {},
   "outputs": [],
   "source": [
    "x_train_val, x_test, y_train_val, y_test = train_test_split(x, y, test_size=0.2)"
   ]
  },
  {
   "cell_type": "code",
   "execution_count": 12,
   "id": "c64d301e-ac36-4c61-9d4b-d7c64e6b876b",
   "metadata": {},
   "outputs": [],
   "source": [
    "x_train, x_val, y_train, y_val = train_test_split(x_train_val, y_train_val, test_size=0.2)"
   ]
  },
  {
   "cell_type": "code",
   "execution_count": null,
   "id": "0df7c098-9ad3-499f-b0c0-3208865e6709",
   "metadata": {},
   "outputs": [],
   "source": []
  },
  {
   "cell_type": "code",
   "execution_count": null,
   "id": "3841e8af-eb77-44cf-a6ca-5fad55d09736",
   "metadata": {},
   "outputs": [],
   "source": [
    "#Train"
   ]
  },
  {
   "cell_type": "code",
   "execution_count": 17,
   "id": "135b6700-983a-4e0b-a245-8e86ba7235a4",
   "metadata": {},
   "outputs": [],
   "source": [
    "from keras import Sequential\n",
    "from keras.layers import Dense"
   ]
  },
  {
   "cell_type": "code",
   "execution_count": 21,
   "id": "df5a3833-9c2d-4664-ab4e-087058bc8c34",
   "metadata": {},
   "outputs": [],
   "source": [
    "model = Sequential()\n",
    "model.add(Dense(16, input_dim=8, activation='relu'))\n",
    "model.add(Dense(8, activation='relu'))\n",
    "model.add(Dense(1, activation='sigmoid'))"
   ]
  },
  {
   "cell_type": "code",
   "execution_count": 22,
   "id": "a25432ea-f545-49d7-a69c-4227cdfae0c1",
   "metadata": {},
   "outputs": [
    {
     "name": "stdout",
     "output_type": "stream",
     "text": [
      "Model: \"sequential_4\"\n",
      "_________________________________________________________________\n",
      " Layer (type)                Output Shape              Param #   \n",
      "=================================================================\n",
      " dense_4 (Dense)             (None, 16)                144       \n",
      "                                                                 \n",
      " dense_5 (Dense)             (None, 8)                 136       \n",
      "                                                                 \n",
      " dense_6 (Dense)             (None, 1)                 9         \n",
      "                                                                 \n",
      "=================================================================\n",
      "Total params: 289\n",
      "Trainable params: 289\n",
      "Non-trainable params: 0\n",
      "_________________________________________________________________\n"
     ]
    }
   ],
   "source": [
    "model.summary()"
   ]
  },
  {
   "cell_type": "markdown",
   "id": "25c07962-7bf6-4203-852c-a90e0d27cdeb",
   "metadata": {},
   "source": [
    "#### compile "
   ]
  },
  {
   "cell_type": "code",
   "execution_count": 23,
   "id": "083e0554-ee0e-4bd7-bff2-e7528c7e3cfc",
   "metadata": {},
   "outputs": [],
   "source": [
    "model.compile(loss='binary_crossentropy', optimizer='adam', metrics=['accuracy'])"
   ]
  },
  {
   "cell_type": "markdown",
   "id": "59f1f244-458f-40eb-b607-2dc95a8d77b7",
   "metadata": {},
   "source": [
    "#### Train"
   ]
  },
  {
   "cell_type": "code",
   "execution_count": 25,
   "id": "a30b4b8f-e479-4b55-b419-d16d37ae637d",
   "metadata": {},
   "outputs": [
    {
     "name": "stdout",
     "output_type": "stream",
     "text": [
      "Epoch 1/100\n",
      "62/62 [==============================] - 1s 6ms/step - loss: 8.3205 - accuracy: 0.5499 - val_loss: 1.5326 - val_accuracy: 0.6341\n",
      "Epoch 2/100\n",
      "62/62 [==============================] - 0s 3ms/step - loss: 1.4187 - accuracy: 0.6314 - val_loss: 1.0396 - val_accuracy: 0.7154\n",
      "Epoch 3/100\n",
      "62/62 [==============================] - 0s 2ms/step - loss: 1.3111 - accuracy: 0.6375 - val_loss: 1.4058 - val_accuracy: 0.5772\n",
      "Epoch 4/100\n",
      "62/62 [==============================] - 0s 3ms/step - loss: 1.1456 - accuracy: 0.6354 - val_loss: 0.9335 - val_accuracy: 0.6911\n",
      "Epoch 5/100\n",
      "62/62 [==============================] - 0s 3ms/step - loss: 1.0465 - accuracy: 0.6354 - val_loss: 0.8152 - val_accuracy: 0.6992\n",
      "Epoch 6/100\n",
      "62/62 [==============================] - 0s 3ms/step - loss: 0.9260 - accuracy: 0.6619 - val_loss: 1.0219 - val_accuracy: 0.6992\n",
      "Epoch 7/100\n",
      "62/62 [==============================] - 0s 3ms/step - loss: 0.8765 - accuracy: 0.6456 - val_loss: 0.8453 - val_accuracy: 0.6748\n",
      "Epoch 8/100\n",
      "62/62 [==============================] - 0s 3ms/step - loss: 0.7899 - accuracy: 0.6517 - val_loss: 0.6909 - val_accuracy: 0.7642\n",
      "Epoch 9/100\n",
      "62/62 [==============================] - 0s 3ms/step - loss: 0.7491 - accuracy: 0.6680 - val_loss: 0.7292 - val_accuracy: 0.6992\n",
      "Epoch 10/100\n",
      "62/62 [==============================] - 0s 4ms/step - loss: 0.7336 - accuracy: 0.6701 - val_loss: 0.7023 - val_accuracy: 0.7480\n",
      "Epoch 11/100\n",
      "62/62 [==============================] - 0s 4ms/step - loss: 0.8208 - accuracy: 0.6477 - val_loss: 0.8408 - val_accuracy: 0.6911\n",
      "Epoch 12/100\n",
      "62/62 [==============================] - 0s 3ms/step - loss: 0.7182 - accuracy: 0.6456 - val_loss: 0.6734 - val_accuracy: 0.7642\n",
      "Epoch 13/100\n",
      "62/62 [==============================] - 0s 5ms/step - loss: 0.6700 - accuracy: 0.6823 - val_loss: 0.6852 - val_accuracy: 0.7154\n",
      "Epoch 14/100\n",
      "62/62 [==============================] - 0s 3ms/step - loss: 0.7003 - accuracy: 0.6904 - val_loss: 0.9865 - val_accuracy: 0.5447\n",
      "Epoch 15/100\n",
      "62/62 [==============================] - 0s 3ms/step - loss: 0.6972 - accuracy: 0.6721 - val_loss: 0.6199 - val_accuracy: 0.7236\n",
      "Epoch 16/100\n",
      "62/62 [==============================] - 0s 3ms/step - loss: 0.6789 - accuracy: 0.6701 - val_loss: 0.6881 - val_accuracy: 0.6911\n",
      "Epoch 17/100\n",
      "62/62 [==============================] - 0s 3ms/step - loss: 0.6752 - accuracy: 0.6965 - val_loss: 0.6536 - val_accuracy: 0.6667\n",
      "Epoch 18/100\n",
      "62/62 [==============================] - 0s 3ms/step - loss: 0.7242 - accuracy: 0.6619 - val_loss: 0.6050 - val_accuracy: 0.7317\n",
      "Epoch 19/100\n",
      "62/62 [==============================] - 0s 3ms/step - loss: 0.7618 - accuracy: 0.6436 - val_loss: 0.6604 - val_accuracy: 0.7236\n",
      "Epoch 20/100\n",
      "62/62 [==============================] - 0s 3ms/step - loss: 0.6467 - accuracy: 0.6823 - val_loss: 0.6075 - val_accuracy: 0.7642\n",
      "Epoch 21/100\n",
      "62/62 [==============================] - 0s 3ms/step - loss: 0.6492 - accuracy: 0.6925 - val_loss: 0.6164 - val_accuracy: 0.7154\n",
      "Epoch 22/100\n",
      "62/62 [==============================] - 0s 3ms/step - loss: 0.6059 - accuracy: 0.7026 - val_loss: 0.5480 - val_accuracy: 0.7317\n",
      "Epoch 23/100\n",
      "62/62 [==============================] - 0s 3ms/step - loss: 0.6560 - accuracy: 0.7026 - val_loss: 0.6834 - val_accuracy: 0.6585\n",
      "Epoch 24/100\n",
      "62/62 [==============================] - 0s 3ms/step - loss: 0.6456 - accuracy: 0.6864 - val_loss: 0.6901 - val_accuracy: 0.6585\n",
      "Epoch 25/100\n",
      "62/62 [==============================] - 0s 3ms/step - loss: 0.5931 - accuracy: 0.7210 - val_loss: 0.5888 - val_accuracy: 0.7236\n",
      "Epoch 26/100\n",
      "62/62 [==============================] - 0s 3ms/step - loss: 0.6535 - accuracy: 0.6986 - val_loss: 0.6064 - val_accuracy: 0.7073\n",
      "Epoch 27/100\n",
      "62/62 [==============================] - 0s 3ms/step - loss: 0.6133 - accuracy: 0.7149 - val_loss: 0.5533 - val_accuracy: 0.7642\n",
      "Epoch 28/100\n",
      "62/62 [==============================] - 0s 3ms/step - loss: 0.6497 - accuracy: 0.6823 - val_loss: 0.5722 - val_accuracy: 0.7154\n",
      "Epoch 29/100\n",
      "62/62 [==============================] - 0s 4ms/step - loss: 0.5910 - accuracy: 0.7026 - val_loss: 0.5241 - val_accuracy: 0.7317\n",
      "Epoch 30/100\n",
      "62/62 [==============================] - 0s 3ms/step - loss: 0.6481 - accuracy: 0.6823 - val_loss: 0.5942 - val_accuracy: 0.7236\n",
      "Epoch 31/100\n",
      "62/62 [==============================] - 0s 3ms/step - loss: 0.5856 - accuracy: 0.6965 - val_loss: 0.5815 - val_accuracy: 0.7561\n",
      "Epoch 32/100\n",
      "62/62 [==============================] - 0s 3ms/step - loss: 0.6089 - accuracy: 0.7169 - val_loss: 0.5343 - val_accuracy: 0.7398\n",
      "Epoch 33/100\n",
      "62/62 [==============================] - 0s 3ms/step - loss: 0.6050 - accuracy: 0.6884 - val_loss: 0.7561 - val_accuracy: 0.6911\n",
      "Epoch 34/100\n",
      "62/62 [==============================] - 0s 3ms/step - loss: 0.6770 - accuracy: 0.7169 - val_loss: 0.5418 - val_accuracy: 0.7724\n",
      "Epoch 35/100\n",
      "62/62 [==============================] - 0s 3ms/step - loss: 0.5875 - accuracy: 0.7047 - val_loss: 0.5300 - val_accuracy: 0.7398\n",
      "Epoch 36/100\n",
      "62/62 [==============================] - 0s 3ms/step - loss: 0.5666 - accuracy: 0.7108 - val_loss: 0.5846 - val_accuracy: 0.7561\n",
      "Epoch 37/100\n",
      "62/62 [==============================] - 0s 3ms/step - loss: 0.6461 - accuracy: 0.6965 - val_loss: 0.5194 - val_accuracy: 0.7642\n",
      "Epoch 38/100\n",
      "62/62 [==============================] - 0s 3ms/step - loss: 0.5708 - accuracy: 0.7251 - val_loss: 0.6097 - val_accuracy: 0.7236\n",
      "Epoch 39/100\n",
      "62/62 [==============================] - 0s 3ms/step - loss: 0.5995 - accuracy: 0.6965 - val_loss: 0.5147 - val_accuracy: 0.7236\n",
      "Epoch 40/100\n",
      "62/62 [==============================] - 0s 3ms/step - loss: 0.6253 - accuracy: 0.6965 - val_loss: 0.5936 - val_accuracy: 0.7154\n",
      "Epoch 41/100\n",
      "62/62 [==============================] - 0s 3ms/step - loss: 0.5681 - accuracy: 0.7149 - val_loss: 0.5273 - val_accuracy: 0.7642\n",
      "Epoch 42/100\n",
      "62/62 [==============================] - 0s 3ms/step - loss: 0.6759 - accuracy: 0.6782 - val_loss: 0.6432 - val_accuracy: 0.7398\n",
      "Epoch 43/100\n",
      "62/62 [==============================] - 0s 3ms/step - loss: 0.5756 - accuracy: 0.7271 - val_loss: 0.5221 - val_accuracy: 0.7317\n",
      "Epoch 44/100\n",
      "62/62 [==============================] - 0s 3ms/step - loss: 0.5684 - accuracy: 0.7169 - val_loss: 0.5112 - val_accuracy: 0.7967\n",
      "Epoch 45/100\n",
      "62/62 [==============================] - 0s 3ms/step - loss: 0.5945 - accuracy: 0.7006 - val_loss: 0.6522 - val_accuracy: 0.7154\n",
      "Epoch 46/100\n",
      "62/62 [==============================] - 0s 3ms/step - loss: 0.5786 - accuracy: 0.7006 - val_loss: 0.4979 - val_accuracy: 0.7480\n",
      "Epoch 47/100\n",
      "62/62 [==============================] - 0s 3ms/step - loss: 0.5538 - accuracy: 0.7149 - val_loss: 0.5435 - val_accuracy: 0.7398\n",
      "Epoch 48/100\n",
      "62/62 [==============================] - 0s 3ms/step - loss: 0.6139 - accuracy: 0.6965 - val_loss: 0.5870 - val_accuracy: 0.7073\n",
      "Epoch 49/100\n",
      "62/62 [==============================] - 0s 5ms/step - loss: 0.5629 - accuracy: 0.7189 - val_loss: 0.5086 - val_accuracy: 0.7642\n",
      "Epoch 50/100\n",
      "62/62 [==============================] - 0s 3ms/step - loss: 0.5736 - accuracy: 0.7271 - val_loss: 0.5371 - val_accuracy: 0.7317\n",
      "Epoch 51/100\n",
      "62/62 [==============================] - 0s 3ms/step - loss: 0.6163 - accuracy: 0.7067 - val_loss: 0.5348 - val_accuracy: 0.7561\n",
      "Epoch 52/100\n",
      "62/62 [==============================] - 0s 3ms/step - loss: 0.6115 - accuracy: 0.7149 - val_loss: 0.5495 - val_accuracy: 0.7480\n",
      "Epoch 53/100\n",
      "62/62 [==============================] - 0s 3ms/step - loss: 0.6842 - accuracy: 0.6925 - val_loss: 0.7505 - val_accuracy: 0.5691\n",
      "Epoch 54/100\n",
      "62/62 [==============================] - 0s 3ms/step - loss: 0.5622 - accuracy: 0.7352 - val_loss: 0.5975 - val_accuracy: 0.6992\n",
      "Epoch 55/100\n",
      "62/62 [==============================] - 0s 3ms/step - loss: 0.5705 - accuracy: 0.7373 - val_loss: 0.5562 - val_accuracy: 0.7317\n",
      "Epoch 56/100\n",
      "62/62 [==============================] - 0s 3ms/step - loss: 0.5816 - accuracy: 0.7189 - val_loss: 0.6115 - val_accuracy: 0.6585\n",
      "Epoch 57/100\n",
      "62/62 [==============================] - 0s 3ms/step - loss: 0.5908 - accuracy: 0.7210 - val_loss: 0.5217 - val_accuracy: 0.7236\n",
      "Epoch 58/100\n",
      "62/62 [==============================] - 0s 3ms/step - loss: 0.5576 - accuracy: 0.7312 - val_loss: 0.5180 - val_accuracy: 0.7724\n",
      "Epoch 59/100\n",
      "62/62 [==============================] - 0s 3ms/step - loss: 0.5690 - accuracy: 0.7149 - val_loss: 0.8503 - val_accuracy: 0.6016\n",
      "Epoch 60/100\n",
      "62/62 [==============================] - 0s 3ms/step - loss: 0.6464 - accuracy: 0.6925 - val_loss: 0.5005 - val_accuracy: 0.7236\n",
      "Epoch 61/100\n",
      "62/62 [==============================] - 0s 3ms/step - loss: 0.5663 - accuracy: 0.7128 - val_loss: 0.5917 - val_accuracy: 0.7154\n",
      "Epoch 62/100\n",
      "62/62 [==============================] - 0s 4ms/step - loss: 0.5519 - accuracy: 0.7169 - val_loss: 0.5137 - val_accuracy: 0.7724\n",
      "Epoch 63/100\n",
      "62/62 [==============================] - 0s 3ms/step - loss: 0.5490 - accuracy: 0.7373 - val_loss: 0.5024 - val_accuracy: 0.7561\n",
      "Epoch 64/100\n",
      "62/62 [==============================] - 0s 4ms/step - loss: 0.5321 - accuracy: 0.7495 - val_loss: 0.5245 - val_accuracy: 0.7642\n",
      "Epoch 65/100\n",
      "62/62 [==============================] - 0s 3ms/step - loss: 0.5967 - accuracy: 0.6965 - val_loss: 0.5383 - val_accuracy: 0.7561\n",
      "Epoch 66/100\n",
      "62/62 [==============================] - 0s 3ms/step - loss: 0.5492 - accuracy: 0.7169 - val_loss: 0.5168 - val_accuracy: 0.7561\n",
      "Epoch 67/100\n",
      "62/62 [==============================] - 0s 3ms/step - loss: 0.5889 - accuracy: 0.7352 - val_loss: 0.5287 - val_accuracy: 0.7724\n",
      "Epoch 68/100\n",
      "62/62 [==============================] - 0s 3ms/step - loss: 0.6504 - accuracy: 0.7230 - val_loss: 0.5248 - val_accuracy: 0.7480\n",
      "Epoch 69/100\n",
      "62/62 [==============================] - 0s 4ms/step - loss: 0.6266 - accuracy: 0.6864 - val_loss: 0.6136 - val_accuracy: 0.7480\n",
      "Epoch 70/100\n",
      "62/62 [==============================] - 0s 3ms/step - loss: 0.6160 - accuracy: 0.7189 - val_loss: 0.5177 - val_accuracy: 0.7967\n",
      "Epoch 71/100\n",
      "62/62 [==============================] - 0s 4ms/step - loss: 0.5668 - accuracy: 0.7434 - val_loss: 0.4997 - val_accuracy: 0.7724\n",
      "Epoch 72/100\n",
      "62/62 [==============================] - 0s 3ms/step - loss: 0.5302 - accuracy: 0.7332 - val_loss: 0.5142 - val_accuracy: 0.7398\n",
      "Epoch 73/100\n",
      "62/62 [==============================] - 0s 3ms/step - loss: 0.6345 - accuracy: 0.7271 - val_loss: 0.5400 - val_accuracy: 0.7398\n",
      "Epoch 74/100\n",
      "62/62 [==============================] - 0s 3ms/step - loss: 0.5358 - accuracy: 0.7413 - val_loss: 0.5151 - val_accuracy: 0.7642\n",
      "Epoch 75/100\n",
      "62/62 [==============================] - 0s 5ms/step - loss: 0.5958 - accuracy: 0.7230 - val_loss: 0.5439 - val_accuracy: 0.7642\n",
      "Epoch 76/100\n",
      "62/62 [==============================] - 0s 3ms/step - loss: 0.5326 - accuracy: 0.7495 - val_loss: 0.4947 - val_accuracy: 0.7642\n",
      "Epoch 77/100\n",
      "62/62 [==============================] - 0s 3ms/step - loss: 0.5378 - accuracy: 0.7556 - val_loss: 0.4957 - val_accuracy: 0.7480\n",
      "Epoch 78/100\n",
      "62/62 [==============================] - 0s 3ms/step - loss: 0.5235 - accuracy: 0.7332 - val_loss: 0.5807 - val_accuracy: 0.7886\n",
      "Epoch 79/100\n",
      "62/62 [==============================] - 0s 3ms/step - loss: 0.5050 - accuracy: 0.7454 - val_loss: 0.5264 - val_accuracy: 0.7886\n",
      "Epoch 80/100\n",
      "62/62 [==============================] - 0s 3ms/step - loss: 0.6216 - accuracy: 0.7067 - val_loss: 0.5116 - val_accuracy: 0.7398\n",
      "Epoch 81/100\n",
      "62/62 [==============================] - 0s 3ms/step - loss: 0.6237 - accuracy: 0.7189 - val_loss: 0.6316 - val_accuracy: 0.7154\n",
      "Epoch 82/100\n",
      "62/62 [==============================] - 0s 3ms/step - loss: 0.5422 - accuracy: 0.7495 - val_loss: 0.5300 - val_accuracy: 0.7480\n",
      "Epoch 83/100\n",
      "62/62 [==============================] - 0s 3ms/step - loss: 0.4957 - accuracy: 0.7536 - val_loss: 0.7180 - val_accuracy: 0.6098\n",
      "Epoch 84/100\n",
      "62/62 [==============================] - 0s 3ms/step - loss: 0.5724 - accuracy: 0.7434 - val_loss: 0.5456 - val_accuracy: 0.7480\n",
      "Epoch 85/100\n",
      "62/62 [==============================] - 0s 3ms/step - loss: 0.5337 - accuracy: 0.7495 - val_loss: 0.5589 - val_accuracy: 0.7561\n",
      "Epoch 86/100\n",
      "62/62 [==============================] - 0s 3ms/step - loss: 0.5559 - accuracy: 0.7332 - val_loss: 0.5102 - val_accuracy: 0.7805\n",
      "Epoch 87/100\n",
      "62/62 [==============================] - 0s 3ms/step - loss: 0.5824 - accuracy: 0.7352 - val_loss: 0.4955 - val_accuracy: 0.7805\n",
      "Epoch 88/100\n",
      "62/62 [==============================] - 0s 3ms/step - loss: 0.5350 - accuracy: 0.7454 - val_loss: 0.4860 - val_accuracy: 0.7724\n",
      "Epoch 89/100\n",
      "62/62 [==============================] - 0s 3ms/step - loss: 0.5122 - accuracy: 0.7719 - val_loss: 0.5126 - val_accuracy: 0.7967\n",
      "Epoch 90/100\n",
      "62/62 [==============================] - 0s 3ms/step - loss: 0.5493 - accuracy: 0.7373 - val_loss: 0.5328 - val_accuracy: 0.7805\n",
      "Epoch 91/100\n",
      "62/62 [==============================] - 0s 3ms/step - loss: 0.5861 - accuracy: 0.7515 - val_loss: 0.6659 - val_accuracy: 0.6179\n",
      "Epoch 92/100\n",
      "62/62 [==============================] - 0s 3ms/step - loss: 0.5831 - accuracy: 0.7332 - val_loss: 0.5276 - val_accuracy: 0.7805\n",
      "Epoch 93/100\n",
      "62/62 [==============================] - 0s 3ms/step - loss: 0.5822 - accuracy: 0.7189 - val_loss: 0.5042 - val_accuracy: 0.7398\n",
      "Epoch 94/100\n",
      "62/62 [==============================] - 0s 3ms/step - loss: 0.5013 - accuracy: 0.7597 - val_loss: 0.5896 - val_accuracy: 0.7073\n",
      "Epoch 95/100\n",
      "62/62 [==============================] - 0s 3ms/step - loss: 0.5202 - accuracy: 0.7617 - val_loss: 0.5067 - val_accuracy: 0.8049\n",
      "Epoch 96/100\n",
      "62/62 [==============================] - 0s 3ms/step - loss: 0.5309 - accuracy: 0.7373 - val_loss: 0.4989 - val_accuracy: 0.7805\n",
      "Epoch 97/100\n",
      "62/62 [==============================] - 0s 3ms/step - loss: 0.5439 - accuracy: 0.7373 - val_loss: 0.4942 - val_accuracy: 0.7805\n",
      "Epoch 98/100\n",
      "62/62 [==============================] - 0s 3ms/step - loss: 0.5315 - accuracy: 0.7373 - val_loss: 0.5934 - val_accuracy: 0.6911\n",
      "Epoch 99/100\n",
      "62/62 [==============================] - 0s 3ms/step - loss: 0.5486 - accuracy: 0.7189 - val_loss: 0.7667 - val_accuracy: 0.5447\n",
      "Epoch 100/100\n",
      "62/62 [==============================] - 0s 3ms/step - loss: 0.7643 - accuracy: 0.6640 - val_loss: 0.6251 - val_accuracy: 0.7317\n"
     ]
    },
    {
     "data": {
      "text/plain": [
       "<keras.callbacks.History at 0x2c07a6c2410>"
      ]
     },
     "execution_count": 25,
     "metadata": {},
     "output_type": "execute_result"
    }
   ],
   "source": [
    "model.fit(x_train, y_train, epochs=100, batch_size=8, validation_data=(x_val, y_val))"
   ]
  },
  {
   "cell_type": "code",
   "execution_count": 26,
   "id": "2a85ba6b-7e07-44ad-9bfd-e94abab073fe",
   "metadata": {},
   "outputs": [],
   "source": [
    "model.save(\"mymodel.h5\")"
   ]
  },
  {
   "cell_type": "markdown",
   "id": "7faf32b1-b817-4781-b9e7-5045ad246da3",
   "metadata": {},
   "source": [
    "#### load model"
   ]
  },
  {
   "cell_type": "code",
   "execution_count": 27,
   "id": "44d4b46b-adcb-41a2-81a1-55264af73fad",
   "metadata": {},
   "outputs": [],
   "source": [
    "from keras.models import load_model"
   ]
  },
  {
   "cell_type": "code",
   "execution_count": 28,
   "id": "05d321e8-13d0-4dee-9f5d-30fe3978cac7",
   "metadata": {},
   "outputs": [],
   "source": [
    "my_model = load_model(\"mymodel.h5\")"
   ]
  },
  {
   "cell_type": "code",
   "execution_count": 29,
   "id": "ba867694-2293-4c05-aca9-8fd6bedbec23",
   "metadata": {},
   "outputs": [
    {
     "name": "stdout",
     "output_type": "stream",
     "text": [
      "5/5 [==============================] - 0s 2ms/step - loss: 0.8592 - accuracy: 0.6883\n"
     ]
    }
   ],
   "source": [
    "loss, acc = my_model.evaluate(x_test, y_test)"
   ]
  },
  {
   "cell_type": "code",
   "execution_count": 30,
   "id": "5289ce81-c177-4fd6-a4c5-b4a2280e9e0b",
   "metadata": {},
   "outputs": [
    {
     "data": {
      "text/plain": [
       "0.8591516613960266"
      ]
     },
     "execution_count": 30,
     "metadata": {},
     "output_type": "execute_result"
    }
   ],
   "source": [
    "loss"
   ]
  },
  {
   "cell_type": "code",
   "execution_count": 31,
   "id": "e2526405-36a7-4c34-a919-acaf1202d6ca",
   "metadata": {},
   "outputs": [
    {
     "data": {
      "text/plain": [
       "0.6883116960525513"
      ]
     },
     "execution_count": 31,
     "metadata": {},
     "output_type": "execute_result"
    }
   ],
   "source": [
    "acc"
   ]
  },
  {
   "cell_type": "markdown",
   "id": "9839dcd4-5f2e-4bf6-afbb-baeadc9e463a",
   "metadata": {},
   "source": [
    "#### apply"
   ]
  },
  {
   "cell_type": "code",
   "execution_count": 35,
   "id": "a6f467ba-7bdb-4ff3-93b7-ad63860f8d25",
   "metadata": {},
   "outputs": [],
   "source": [
    "x_10 = x_test[10]\n",
    "y_10 = y_test[10]"
   ]
  },
  {
   "cell_type": "code",
   "execution_count": 36,
   "id": "3403cb85-9edf-45ad-b754-af48e26bf728",
   "metadata": {},
   "outputs": [],
   "source": [
    "import numpy"
   ]
  },
  {
   "cell_type": "code",
   "execution_count": 38,
   "id": "a162770e-46f2-4aa3-88b3-9ee928b7c53f",
   "metadata": {},
   "outputs": [],
   "source": [
    "x_10 = numpy.expand_dims(x_10, axis=0)"
   ]
  },
  {
   "cell_type": "code",
   "execution_count": 39,
   "id": "3047bf4f-3560-4945-a41c-f8da5646010e",
   "metadata": {},
   "outputs": [
    {
     "name": "stdout",
     "output_type": "stream",
     "text": [
      "1/1 [==============================] - 0s 74ms/step\n"
     ]
    }
   ],
   "source": [
    "y_predict = my_model.predict(x_10)"
   ]
  },
  {
   "cell_type": "code",
   "execution_count": 40,
   "id": "98cbad1a-3616-4cd2-a1fa-359aa6ea2237",
   "metadata": {},
   "outputs": [
    {
     "data": {
      "text/plain": [
       "array([[0.2707095]], dtype=float32)"
      ]
     },
     "execution_count": 40,
     "metadata": {},
     "output_type": "execute_result"
    }
   ],
   "source": [
    "y_predict"
   ]
  },
  {
   "cell_type": "code",
   "execution_count": 41,
   "id": "4bc6b5b3-4dd9-45c8-8089-eaea031a8eb4",
   "metadata": {},
   "outputs": [
    {
     "data": {
      "text/plain": [
       "0.0"
      ]
     },
     "execution_count": 41,
     "metadata": {},
     "output_type": "execute_result"
    }
   ],
   "source": [
    "y_10"
   ]
  },
  {
   "cell_type": "code",
   "execution_count": null,
   "id": "15954847-ed5e-4cf9-9361-7302ced7765b",
   "metadata": {},
   "outputs": [],
   "source": []
  }
 ],
 "metadata": {
  "kernelspec": {
   "display_name": "Python 3 (ipykernel)",
   "language": "python",
   "name": "python3"
  },
  "language_info": {
   "codemirror_mode": {
    "name": "ipython",
    "version": 3
   },
   "file_extension": ".py",
   "mimetype": "text/x-python",
   "name": "python",
   "nbconvert_exporter": "python",
   "pygments_lexer": "ipython3",
   "version": "3.10.2"
  }
 },
 "nbformat": 4,
 "nbformat_minor": 5
}
