{
 "cells": [
  {
   "cell_type": "markdown",
   "id": "9029fe37-3524-48f9-9320-28f1934fa063",
   "metadata": {},
   "source": [
    "## Keras and CNN network"
   ]
  },
  {
   "cell_type": "markdown",
   "id": "3a770dfe-495b-47a7-92af-e10fa529db29",
   "metadata": {},
   "source": [
    "Detect handwritten"
   ]
  },
  {
   "cell_type": "code",
   "execution_count": 23,
   "id": "3100431a-59dd-4128-94b5-0ffb20b49b34",
   "metadata": {},
   "outputs": [],
   "source": [
    "from keras.models import Sequential, load_model\n",
    "from keras.layers import Dense, Conv2D, Flatten, MaxPooling2D\n",
    "from keras.datasets import mnist\n",
    "from keras.utils import to_categorical\n",
    "import numpy as np\n",
    "import matplotlib.pyplot as plt"
   ]
  },
  {
   "cell_type": "code",
   "execution_count": 2,
   "id": "6ddd4acd-c7ff-4459-8c40-bea444f968a6",
   "metadata": {},
   "outputs": [],
   "source": [
    "(x_train, y_train), (x_test, y_test) = mnist.load_data()"
   ]
  },
  {
   "cell_type": "code",
   "execution_count": 31,
   "id": "27246b42-cf54-4ca7-9403-ce6587d65f71",
   "metadata": {},
   "outputs": [],
   "source": [
    "(x_train_org, y_train_org), (x_test_org, y_test_org) = mnist.load_data()"
   ]
  },
  {
   "cell_type": "code",
   "execution_count": 3,
   "id": "7c7e6451-d285-4866-a7f3-b8ba5da4691d",
   "metadata": {},
   "outputs": [
    {
     "name": "stdout",
     "output_type": "stream",
     "text": [
      "(60000, 28, 28)\n",
      "(60000,)\n",
      "(10000, 28, 28)\n",
      "(10000,)\n"
     ]
    }
   ],
   "source": [
    "print(x_train.shape)\n",
    "print(y_train.shape)\n",
    "print(x_test.shape)\n",
    "print(y_test.shape)"
   ]
  },
  {
   "cell_type": "code",
   "execution_count": 4,
   "id": "bf6d2034-4d4a-4247-9c1c-bc940f955445",
   "metadata": {},
   "outputs": [
    {
     "data": {
      "text/plain": [
       "<matplotlib.image.AxesImage at 0x1f854e05630>"
      ]
     },
     "execution_count": 4,
     "metadata": {},
     "output_type": "execute_result"
    },
    {
     "data": {
      "image/png": "[encoded data removed]",
      "text/plain": [
       "<Figure size 432x288 with 1 Axes>"
      ]
     },
     "metadata": {
      "needs_background": "light"
     },
     "output_type": "display_data"
    }
   ],
   "source": [
    "plt.imshow(x_train[10])"
   ]
  },
  {
   "cell_type": "code",
   "execution_count": 5,
   "id": "5dcfebd0-793e-496f-a78b-4fda974843d6",
   "metadata": {},
   "outputs": [],
   "source": [
    "x_train = x_train.reshape(60000, 28, 28, 1)\n",
    "x_test = x_test.reshape(10000, 28, 28, 1)"
   ]
  },
  {
   "cell_type": "code",
   "execution_count": 6,
   "id": "9a3f13f7-4586-41c3-bda8-bef0ee3fd443",
   "metadata": {},
   "outputs": [
    {
     "name": "stdout",
     "output_type": "stream",
     "text": [
      "(60000, 28, 28, 1)\n",
      "(10000, 28, 28, 1)\n"
     ]
    }
   ],
   "source": [
    "print(x_train.shape)\n",
    "print(x_test.shape)"
   ]
  },
  {
   "cell_type": "code",
   "execution_count": 7,
   "id": "5e50149e-a2ec-4df1-bc60-b1c36bcaa31b",
   "metadata": {},
   "outputs": [],
   "source": [
    "y_train = to_categorical(y_train)"
   ]
  },
  {
   "cell_type": "code",
   "execution_count": 8,
   "id": "e2d34362-56ea-4739-ac30-1b6a9ea9bd4c",
   "metadata": {},
   "outputs": [],
   "source": [
    "y_test = to_categorical(y_test)"
   ]
  },
  {
   "cell_type": "code",
   "execution_count": 9,
   "id": "ca408ced-27e0-44a2-a470-6c0add56d012",
   "metadata": {},
   "outputs": [
    {
     "data": {
      "text/plain": [
       "array([0., 0., 0., 0., 0., 1., 0., 0., 0., 0.], dtype=float32)"
      ]
     },
     "execution_count": 9,
     "metadata": {},
     "output_type": "execute_result"
    }
   ],
   "source": [
    "y_train[0]"
   ]
  },
  {
   "cell_type": "code",
   "execution_count": 10,
   "id": "139abde5-e3ed-40a6-a358-4c8bfa5efcd6",
   "metadata": {},
   "outputs": [
    {
     "data": {
      "text/plain": [
       "array([0., 0., 0., 0., 0., 0., 0., 1., 0., 0.], dtype=float32)"
      ]
     },
     "execution_count": 10,
     "metadata": {},
     "output_type": "execute_result"
    }
   ],
   "source": [
    "y_test[0]"
   ]
  },
  {
   "cell_type": "markdown",
   "id": "59e290fe-e6d3-4bd1-870c-18574006bebc",
   "metadata": {},
   "source": [
    "### Model"
   ]
  },
  {
   "cell_type": "code",
   "execution_count": 12,
   "id": "183a210b-813a-48d8-82cf-b6cfd360c515",
   "metadata": {},
   "outputs": [],
   "source": [
    "model = Sequential()"
   ]
  },
  {
   "cell_type": "code",
   "execution_count": 13,
   "id": "0b85e7f7-7c99-404b-8959-45c89578264a",
   "metadata": {},
   "outputs": [],
   "source": [
    "model.add(Conv2D(64, kernel_size=(3, 3), activation='relu', input_shape=(28, 28, 1), padding='same'))"
   ]
  },
  {
   "cell_type": "code",
   "execution_count": 14,
   "id": "945eec03-2e99-4dea-91a7-0c4508d72a1f",
   "metadata": {},
   "outputs": [],
   "source": [
    "model.add(MaxPooling2D(pool_size=(2, 2), strides=2))"
   ]
  },
  {
   "cell_type": "code",
   "execution_count": 15,
   "id": "949983f9-3742-4936-8b0c-dc87bba277e9",
   "metadata": {},
   "outputs": [],
   "source": [
    "model.add(Conv2D(32, kernel_size=(3, 3), activation='relu', padding='same'))"
   ]
  },
  {
   "cell_type": "code",
   "execution_count": 16,
   "id": "9dfa77d0-ee77-42f8-a7f2-905a97bfe195",
   "metadata": {},
   "outputs": [],
   "source": [
    "model.add(MaxPooling2D(pool_size=(2, 2), strides=2))"
   ]
  },
  {
   "cell_type": "code",
   "execution_count": 17,
   "id": "03296ff3-4d1d-41c8-b622-d1a0bb161e4e",
   "metadata": {},
   "outputs": [],
   "source": [
    "model.add(Flatten())"
   ]
  },
  {
   "cell_type": "code",
   "execution_count": 18,
   "id": "4946a337-017c-471c-a48e-49b591d7ae62",
   "metadata": {},
   "outputs": [],
   "source": [
    "model.add(Dense(10, activation='softmax'))"
   ]
  },
  {
   "cell_type": "code",
   "execution_count": null,
   "id": "2f549005-1f28-4ea6-95f0-5fb0994e2d7d",
   "metadata": {},
   "outputs": [],
   "source": []
  },
  {
   "cell_type": "code",
   "execution_count": 19,
   "id": "423077c0-613a-46c0-9835-0bb52420667b",
   "metadata": {},
   "outputs": [],
   "source": [
    "model.compile(optimizer='adam', loss='categorical_crossentropy', metrics=['accuracy'])"
   ]
  },
  {
   "cell_type": "code",
   "execution_count": 20,
   "id": "1d35e426-be40-4a38-9903-08d3c1beb85a",
   "metadata": {},
   "outputs": [
    {
     "name": "stdout",
     "output_type": "stream",
     "text": [
      "Model: \"sequential\"\n",
      "_________________________________________________________________\n",
      " Layer (type)                Output Shape              Param #   \n",
      "=================================================================\n",
      " conv2d (Conv2D)             (None, 28, 28, 64)        640       \n",
      "                                                                 \n",
      " max_pooling2d (MaxPooling2D  (None, 14, 14, 64)       0         \n",
      " )                                                               \n",
      "                                                                 \n",
      " conv2d_1 (Conv2D)           (None, 14, 14, 32)        18464     \n",
      "                                                                 \n",
      " max_pooling2d_1 (MaxPooling  (None, 7, 7, 32)         0         \n",
      " 2D)                                                             \n",
      "                                                                 \n",
      " flatten (Flatten)           (None, 1568)              0         \n",
      "                                                                 \n",
      " dense (Dense)               (None, 10)                15690     \n",
      "                                                                 \n",
      "=================================================================\n",
      "Total params: 34,794\n",
      "Trainable params: 34,794\n",
      "Non-trainable params: 0\n",
      "_________________________________________________________________\n"
     ]
    }
   ],
   "source": [
    "model.summary()"
   ]
  },
  {
   "cell_type": "markdown",
   "id": "e2bbb97d-f1b2-4220-972b-2512d4818412",
   "metadata": {},
   "source": [
    "### Train"
   ]
  },
  {
   "cell_type": "code",
   "execution_count": 21,
   "id": "f653a953-0c2f-4f5d-9778-23f717c8d0b9",
   "metadata": {},
   "outputs": [
    {
     "name": "stdout",
     "output_type": "stream",
     "text": [
      "Epoch 1/3\n",
      "1875/1875 [==============================] - 91s 48ms/step - loss: 0.2587 - accuracy: 0.9449 - val_loss: 0.0819 - val_accuracy: 0.9723\n",
      "Epoch 2/3\n",
      "1875/1875 [==============================] - 88s 47ms/step - loss: 0.0763 - accuracy: 0.9774 - val_loss: 0.0728 - val_accuracy: 0.9771\n",
      "Epoch 3/3\n",
      "1875/1875 [==============================] - 89s 48ms/step - loss: 0.0610 - accuracy: 0.9819 - val_loss: 0.0660 - val_accuracy: 0.9799\n"
     ]
    },
    {
     "data": {
      "text/plain": [
       "<keras.callbacks.History at 0x1f85ca2bca0>"
      ]
     },
     "execution_count": 21,
     "metadata": {},
     "output_type": "execute_result"
    }
   ],
   "source": [
    "model.fit(x_train, y_train, validation_data=(x_test, y_test), epochs=3)"
   ]
  },
  {
   "cell_type": "code",
   "execution_count": 22,
   "id": "410b7a15-381f-4961-92f0-297a8198091e",
   "metadata": {},
   "outputs": [],
   "source": [
    "model.save(\"mnist.h5\")"
   ]
  },
  {
   "cell_type": "code",
   "execution_count": 24,
   "id": "10f73e3b-100d-4874-bd9d-704a3cb02021",
   "metadata": {},
   "outputs": [],
   "source": [
    "my_model = load_model(\"mnist.h5\")"
   ]
  },
  {
   "cell_type": "code",
   "execution_count": 25,
   "id": "13213fe0-4e64-421b-9689-e05939860c5b",
   "metadata": {},
   "outputs": [
    {
     "name": "stdout",
     "output_type": "stream",
     "text": [
      "313/313 [==============================] - 5s 14ms/step - loss: 0.0660 - accuracy: 0.9799\n"
     ]
    }
   ],
   "source": [
    "loss, acc = my_model.evaluate(x_test, y_test)"
   ]
  },
  {
   "cell_type": "code",
   "execution_count": 46,
   "id": "03093917-3874-43bf-9900-ffb56ade40a0",
   "metadata": {},
   "outputs": [
    {
     "name": "stdout",
     "output_type": "stream",
     "text": [
      "1/1 [==============================] - 0s 32ms/step\n",
      "[[1.07947201e-07 2.40313666e-14 7.75205178e-10 3.83908703e-11\n",
      "  3.66141239e-06 5.67128455e-10 2.64822310e-15 7.17702235e-08\n",
      "  3.36748099e-06 9.99992847e-01]\n",
      " [1.57117839e-08 3.51301321e-10 5.62984503e-09 3.86805752e-08\n",
      "  7.55929347e-11 4.11458534e-10 6.10467167e-17 1.00000000e+00\n",
      "  3.01315266e-12 1.38915146e-08]\n",
      " [2.90027619e-05 1.48836378e-07 6.34109089e-03 9.20931935e-01\n",
      "  1.84839650e-04 7.22779110e-02 5.08989046e-07 1.13996293e-07\n",
      "  2.34353691e-04 9.73236354e-08]\n",
      " [5.07372430e-14 5.67472336e-09 5.20821164e-10 1.45903938e-12\n",
      "  9.99999642e-01 2.96318275e-10 8.60190545e-17 1.16070289e-07\n",
      "  1.67327514e-07 2.60369468e-08]\n",
      " [1.00901704e-10 4.25412100e-06 2.00138015e-06 6.65157393e-04\n",
      "  2.27367412e-02 1.32720434e-05 2.61852036e-13 2.69831140e-02\n",
      "  2.31869876e-06 9.49593246e-01]]\n",
      "[9 7 3 4 9]\n"
     ]
    }
   ],
   "source": [
    "y_hat = my_model.predict(x_test[16:21])\n",
    "print(y_hat)\n",
    "y_label = np.argmax(y_hat, axis=1)\n",
    "print(y_label)"
   ]
  },
  {
   "cell_type": "code",
   "execution_count": 48,
   "id": "3a58052e-cc88-46d8-8c34-847bb5f55b3b",
   "metadata": {},
   "outputs": [
    {
     "data": {
      "text/plain": [
       "<matplotlib.image.AxesImage at 0x1f866e96b00>"
      ]
     },
     "execution_count": 48,
     "metadata": {},
     "output_type": "execute_result"
    },
    {
     "data": {
      "image/png": "[encoded data removed]",
      "text/plain": [
       "<Figure size 432x288 with 1 Axes>"
      ]
     },
     "metadata": {
      "needs_background": "light"
     },
     "output_type": "display_data"
    }
   ],
   "source": [
    "plt.imshow(x_test_org[19])"
   ]
  },
  {
   "cell_type": "code",
   "execution_count": null,
   "id": "9c91d04b-e2b2-422e-a71b-cb746352a8c4",
   "metadata": {},
   "outputs": [],
   "source": []
  }
 ],
 "metadata": {
  "kernelspec": {
   "display_name": "Python 3 (ipykernel)",
   "language": "python",
   "name": "python3"
  },
  "language_info": {
   "codemirror_mode": {
    "name": "ipython",
    "version": 3
   },
   "file_extension": ".py",
   "mimetype": "text/x-python",
   "name": "python",
   "nbconvert_exporter": "python",
   "pygments_lexer": "ipython3",
   "version": "3.10.2"
  }
 },
 "nbformat": 4,
 "nbformat_minor": 5
}
