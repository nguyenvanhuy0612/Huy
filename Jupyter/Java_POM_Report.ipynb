{
 "cells": [
  {
   "cell_type": "code",
   "execution_count": 1,
   "id": "030422f2-5818-4899-92ba-c81a396dbb43",
   "metadata": {},
   "outputs": [],
   "source": [
    "%%loadFromPOM\n",
    "<dependencies>\n",
    "    <!-- https://mvnrepository.com/artifact/org.testng/testng -->\n",
    "    <dependency>\n",
    "        <groupId>org.testng</groupId>\n",
    "        <artifactId>testng</artifactId>\n",
    "        <version>7.4.0</version>\n",
    "    </dependency>\n",
    "    <dependency>\n",
    "        <groupId>junit</groupId>\n",
    "        <artifactId>junit</artifactId>\n",
    "        <version>4.13.2</version>\n",
    "    </dependency>\n",
    "    <dependency>\n",
    "        <groupId>org.junit.jupiter</groupId>\n",
    "        <artifactId>junit-jupiter-engine</artifactId>\n",
    "        <version>5.8.1</version>\n",
    "    </dependency>\n",
    "    <dependency>\n",
    "        <groupId>org.seleniumhq.selenium</groupId>\n",
    "        <artifactId>selenium-java</artifactId>\n",
    "        <version>4.0.0</version>\n",
    "    </dependency>\n",
    "    <dependency>\n",
    "        <groupId>io.github.bonigarcia</groupId>\n",
    "        <artifactId>webdrivermanager</artifactId>\n",
    "        <version>5.0.2</version>\n",
    "    </dependency>\n",
    "    <dependency>\n",
    "        <groupId>log4j</groupId>\n",
    "        <artifactId>log4j</artifactId>\n",
    "        <version>1.2.17</version>\n",
    "    </dependency>\n",
    "    <dependency>\n",
    "        <groupId>org.json</groupId>\n",
    "        <artifactId>json</artifactId>\n",
    "        <version>20210307</version>\n",
    "    </dependency>\n",
    "    <dependency>\n",
    "        <groupId>com.google.code.gson</groupId>\n",
    "        <artifactId>gson</artifactId>\n",
    "        <version>2.8.9</version>\n",
    "    </dependency>\n",
    "    <dependency>\n",
    "        <groupId>com.opencsv</groupId>\n",
    "        <artifactId>opencsv</artifactId>\n",
    "        <version>5.6</version>\n",
    "    </dependency>\n",
    "\n",
    "</dependencies>"
   ]
  },
  {
   "cell_type": "code",
   "execution_count": 2,
   "id": "6e208624-ce07-4433-be8d-13639f313f16",
   "metadata": {},
   "outputs": [],
   "source": [
    "import org.openqa.selenium.By;\n",
    "import org.openqa.selenium.WebDriver;\n",
    "import org.openqa.selenium.WebElement;\n",
    "import org.openqa.selenium.interactions.Actions;\n",
    "import org.openqa.selenium.interactions.ClickAction;\n",
    "import org.openqa.selenium.support.FindBy;\n",
    "import org.openqa.selenium.support.PageFactory;\n",
    "import org.openqa.selenium.support.ui.ExpectedConditions;\n",
    "import org.openqa.selenium.support.ui.Select;\n",
    "import org.openqa.selenium.support.ui.Wait;\n",
    "import org.openqa.selenium.support.ui.WebDriverWait;\n",
    "import org.testng.Assert;\n",
    "import org.testng.annotations.Test;\n",
    "import org.openqa.selenium.*;\n",
    "\n",
    "import io.github.bonigarcia.wdm.WebDriverManager;\n",
    "import org.openqa.selenium.chrome.*;\n",
    "\n",
    "import java.io.IOException;\n",
    "import java.text.ParseException;\n",
    "import java.util.ArrayList;\n",
    "import java.util.Hashtable;\n",
    "import java.util.*;\n",
    "import java.util.List;\n",
    "import java.time.Duration;\n",
    "import java.util.concurrent.TimeUnit;\n",
    "import java.util.Calendar;\n",
    "import java.text.SimpleDateFormat;\n",
    "import org.openqa.selenium.support.ui.ExpectedCondition;\n",
    "import java.time.Duration;\n",
    "import java.io.*;\n",
    "import org.openqa.selenium.remote.CapabilityType;\n",
    "import java.util.stream.Collectors;\n",
    "import java.nio.charset.StandardCharsets;\n",
    "import java.nio.file.StandardOpenOption;\n",
    "import com.opencsv.CSVWriter;\n",
    "import org.apache.commons.lang3.tuple.MutablePair;\n",
    "import org.apache.commons.lang3.tuple.MutableTriple;\n",
    "import org.apache.commons.lang3.tuple.*;"
   ]
  },
  {
   "cell_type": "code",
   "execution_count": 3,
   "id": "2e1b21a9-34d3-4f06-8401-05c894da87d7",
   "metadata": {},
   "outputs": [],
   "source": [
    "import org.w3c.dom.*;\n",
    "import org.xml.sax.InputSource;\n",
    "\n",
    "import javax.xml.parsers.DocumentBuilder;\n",
    "import javax.xml.parsers.DocumentBuilderFactory;\n",
    "import java.io.StringReader;\n",
    "import java.nio.file.Files;\n",
    "import java.nio.file.Paths;"
   ]
  },
  {
   "cell_type": "code",
   "execution_count": 4,
   "id": "0e27196b-7d6f-4b8d-8684-efe2681e3a97",
   "metadata": {},
   "outputs": [],
   "source": [
    "public void collect(String filename) {\n",
    "    List<String> row = new ArrayList<>();\n",
    "    String productLoc = \"//div[@class='group-product']\";\n",
    "    List<WebElement> products = driver.findElements(By.xpath(productLoc));\n",
    "    for (int i = 1; i <= products.size(); i++) {\n",
    "        String groupName = driver.findElement(By.xpath(productLoc + \"[\" + i + \"]/div[@class='group-name']/h3\")).getText();\n",
    "        row.add(groupName);\n",
    "        System.out.println(row);\n",
    "        writeToFile(filename, row);\n",
    "        row.clear();\n",
    "        String tableRowLoc = productLoc + \"[\" + i + \"]/div[@class='table-row']\";\n",
    "        for (int j = 1; j <= driver.findElements(By.xpath(tableRowLoc)).size(); j++) {\n",
    "            row.addAll(driver.findElements(By.xpath(tableRowLoc + \"[\" + j + \"]/div//a\")).stream().map(WebElement::getText).collect(Collectors.toList()));\n",
    "            row.addAll(driver.findElements(By.xpath(tableRowLoc + \"[\" + j + \"]/div//h4[not(./a)]\")).stream().map(WebElement::getText).collect(Collectors.toList()));\n",
    "            writeToFile(filename, row);\n",
    "            row.clear();\n",
    "        }\n",
    "    }\n",
    "}\n",
    "public void writeToFile(String filename, List<String> data) {\n",
    "    try {\n",
    "        Writer writer = new FileWriter(filename, StandardCharsets.UTF_8,true);\n",
    "        CSVWriter csvOutput = new CSVWriter(writer);\n",
    "        csvOutput.writeNext(data.toArray(new String[0]));\n",
    "        csvOutput.close();\n",
    "    } catch (IOException e) {\n",
    "        e.printStackTrace();\n",
    "    }\n",
    "}"
   ]
  },
  {
   "cell_type": "code",
   "execution_count": 5,
   "id": "29fd288c-dea2-45ad-a766-ca8958a1186e",
   "metadata": {},
   "outputs": [
    {
     "name": "stderr",
     "output_type": "stream",
     "text": [
      "SLF4J: Failed to load class \"org.slf4j.impl.StaticLoggerBinder\".\n",
      "SLF4J: Defaulting to no-operation (NOP) logger implementation\n",
      "SLF4J: See http://www.slf4j.org/codes.html#StaticLoggerBinder for further details.\n",
      "log4j:WARN No appenders could be found for logger (io.netty.util.internal.logging.InternalLoggerFactory).\n",
      "log4j:WARN Please initialize the log4j system properly.\n",
      "log4j:WARN See http://logging.apache.org/log4j/1.2/faq.html#noconfig for more info.\n",
      "Starting ChromeDriver 101.0.4951.41 (93c720db8323b3ec10d056025ab95c23a31997c9-refs/branch-heads/4951@{#904}) on port 49624\n",
      "Only local connections are allowed.\n",
      "Please see https://chromedriver.chromium.org/security-considerations for suggestions on keeping ChromeDriver safe.\n",
      "ChromeDriver was started successfully.\n"
     ]
    }
   ],
   "source": [
    "WebDriverManager.chromedriver().setup();\n",
    "ChromeOptions options = new ChromeOptions();\n",
    "options.addExtensions(new File(\"extension_SelectorsHub_4_3_8_0.crx\"));\n",
    "WebDriver driver = new ChromeDriver(options);\n",
    "driver.manage().timeouts().implicitlyWait(30, TimeUnit.SECONDS);\n",
    "WebDriverWait wait = new WebDriverWait(driver, 60);\n",
    "JavascriptExecutor js = (JavascriptExecutor) driver;\n",
    "Actions action = new Actions(driver);"
   ]
  },
  {
   "cell_type": "code",
   "execution_count": null,
   "id": "a4b29de1-11b8-41a1-8518-9e9e8461ae48",
   "metadata": {},
   "outputs": [],
   "source": [
    "driver.manage().timeouts().implicitlyWait(Duration.ofSeconds(3));"
   ]
  },
  {
   "cell_type": "code",
   "execution_count": 6,
   "id": "44f1c140-3caf-416d-8d2b-a69fef335533",
   "metadata": {},
   "outputs": [],
   "source": [
    "driver.get(\"https://wlvcgv-outreach.dev-8.ixcc-sandbox.avayacloud.com/VoicePortal/\")"
   ]
  },
  {
   "cell_type": "code",
   "execution_count": 7,
   "id": "67cd7055-5734-4c3c-9e68-2059781ded2f",
   "metadata": {},
   "outputs": [],
   "source": [
    "WebElement html = driver.findElement(By.xpath(\"//html\"));"
   ]
  },
  {
   "cell_type": "code",
   "execution_count": 13,
   "id": "51f0cd12-1063-4ed7-a9da-8e5aaa8e8e39",
   "metadata": {},
   "outputs": [],
   "source": [
    "WebElement body = driver.findElement(By.xpath(\"//body\"));"
   ]
  },
  {
   "cell_type": "code",
   "execution_count": 22,
   "id": "e8352509-b49e-4ae1-b50d-941de24a99f0",
   "metadata": {},
   "outputs": [],
   "source": [
    "WebElement login = driver.findElement(By.id(\"login_wrapper\"));"
   ]
  },
  {
   "cell_type": "code",
   "execution_count": 23,
   "id": "bcc28544-b99b-43c5-a4fa-539c687c9ba4",
   "metadata": {},
   "outputs": [
    {
     "data": {
      "text/plain": [
       "(14, 0)"
      ]
     },
     "execution_count": 23,
     "metadata": {},
     "output_type": "execute_result"
    }
   ],
   "source": [
    "login.getLocation()"
   ]
  },
  {
   "cell_type": "code",
   "execution_count": 25,
   "id": "50bf5436-94a8-48d5-bf0c-9f45db35de9e",
   "metadata": {},
   "outputs": [],
   "source": [
    "action.moveByOffset(10, 10).perform()"
   ]
  },
  {
   "cell_type": "code",
   "execution_count": null,
   "id": "f50a4e58-9680-44e3-b283-dff6b8e7af51",
   "metadata": {},
   "outputs": [],
   "source": []
  },
  {
   "cell_type": "code",
   "execution_count": null,
   "id": "19e42f12-670a-46c1-a0b3-9b021f8f0e00",
   "metadata": {},
   "outputs": [],
   "source": []
  },
  {
   "cell_type": "code",
   "execution_count": null,
   "id": "83f3a5f9-ce50-4f1a-9c06-f3fba5abb8b1",
   "metadata": {},
   "outputs": [],
   "source": []
  },
  {
   "cell_type": "code",
   "execution_count": null,
   "id": "7bcd0185-c0f9-4ec5-b3b9-9cfbc4f563f3",
   "metadata": {},
   "outputs": [],
   "source": [
    "driver.findElement(By.cssSelector(\"#username\")).getLocation()"
   ]
  },
  {
   "cell_type": "code",
   "execution_count": null,
   "id": "a130d0b1-4cb3-4250-92e8-ec2997e9b45e",
   "metadata": {},
   "outputs": [],
   "source": [
    "driver.findElement(By.cssSelector(\"tr[id='usr'] td[class='lab']\")).getLocation()"
   ]
  },
  {
   "cell_type": "code",
   "execution_count": null,
   "id": "e7c6b396-5ac6-4a8a-9e7a-b6b33c8a9309",
   "metadata": {},
   "outputs": [],
   "source": [
    "testXml()"
   ]
  },
  {
   "cell_type": "code",
   "execution_count": null,
   "id": "1722e153-d628-446d-ad1a-26487df7e342",
   "metadata": {},
   "outputs": [],
   "source": [
    "public void testXml() throws Exception {\n",
    "    String sourceFilePath = \"D:\\\\AutoPOM2\\\\POM\\\\src\\\\test\\\\java\\\\com\\\\data\\\\strategy\\\\\";\n",
    "    String content = new String(Files.readAllBytes(Paths.get(sourceFilePath + \"WSE_Progressive_Agent_Script_error_strategy.xml\")));\n",
    "    content = content.substring(content.indexOf(\"<Handler\"), content.indexOf(\"</tns:AvayaPIMContactStrategy>\"))\n",
    "            .trim();\n",
    "    InputSource inputSource = new InputSource();\n",
    "    inputSource.setCharacterStream(new StringReader(content));\n",
    "    // Instantiate the Factory\n",
    "    DocumentBuilderFactory dbf = DocumentBuilderFactory.newInstance();\n",
    "    // optional, but recommended\n",
    "    // process XML securely, avoid attacks like XML External Entities (XXE)\n",
    "    //dbf.setFeature(XMLConstants.FEATURE_SECURE_PROCESSING, true);\n",
    "    // parse XML file\n",
    "    DocumentBuilder db = dbf.newDocumentBuilder();\n",
    "    Document doc = db.parse(inputSource);\n",
    "    // optional, but recommended\n",
    "    // http://stackoverflow.com/questions/13786607/normalization-in-dom-parsing-with-java-how-does-it-work\n",
    "    doc.getDocumentElement().normalize();\n",
    "    System.out.println(\"Root Element :\" + doc.getDocumentElement().getNodeName());\n",
    "    // get <staff>\n",
    "    NodeList nListHandler = doc.getElementsByTagName(\"Handler\");\n",
    "    System.out.println(\"nListHandler.getLength(): \" + nListHandler.getLength());\n",
    "    int handlerNumber = 1;\n",
    "    for (int i = 0; i < nListHandler.getLength(); i++) {\n",
    "        Node nHandler = nListHandler.item(i);\n",
    "        if (nHandler.getNodeType() == Node.ELEMENT_NODE) {\n",
    "            nodeProcess(nHandler, handlerNumber);\n",
    "            ++handlerNumber;\n",
    "        }\n",
    "    }\n",
    "}\n",
    "\n",
    "\n",
    "public List<MutableTriple<String, WebElement, String>> getPropertyElement() {\n",
    "    //key, type, element\n",
    "    List<MutableTriple<String, WebElement, String>> propertyElementList = new ArrayList<>();\n",
    "\n",
    "    String nodePropertiesLoc = \"//div[@id='propertiesBody']\";\n",
    "    String nodePropertiesRowLoc = \"//div[@class='nodeProperties']//div[@class='tableRow']\";\n",
    "\n",
    "    for (WebElement tableRow : driver.findElements(By.xpath(nodePropertiesRowLoc))) {\n",
    "        WebElement currColumnElem = tableRow.findElement(By.xpath(\"./div[contains(@class, 'tableColumn')][1]\"));\n",
    "        String key = currColumnElem.getAttribute(\"data-property-section\");\n",
    "        //String eLocAtSign = currColumnLoc + \"[2]//*[contains(@data-property, '@')]\";\n",
    "        WebElement element = tableRow.findElement(By.xpath(\"./div[contains(@class, 'tableColumn')][2]//*[contains(translate(@data-property, 'ABCDEFGHIJKLMNOPQRSTUVWXYZ', 'abcdefghijklmnopqrstuvwxyz'), '\"\n",
    "                + key.replaceAll(\"@\", \"\").toLowerCase() + \"')]\"));\n",
    "        String type = element.getTagName();\n",
    "        propertyElementList.add(MutableTriple.of(key, element, type));\n",
    "    }\n",
    "    return propertyElementList;\n",
    "}\n",
    "\n",
    "public WebElement getNodeElement(String nodeName, int handlerNumber) {\n",
    "    String nodeFamilyLoc = \"//div[@id='destinationTree']\";\n",
    "    //div[@id='destinationTree']//span[contains(translate(., 'ABCDEFGHIJKLMNOPQRSTUVWXYZ', 'abcdefghijklmnopqrstuvwxyz'), 'address')]\n",
    "    By nodeNameLoc = By.xpath(nodeFamilyLoc + \"//span[contains(translate(., 'ABCDEFGHIJKLMNOPQRSTUVWXYZ', 'abcdefghijklmnopqrstuvwxyz'), '\" + nodeName.toLowerCase() + \"')]\");\n",
    "    By handlerLoc = By.xpath(\"(\" + nodeFamilyLoc + \"//span[contains(translate(., 'ABCDEFGHIJKLMNOPQRSTUVWXYZ', 'abcdefghijklmnopqrstuvwxyz'), 'handler')])[\" + handlerNumber + \"]\");\n",
    "    // check present of parent node\n",
    "    WebElement pNodeE = presentOf(handlerLoc, 10);\n",
    "    // get parent node Y location\n",
    "    int pNodeY = pNodeE.getLocation().getY();\n",
    "    // check present of node, if present, get Y and compare with parent Y: parent Y <= node Y\n",
    "    // if not found or match node, click to parent node and click add node\n",
    "    WebElement nodeE = presentOf(nodeNameLoc, 10);\n",
    "    Actions actions = new Actions(driver);\n",
    "    String menuLoc = \"//ul[contains(@class, 'jstree-contextmenu')][contains(@class, 'jstree-default-contextmenu')]\";\n",
    "    if (nodeE == null || nodeE.getLocation().getY() < pNodeY) {\n",
    "        // add node\n",
    "        pNodeE.click();\n",
    "        actions.moveToElement(pNodeE)\n",
    "                .pause(Duration.ofMillis(500))\n",
    "                .contextClick(pNodeE)\n",
    "                .pause(Duration.ofMillis(500))\n",
    "                .perform();\n",
    "        sleep(2);\n",
    "        WebElement addNode = driver.findElement(By.xpath(menuLoc + \"/li[./a[contains(., 'Add')]]\"));\n",
    "        actions.moveToElement(addNode)\n",
    "                .pause(Duration.ofMillis(500))\n",
    "                .perform();\n",
    "        //ul[contains(@class, 'jstree-contextmenu')][contains(@class, 'jstree-default-contextmenu')]/li[./a[contains(., 'Add')]]/ul/li[.//*[contains(translate(., 'ABCDEFGHIJKLMNOPQRSTUVWXYZ', 'abcdefghijklmnopqrstuvwxyz'), 'restr')]]\n",
    "        String addNodeLoc = menuLoc + \"/li[./a[contains(., 'Add')]]/ul/li[.//*[contains(translate(., 'ABCDEFGHIJKLMNOPQRSTUVWXYZ',\" +\n",
    "                \" 'abcdefghijklmnopqrstuvwxyz'), '\" + nodeName.toLowerCase() + \"')]]\";\n",
    "        WebElement node = driver.findElement(By.xpath(addNodeLoc));\n",
    "        sleep(2);\n",
    "        actions.moveToElement(node)\n",
    "                .pause(Duration.ofMillis(500))\n",
    "                .click()\n",
    "                .perform();\n",
    "        sleep(2);\n",
    "    }\n",
    "    nodeE = presentOf(nodeNameLoc, 10);\n",
    "    nodeE.click();\n",
    "    return nodeE;\n",
    "}\n",
    "\n",
    "public void nodeProcess(Node nHandler, int handlerNumber) {\n",
    "    List<Node> nodeList = new ArrayList<>();\n",
    "    nodeList.add(nHandler);\n",
    "    Node nextNode = nHandler.getNextSibling();\n",
    "    while (nextNode != null) {\n",
    "        nodeList.add(nextNode);\n",
    "        nextNode = nextNode.getNextSibling();\n",
    "    }\n",
    "    for (Node node : nodeList) {\n",
    "        if (node.getNodeType() == Node.ELEMENT_NODE) {\n",
    "            Element eElement = (Element) node;\n",
    "            HashMap<String, String> attrMap = new HashMap<>();\n",
    "            String nodeName = eElement.getTagName();\n",
    "            nodeName = nodeName.equals(\"action\") ? \"call\" : nodeName;\n",
    "            nodeName = nodeName.equals(\"ContactAttribute\") ? \"address\" : nodeName;\n",
    "            // drag and drop for node name\n",
    "            // PROCESS NODE\n",
    "            getNodeElement(nodeName, handlerNumber);\n",
    "            NamedNodeMap attributes = eElement.getAttributes();\n",
    "            if (attributes.getLength() == 0) {\n",
    "                System.out.println(\"nodeName: \" + nodeName);\n",
    "                attrMap.put(nodeName, node.getTextContent());\n",
    "            } else {\n",
    "                System.out.println(\"nodeName: \" + nodeName);\n",
    "            }\n",
    "            for (int j = 0; j < attributes.getLength(); j++) {\n",
    "                Attr attr = (Attr) attributes.item(j);\n",
    "                attrMap.put(attr.getName(), attr.getValue());\n",
    "            }\n",
    "            System.out.println(attrMap);\n",
    "            // process attribute for node name\n",
    "            // PROCESS PROPERTIES\n",
    "            getPropertyElement().forEach(stringWebElementStringMutableTriple -> {\n",
    "                System.out.println(stringWebElementStringMutableTriple.toString());\n",
    "            });\n",
    "            System.out.println(\"=====================================================\");\n",
    "            if (node.hasChildNodes()) {\n",
    "                nodeProcess(node.getFirstChild(), handlerNumber);\n",
    "            }\n",
    "        }\n",
    "    }\n",
    "}\n",
    "\n",
    "public WebElement presentOf(By by, int sec) {\n",
    "    try {\n",
    "        driver.manage().timeouts().implicitlyWait(Duration.ofSeconds(sec));\n",
    "        return driver.findElement(by);\n",
    "    } catch (Exception e) {\n",
    "        return null;\n",
    "    } finally {\n",
    "        driver.manage().timeouts().implicitlyWait(Duration.ofSeconds(60));\n",
    "    }\n",
    "}\n",
    "\n",
    "public WebElement presentOf(WebElement element, int sec) {\n",
    "    try {\n",
    "        driver.manage().timeouts().implicitlyWait(Duration.ofSeconds(sec));\n",
    "        element.isDisplayed();\n",
    "        return element;\n",
    "    } catch (Exception e) {\n",
    "        return null;\n",
    "    } finally {\n",
    "        driver.manage().timeouts().implicitlyWait(Duration.ofSeconds(60));\n",
    "    }\n",
    "}\n",
    "\n",
    "public void sleep(double sec) {\n",
    "    try {\n",
    "        Thread.sleep((long) (sec * 1000));\n",
    "    } catch (Exception e) {\n",
    "    }\n",
    "}"
   ]
  },
  {
   "cell_type": "code",
   "execution_count": null,
   "id": "e57b0852-e423-4363-8674-523b832b4673",
   "metadata": {},
   "outputs": [],
   "source": []
  },
  {
   "cell_type": "code",
   "execution_count": null,
   "id": "762ea9bf-96b5-48ae-a23b-8a23ed7df423",
   "metadata": {},
   "outputs": [],
   "source": [
    "System.out.println(driver.getWindowHandles());\n",
    "driver.switchTo().window(\"CDwindow-C30CB60FF07BEDADD994F5D8E1436617\");\n",
    "driver.getWindowHandle()"
   ]
  },
  {
   "cell_type": "code",
   "execution_count": null,
   "id": "26156531-d7c3-4856-8810-21832218e7c9",
   "metadata": {},
   "outputs": [],
   "source": [
    "//a[translate(text(), 'ABCDEFGHIJKLMNOPQRSTUVWXYZ', 'abcdefghijklmnopqrstuvwxyz')"
   ]
  },
  {
   "cell_type": "code",
   "execution_count": null,
   "id": "c277bc56-2f36-42fc-985b-175ce58a647b",
   "metadata": {},
   "outputs": [],
   "source": [
    "public class EnvSetup {\n",
    "    public static WebDriver WEBDRIVER;\n",
    "}\n",
    "EnvSetup.WEBDRIVER = driver;"
   ]
  },
  {
   "cell_type": "code",
   "execution_count": null,
   "id": "b99df8be-b2cc-442d-8573-bae7faa46db8",
   "metadata": {},
   "outputs": [],
   "source": [
    "public List<MutableTriple<String, WebElement, String>> getPropertyElement() {\n",
    "    //key, type, element\n",
    "    List<MutableTriple<String, WebElement, String>> propertyElementList = new ArrayList<>();\n",
    "\n",
    "    String nodePropertiesLoc = \"//div[@id='propertiesBody']\";\n",
    "    String nodePropertiesRowLoc = \"//div[@class='nodeProperties']//div[@class='tableRow']\";\n",
    "\n",
    "    for (int i = 1; i <= driver.findElements(By.xpath(nodePropertiesRowLoc)).size(); i++) {\n",
    "        String currColumnLoc = nodePropertiesRowLoc + \"[\" + i + \"]/div[contains(@class, 'tableColumn')]\";\n",
    "        String key = driver.findElement(By.xpath(currColumnLoc + \"[1]\")).getAttribute(\"data-property-section\");\n",
    "        String eLocAtSign = currColumnLoc + \"[2]//*[contains(@data-property, '@')]\";\n",
    "        String eLocWithKey = currColumnLoc + \"[2]//*[contains(translate(@data-property, 'ABCDEFGHIJKLMNOPQRSTUVWXYZ', 'abcdefghijklmnopqrstuvwxyz'), '\"\n",
    "                + key.replaceAll(\"@\", \"\").toLowerCase() + \"')]\";\n",
    "        System.out.println(\"eLocAtSign: \" + eLocAtSign);\n",
    "        System.out.println(\"eLocWithKey: \" + eLocWithKey);\n",
    "        WebElement element = driver.findElement(By.xpath(eLocWithKey));\n",
    "        String type = element.getTagName();\n",
    "        propertyElementList.add(MutableTriple.of(key, element, type));\n",
    "    }\n",
    "    return propertyElementList;\n",
    "}"
   ]
  },
  {
   "cell_type": "code",
   "execution_count": null,
   "id": "36858b25-a887-4633-a59c-a12df688b8c8",
   "metadata": {},
   "outputs": [],
   "source": [
    "public List<MutableTriple<String, WebElement, String>> getPropertyElement() {\n",
    "    //key, type, element\n",
    "    List<MutableTriple<String, WebElement, String>> propertyElementList = new ArrayList<>();\n",
    "\n",
    "    String nodePropertiesLoc = \"//div[@id='propertiesBody']\";\n",
    "    String nodePropertiesRowLoc = \"//div[@class='nodeProperties']//div[@class='tableRow']\";\n",
    "\n",
    "    for (WebElement tableRow : driver.findElements(By.xpath(nodePropertiesRowLoc))) {\n",
    "        WebElement currColumnElem = tableRow.findElement(By.xpath(\"./div[contains(@class, 'tableColumn')][1]\"));\n",
    "        String key = currColumnElem.getAttribute(\"data-property-section\");\n",
    "        //String eLocAtSign = currColumnLoc + \"[2]//*[contains(@data-property, '@')]\";\n",
    "        WebElement element =tableRow.findElement(By.xpath(\"./div[contains(@class, 'tableColumn')][2]//*[contains(translate(@data-property, 'ABCDEFGHIJKLMNOPQRSTUVWXYZ', 'abcdefghijklmnopqrstuvwxyz'), '\"\n",
    "                + key.replaceAll(\"@\", \"\").toLowerCase() + \"')]\"));\n",
    "        String type = element.getTagName();\n",
    "        propertyElementList.add(MutableTriple.of(key, element, type));\n",
    "    }\n",
    "    return propertyElementList;\n",
    "}"
   ]
  },
  {
   "cell_type": "code",
   "execution_count": null,
   "id": "ab7e6281-5253-44f8-b236-a72e4ddbc6f0",
   "metadata": {},
   "outputs": [],
   "source": [
    "getPropertyElement().forEach(e -> System.out.println(e.getLeft() + \" - ELEMENT - \" + e.getRight()));"
   ]
  },
  {
   "cell_type": "code",
   "execution_count": null,
   "id": "98758ae1-7b28-4f53-b3e4-7e21a1b1951c",
   "metadata": {},
   "outputs": [],
   "source": []
  },
  {
   "cell_type": "code",
   "execution_count": null,
   "id": "08190b02-bd41-485b-8f40-4eeae5f0ced2",
   "metadata": {},
   "outputs": [],
   "source": []
  },
  {
   "cell_type": "code",
   "execution_count": null,
   "id": "3078a0f4-de65-401d-bf78-2a4c1592a720",
   "metadata": {},
   "outputs": [],
   "source": []
  },
  {
   "cell_type": "code",
   "execution_count": null,
   "id": "4f8e1032-3871-4ce9-9890-d33e56eac9c4",
   "metadata": {},
   "outputs": [],
   "source": []
  },
  {
   "cell_type": "code",
   "execution_count": null,
   "id": "d423b574-cf07-456b-a989-66afcd070a9e",
   "metadata": {},
   "outputs": [],
   "source": []
  },
  {
   "cell_type": "code",
   "execution_count": null,
   "id": "de7e6921-7fd9-4f62-a2f4-f250be642e78",
   "metadata": {},
   "outputs": [],
   "source": []
  },
  {
   "cell_type": "code",
   "execution_count": null,
   "id": "8a049a11-668d-447f-b127-f0520a266d20",
   "metadata": {},
   "outputs": [],
   "source": []
  },
  {
   "cell_type": "code",
   "execution_count": null,
   "id": "b236af4a-78d4-4595-a3a3-706353f1d4cc",
   "metadata": {},
   "outputs": [],
   "source": []
  },
  {
   "cell_type": "code",
   "execution_count": null,
   "id": "ad32d9a8-f33e-4ee9-bd75-8f3c34211ae2",
   "metadata": {},
   "outputs": [],
   "source": []
  },
  {
   "cell_type": "code",
   "execution_count": null,
   "id": "9bc706f7-417b-4f6a-ba7a-031ce75f4600",
   "metadata": {},
   "outputs": [],
   "source": []
  },
  {
   "cell_type": "code",
   "execution_count": null,
   "id": "76895de4-510c-4871-a4e7-83a76301e8fd",
   "metadata": {},
   "outputs": [],
   "source": [
    "WebElement source = driver.findElement(By.xpath(\"//div[@id='toolsSection']\"))"
   ]
  },
  {
   "cell_type": "code",
   "execution_count": null,
   "id": "177cdc5b-7e3b-4e9a-847d-51449a55c76a",
   "metadata": {},
   "outputs": [],
   "source": [
    "WebElement target = driver.findElement(By.xpath(\"//div[@id='destinationTree']\"));"
   ]
  },
  {
   "cell_type": "code",
   "execution_count": null,
   "id": "18a929c9-ca31-4d1b-9f08-753c8c11c3a5",
   "metadata": {},
   "outputs": [],
   "source": [
    "Actions action = new Actions(driver);"
   ]
  },
  {
   "cell_type": "code",
   "execution_count": null,
   "id": "e597fa87-518e-48c0-9446-05f9a1a3c557",
   "metadata": {},
   "outputs": [],
   "source": [
    "action.moveToElement(source)\n",
    "        .pause(Duration.ofSeconds(1))\n",
    "        .clickAndHold(source)\n",
    "        .pause(Duration.ofSeconds(1))\n",
    "        .moveByOffset(1, 0)\n",
    "        .moveToElement(target)\n",
    "        .moveByOffset(1, 0)\n",
    "        .pause(Duration.ofSeconds(1))\n",
    "        .release().perform();"
   ]
  },
  {
   "cell_type": "code",
   "execution_count": null,
   "id": "c710685c-614d-43fb-bab3-f5a510665ea3",
   "metadata": {},
   "outputs": [],
   "source": []
  },
  {
   "cell_type": "code",
   "execution_count": null,
   "id": "efecab3f-46c5-4c0f-8220-1b1faddbfe21",
   "metadata": {},
   "outputs": [],
   "source": [
    "source.getRect().getY()"
   ]
  },
  {
   "cell_type": "code",
   "execution_count": null,
   "id": "e156755c-6aec-492d-827e-542adcecaf9e",
   "metadata": {},
   "outputs": [],
   "source": []
  },
  {
   "cell_type": "code",
   "execution_count": null,
   "id": "e7b92d0c-0d81-4030-8b70-31f4f9de0076",
   "metadata": {},
   "outputs": [],
   "source": []
  },
  {
   "cell_type": "code",
   "execution_count": null,
   "id": "632a8c54-f3fc-4194-b24b-932db36cec17",
   "metadata": {},
   "outputs": [],
   "source": []
  },
  {
   "cell_type": "code",
   "execution_count": null,
   "id": "d70eeedb-ea3c-444a-b22e-fb2d20200289",
   "metadata": {},
   "outputs": [],
   "source": [
    "driver.switchTo().defaultContent();\n",
    "driver.switchTo().frame(\"main\");"
   ]
  },
  {
   "cell_type": "code",
   "execution_count": null,
   "id": "f9be645a-3a29-4620-8a55-2603f4d452dc",
   "metadata": {},
   "outputs": [],
   "source": [
    "driver.getWindowHandles();"
   ]
  },
  {
   "cell_type": "code",
   "execution_count": null,
   "id": "cf8d1940-f9d1-4f1e-b0f2-0882ef971a3d",
   "metadata": {},
   "outputs": [],
   "source": [
    "driver.switchTo().window(\"CDwindow-0FA7202BAEDE07EE0EA99254F88EDA4F\");"
   ]
  },
  {
   "cell_type": "code",
   "execution_count": null,
   "id": "32036603-da95-49a0-8015-194836920aa2",
   "metadata": {},
   "outputs": [],
   "source": []
  },
  {
   "cell_type": "code",
   "execution_count": null,
   "id": "f4e355c1-46ee-4e95-ae80-4e41c271c9d3",
   "metadata": {},
   "outputs": [],
   "source": [
    "collect(\"file2.csv\");"
   ]
  },
  {
   "cell_type": "code",
   "execution_count": null,
   "id": "4bff1448-ecce-4dc0-84a5-d6ea5a8e98e3",
   "metadata": {},
   "outputs": [],
   "source": [
    "driver.findElement(By.xpath(\"//div[@class='group-product'][1]/div[@class='table-row'][1]/div//h4[not(./a)]\")).getText()"
   ]
  },
  {
   "cell_type": "code",
   "execution_count": null,
   "id": "f06dd655-e2c7-4a64-a2f5-503a2763d0d7",
   "metadata": {},
   "outputs": [],
   "source": []
  },
  {
   "cell_type": "code",
   "execution_count": null,
   "id": "ad81017d-b61f-4ede-9730-0842349a082c",
   "metadata": {},
   "outputs": [],
   "source": []
  },
  {
   "cell_type": "markdown",
   "id": "f54856bc-06be-4931-ad03-1c2c3d1cbbd4",
   "metadata": {},
   "source": [
    "driver.switchTo().defaultContent();\n",
    "driver.switchTo().frame(\"main\");"
   ]
  },
  {
   "cell_type": "code",
   "execution_count": null,
   "id": "f66e28a8-c138-454e-a3b0-7aac5904cfda",
   "metadata": {},
   "outputs": [],
   "source": [
    "List<String> data = Arrays.asList(\"h\", \"n\", \"asd\", \"asdas\", \"asdas\");"
   ]
  },
  {
   "cell_type": "code",
   "execution_count": null,
   "id": "b1a87309-0d33-4d20-b20f-c89c4d081605",
   "metadata": {},
   "outputs": [],
   "source": [
    "writeToFile(\"file.csv\", data)"
   ]
  },
  {
   "cell_type": "code",
   "execution_count": null,
   "id": "0a517452-bd04-47a2-a76d-efb50bb0c6da",
   "metadata": {},
   "outputs": [],
   "source": []
  },
  {
   "cell_type": "code",
   "execution_count": null,
   "id": "abe178d9-a8c6-4a1d-95c0-fa57b84bb532",
   "metadata": {},
   "outputs": [],
   "source": []
  }
 ],
 "metadata": {
  "kernelspec": {
   "display_name": "Java",
   "language": "java",
   "name": "java"
  },
  "language_info": {
   "codemirror_mode": "java",
   "file_extension": ".jshell",
   "mimetype": "text/x-java-source",
   "name": "Java",
   "pygments_lexer": "java",
   "version": "11.0.13+10-LTS-370"
  }
 },
 "nbformat": 4,
 "nbformat_minor": 5
}
