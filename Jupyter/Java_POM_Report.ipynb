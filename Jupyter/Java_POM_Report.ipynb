{
 "cells": [
  {
   "cell_type": "code",
   "execution_count": 1,
   "id": "030422f2-5818-4899-92ba-c81a396dbb43",
   "metadata": {},
   "outputs": [],
   "source": [
    "%%loadFromPOM\n",
    "<dependencies>\n",
    "    <!-- https://mvnrepository.com/artifact/org.testng/testng -->\n",
    "    <dependency>\n",
    "        <groupId>org.testng</groupId>\n",
    "        <artifactId>testng</artifactId>\n",
    "        <version>7.4.0</version>\n",
    "    </dependency>\n",
    "    <dependency>\n",
    "        <groupId>junit</groupId>\n",
    "        <artifactId>junit</artifactId>\n",
    "        <version>4.13.2</version>\n",
    "    </dependency>\n",
    "    <dependency>\n",
    "        <groupId>org.junit.jupiter</groupId>\n",
    "        <artifactId>junit-jupiter-engine</artifactId>\n",
    "        <version>5.8.1</version>\n",
    "    </dependency>\n",
    "    <dependency>\n",
    "        <groupId>org.seleniumhq.selenium</groupId>\n",
    "        <artifactId>selenium-java</artifactId>\n",
    "        <version>4.0.0</version>\n",
    "    </dependency>\n",
    "    <dependency>\n",
    "        <groupId>io.github.bonigarcia</groupId>\n",
    "        <artifactId>webdrivermanager</artifactId>\n",
    "        <version>5.0.2</version>\n",
    "    </dependency>\n",
    "    <dependency>\n",
    "        <groupId>log4j</groupId>\n",
    "        <artifactId>log4j</artifactId>\n",
    "        <version>1.2.17</version>\n",
    "    </dependency>\n",
    "    <dependency>\n",
    "        <groupId>org.json</groupId>\n",
    "        <artifactId>json</artifactId>\n",
    "        <version>20210307</version>\n",
    "    </dependency>\n",
    "    <dependency>\n",
    "        <groupId>com.google.code.gson</groupId>\n",
    "        <artifactId>gson</artifactId>\n",
    "        <version>2.8.9</version>\n",
    "    </dependency>\n",
    "    <dependency>\n",
    "        <groupId>com.opencsv</groupId>\n",
    "        <artifactId>opencsv</artifactId>\n",
    "        <version>5.6</version>\n",
    "    </dependency>\n",
    "\n",
    "</dependencies>"
   ]
  },
  {
   "cell_type": "code",
   "execution_count": 2,
   "id": "6e208624-ce07-4433-be8d-13639f313f16",
   "metadata": {},
   "outputs": [],
   "source": [
    "import org.openqa.selenium.By;\n",
    "import org.openqa.selenium.WebDriver;\n",
    "import org.openqa.selenium.WebElement;\n",
    "import org.openqa.selenium.interactions.Actions;\n",
    "import org.openqa.selenium.interactions.ClickAction;\n",
    "import org.openqa.selenium.support.FindBy;\n",
    "import org.openqa.selenium.support.PageFactory;\n",
    "import org.openqa.selenium.support.ui.ExpectedConditions;\n",
    "import org.openqa.selenium.support.ui.Select;\n",
    "import org.openqa.selenium.support.ui.Wait;\n",
    "import org.openqa.selenium.support.ui.WebDriverWait;\n",
    "import org.testng.Assert;\n",
    "import org.testng.annotations.Test;\n",
    "import org.openqa.selenium.*;\n",
    "\n",
    "import io.github.bonigarcia.wdm.WebDriverManager;\n",
    "import org.openqa.selenium.chrome.*;\n",
    "\n",
    "import java.io.IOException;\n",
    "import java.text.ParseException;\n",
    "import java.util.ArrayList;\n",
    "import java.util.Hashtable;\n",
    "import java.util.*;\n",
    "import java.util.List;\n",
    "import java.time.Duration;\n",
    "import java.util.concurrent.TimeUnit;\n",
    "import java.util.Calendar;\n",
    "import java.text.SimpleDateFormat;\n",
    "import org.openqa.selenium.support.ui.ExpectedCondition;\n",
    "import java.time.Duration;\n",
    "import java.io.*;\n",
    "import org.openqa.selenium.remote.CapabilityType;\n",
    "import java.util.stream.Collectors;\n",
    "import java.nio.charset.StandardCharsets;\n",
    "import java.nio.file.StandardOpenOption;\n",
    "import com.opencsv.CSVWriter;"
   ]
  },
  {
   "cell_type": "code",
   "execution_count": null,
   "id": "b4df490c-34db-4a2b-8ced-3977f1234aae",
   "metadata": {},
   "outputs": [],
   "source": []
  },
  {
   "cell_type": "code",
   "execution_count": 3,
   "id": "0e27196b-7d6f-4b8d-8684-efe2681e3a97",
   "metadata": {},
   "outputs": [],
   "source": [
    "public void collect(String filename) {\n",
    "    List<String> row = new ArrayList<>();\n",
    "    String productLoc = \"//div[@class='group-product']\";\n",
    "    List<WebElement> products = driver.findElements(By.xpath(productLoc));\n",
    "    for (int i = 1; i <= products.size(); i++) {\n",
    "        String groupName = driver.findElement(By.xpath(productLoc + \"[\" + i + \"]/div[@class='group-name']/h3\")).getText();\n",
    "        row.add(groupName);\n",
    "        System.out.println(row);\n",
    "        writeToFile(filename, row);\n",
    "        row.clear();\n",
    "        String tableRowLoc = productLoc + \"[\" + i + \"]/div[@class='table-row']\";\n",
    "        for (int j = 1; j <= driver.findElements(By.xpath(tableRowLoc)).size(); j++) {\n",
    "            row.addAll(driver.findElements(By.xpath(tableRowLoc + \"[\" + j + \"]/div//a\")).stream().map(WebElement::getText).collect(Collectors.toList()));\n",
    "            row.addAll(driver.findElements(By.xpath(tableRowLoc + \"[\" + j + \"]/div//h4[not(./a)]\")).stream().map(WebElement::getText).collect(Collectors.toList()));\n",
    "            writeToFile(filename, row);\n",
    "            row.clear();\n",
    "        }\n",
    "    }\n",
    "}\n",
    "public void writeToFile(String filename, List<String> data) {\n",
    "    try {\n",
    "        Writer writer = new FileWriter(filename, StandardCharsets.UTF_8,true);\n",
    "        CSVWriter csvOutput = new CSVWriter(writer);\n",
    "        csvOutput.writeNext(data.toArray(new String[0]));\n",
    "        csvOutput.close();\n",
    "    } catch (IOException e) {\n",
    "        e.printStackTrace();\n",
    "    }\n",
    "}"
   ]
  },
  {
   "cell_type": "code",
   "execution_count": null,
   "id": "29fd288c-dea2-45ad-a766-ca8958a1186e",
   "metadata": {},
   "outputs": [],
   "source": [
    "WebDriverManager.chromedriver().setup();\n",
    "ChromeOptions options = new ChromeOptions();\n",
    "options.addExtensions(new File(\"extension_SelectorsHub_4_3_8_0.crx\"));\n",
    "WebDriver driver = new ChromeDriver(options);\n",
    "driver.manage().timeouts().implicitlyWait(30, TimeUnit.SECONDS);\n",
    "WebDriverWait wait = new WebDriverWait(driver, 60);\n",
    "JavascriptExecutor js = (JavascriptExecutor) driver;\n",
    "Actions action = new Actions(driver);"
   ]
  },
  {
   "cell_type": "markdown",
   "id": "a7a53101-76c8-420c-95a7-66aa8b992628",
   "metadata": {},
   "source": [
    "driver.manage().timeouts().implicitlyWait(Duration.ofSeconds(3));"
   ]
  },
  {
   "cell_type": "code",
   "execution_count": 6,
   "id": "44f1c140-3caf-416d-8d2b-a69fef335533",
   "metadata": {},
   "outputs": [],
   "source": [
    "driver.get(\"https://wlvcgv-outreach.dev-8.ixcc-sandbox.avayacloud.com/VoicePortal/\")"
   ]
  },
  {
   "cell_type": "code",
   "execution_count": 7,
   "id": "0ca7e128-6b26-46cf-bbd9-318783b55191",
   "metadata": {},
   "outputs": [],
   "source": [
    "WebElement body = driver.findElement(By.xpath(\"//body\"));"
   ]
  },
  {
   "cell_type": "code",
   "execution_count": 16,
   "id": "bf85aaa8-0785-4349-bac3-3432155ff0e7",
   "metadata": {},
   "outputs": [
    {
     "data": {
      "text/plain": [
       "[CDwindow-72A254BABD526ED9B3066B57774AE09A, CDwindow-A6349A935194F28F9492E8E96201AECF]"
      ]
     },
     "execution_count": 16,
     "metadata": {},
     "output_type": "execute_result"
    }
   ],
   "source": [
    "driver.getWindowHandles()"
   ]
  },
  {
   "cell_type": "code",
   "execution_count": 17,
   "id": "81e2497b-deac-4a00-8a10-96fd2476a48e",
   "metadata": {},
   "outputs": [
    {
     "data": {
      "text/plain": [
       "ChromeDriver: chrome on WINDOWS (15aaff3ad116856165e1986a0703d499)"
      ]
     },
     "execution_count": 17,
     "metadata": {},
     "output_type": "execute_result"
    }
   ],
   "source": [
    "driver.switchTo().window(\"CDwindow-A6349A935194F28F9492E8E96201AECF\")"
   ]
  },
  {
   "cell_type": "code",
   "execution_count": 18,
   "id": "da330358-b0bd-4d2a-9064-a618c102d8d9",
   "metadata": {},
   "outputs": [],
   "source": [
    "WebElement nodePropertiesElement = driver.findElement(By.xpath(\"//div[@class='nodeProperties']\"));"
   ]
  },
  {
   "cell_type": "code",
   "execution_count": 32,
   "id": "7d1e6ac6-adb1-4a5f-980b-68c8b6ef79f0",
   "metadata": {},
   "outputs": [
    {
     "data": {
      "text/plain": [
       "(532, 71)"
      ]
     },
     "execution_count": 32,
     "metadata": {},
     "output_type": "execute_result"
    }
   ],
   "source": [
    "nodePropertiesElement.getLocation()"
   ]
  },
  {
   "cell_type": "code",
   "execution_count": null,
   "id": "b99df8be-b2cc-442d-8573-bae7faa46db8",
   "metadata": {},
   "outputs": [],
   "source": []
  },
  {
   "cell_type": "code",
   "execution_count": null,
   "id": "ab7e6281-5253-44f8-b236-a72e4ddbc6f0",
   "metadata": {},
   "outputs": [],
   "source": []
  },
  {
   "cell_type": "code",
   "execution_count": null,
   "id": "98758ae1-7b28-4f53-b3e4-7e21a1b1951c",
   "metadata": {},
   "outputs": [],
   "source": []
  },
  {
   "cell_type": "code",
   "execution_count": null,
   "id": "de7e6921-7fd9-4f62-a2f4-f250be642e78",
   "metadata": {},
   "outputs": [],
   "source": []
  },
  {
   "cell_type": "code",
   "execution_count": null,
   "id": "8a049a11-668d-447f-b127-f0520a266d20",
   "metadata": {},
   "outputs": [],
   "source": []
  },
  {
   "cell_type": "code",
   "execution_count": null,
   "id": "b236af4a-78d4-4595-a3a3-706353f1d4cc",
   "metadata": {},
   "outputs": [],
   "source": []
  },
  {
   "cell_type": "code",
   "execution_count": null,
   "id": "ad32d9a8-f33e-4ee9-bd75-8f3c34211ae2",
   "metadata": {},
   "outputs": [],
   "source": []
  },
  {
   "cell_type": "code",
   "execution_count": null,
   "id": "9bc706f7-417b-4f6a-ba7a-031ce75f4600",
   "metadata": {},
   "outputs": [],
   "source": []
  },
  {
   "cell_type": "code",
   "execution_count": 12,
   "id": "76895de4-510c-4871-a4e7-83a76301e8fd",
   "metadata": {},
   "outputs": [],
   "source": [
    "WebElement source = driver.findElement(By.xpath(\"//div[@id='toolsSection']\"))"
   ]
  },
  {
   "cell_type": "code",
   "execution_count": 11,
   "id": "177cdc5b-7e3b-4e9a-847d-51449a55c76a",
   "metadata": {},
   "outputs": [],
   "source": [
    "WebElement target = driver.findElement(By.xpath(\"//div[@id='destinationTree']\"));"
   ]
  },
  {
   "cell_type": "code",
   "execution_count": 13,
   "id": "18a929c9-ca31-4d1b-9f08-753c8c11c3a5",
   "metadata": {},
   "outputs": [],
   "source": [
    "Actions action = new Actions(driver);"
   ]
  },
  {
   "cell_type": "code",
   "execution_count": 25,
   "id": "e597fa87-518e-48c0-9446-05f9a1a3c557",
   "metadata": {},
   "outputs": [],
   "source": [
    "action.moveToElement(source)\n",
    "        .pause(Duration.ofSeconds(1))\n",
    "        .clickAndHold(source)\n",
    "        .pause(Duration.ofSeconds(1))\n",
    "        .moveByOffset(1, 0)\n",
    "        .moveToElement(target)\n",
    "        .moveByOffset(1, 0)\n",
    "        .pause(Duration.ofSeconds(1))\n",
    "        .release().perform();"
   ]
  },
  {
   "cell_type": "code",
   "execution_count": null,
   "id": "c710685c-614d-43fb-bab3-f5a510665ea3",
   "metadata": {},
   "outputs": [],
   "source": []
  },
  {
   "cell_type": "code",
   "execution_count": 24,
   "id": "efecab3f-46c5-4c0f-8220-1b1faddbfe21",
   "metadata": {},
   "outputs": [
    {
     "data": {
      "text/plain": [
       "51"
      ]
     },
     "execution_count": 24,
     "metadata": {},
     "output_type": "execute_result"
    }
   ],
   "source": [
    "source.getRect().getY()"
   ]
  },
  {
   "cell_type": "code",
   "execution_count": null,
   "id": "e156755c-6aec-492d-827e-542adcecaf9e",
   "metadata": {},
   "outputs": [],
   "source": []
  },
  {
   "cell_type": "code",
   "execution_count": null,
   "id": "e7b92d0c-0d81-4030-8b70-31f4f9de0076",
   "metadata": {},
   "outputs": [],
   "source": []
  },
  {
   "cell_type": "code",
   "execution_count": null,
   "id": "632a8c54-f3fc-4194-b24b-932db36cec17",
   "metadata": {},
   "outputs": [],
   "source": []
  },
  {
   "cell_type": "code",
   "execution_count": 6,
   "id": "d70eeedb-ea3c-444a-b22e-fb2d20200289",
   "metadata": {},
   "outputs": [
    {
     "data": {
      "text/plain": [
       "ChromeDriver: chrome on WINDOWS (83ed880cb14ad8445eb83995654de0cc)"
      ]
     },
     "execution_count": 6,
     "metadata": {},
     "output_type": "execute_result"
    }
   ],
   "source": [
    "driver.switchTo().defaultContent();\n",
    "driver.switchTo().frame(\"main\");"
   ]
  },
  {
   "cell_type": "code",
   "execution_count": 7,
   "id": "f9be645a-3a29-4620-8a55-2603f4d452dc",
   "metadata": {},
   "outputs": [
    {
     "data": {
      "text/plain": [
       "[CDwindow-AC69E2A2AA35B5C3558072EA21F1EA8A, CDwindow-0FA7202BAEDE07EE0EA99254F88EDA4F]"
      ]
     },
     "execution_count": 7,
     "metadata": {},
     "output_type": "execute_result"
    }
   ],
   "source": [
    "driver.getWindowHandles();"
   ]
  },
  {
   "cell_type": "code",
   "execution_count": 8,
   "id": "cf8d1940-f9d1-4f1e-b0f2-0882ef971a3d",
   "metadata": {},
   "outputs": [
    {
     "data": {
      "text/plain": [
       "ChromeDriver: chrome on WINDOWS (83ed880cb14ad8445eb83995654de0cc)"
      ]
     },
     "execution_count": 8,
     "metadata": {},
     "output_type": "execute_result"
    }
   ],
   "source": [
    "driver.switchTo().window(\"CDwindow-0FA7202BAEDE07EE0EA99254F88EDA4F\");"
   ]
  },
  {
   "cell_type": "code",
   "execution_count": null,
   "id": "32036603-da95-49a0-8015-194836920aa2",
   "metadata": {},
   "outputs": [],
   "source": []
  },
  {
   "cell_type": "code",
   "execution_count": null,
   "id": "f4e355c1-46ee-4e95-ae80-4e41c271c9d3",
   "metadata": {},
   "outputs": [],
   "source": [
    "collect(\"file2.csv\");"
   ]
  },
  {
   "cell_type": "code",
   "execution_count": null,
   "id": "4bff1448-ecce-4dc0-84a5-d6ea5a8e98e3",
   "metadata": {},
   "outputs": [],
   "source": [
    "driver.findElement(By.xpath(\"//div[@class='group-product'][1]/div[@class='table-row'][1]/div//h4[not(./a)]\")).getText()"
   ]
  },
  {
   "cell_type": "code",
   "execution_count": null,
   "id": "f06dd655-e2c7-4a64-a2f5-503a2763d0d7",
   "metadata": {},
   "outputs": [],
   "source": []
  },
  {
   "cell_type": "code",
   "execution_count": null,
   "id": "ad81017d-b61f-4ede-9730-0842349a082c",
   "metadata": {},
   "outputs": [],
   "source": []
  },
  {
   "cell_type": "markdown",
   "id": "f54856bc-06be-4931-ad03-1c2c3d1cbbd4",
   "metadata": {},
   "source": [
    "driver.switchTo().defaultContent();\n",
    "driver.switchTo().frame(\"main\");"
   ]
  },
  {
   "cell_type": "code",
   "execution_count": null,
   "id": "f66e28a8-c138-454e-a3b0-7aac5904cfda",
   "metadata": {},
   "outputs": [],
   "source": [
    "List<String> data = Arrays.asList(\"h\", \"n\", \"asd\", \"asdas\", \"asdas\");"
   ]
  },
  {
   "cell_type": "code",
   "execution_count": null,
   "id": "b1a87309-0d33-4d20-b20f-c89c4d081605",
   "metadata": {},
   "outputs": [],
   "source": [
    "writeToFile(\"file.csv\", data)"
   ]
  },
  {
   "cell_type": "code",
   "execution_count": null,
   "id": "0a517452-bd04-47a2-a76d-efb50bb0c6da",
   "metadata": {},
   "outputs": [],
   "source": []
  },
  {
   "cell_type": "code",
   "execution_count": null,
   "id": "abe178d9-a8c6-4a1d-95c0-fa57b84bb532",
   "metadata": {},
   "outputs": [],
   "source": []
  }
 ],
 "metadata": {
  "kernelspec": {
   "display_name": "Java",
   "language": "java",
   "name": "java"
  },
  "language_info": {
   "codemirror_mode": "java",
   "file_extension": ".jshell",
   "mimetype": "text/x-java-source",
   "name": "Java",
   "pygments_lexer": "java",
   "version": "11.0.13+10-LTS-370"
  }
 },
 "nbformat": 4,
 "nbformat_minor": 5
}
