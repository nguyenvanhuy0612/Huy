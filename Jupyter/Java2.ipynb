{
 "cells": [
  {
   "cell_type": "code",
   "execution_count": null,
   "id": "6a44df30-2eab-4758-955f-a2c32326076f",
   "metadata": {},
   "outputs": [],
   "source": [
    "%%loadFromPOM\n",
    "<dependencies>\n",
    "    <!-- https://mvnrepository.com/artifact/org.testng/testng -->\n",
    "    <dependency>\n",
    "        <groupId>org.testng</groupId>\n",
    "        <artifactId>testng</artifactId>\n",
    "        <version>7.4.0</version>\n",
    "    </dependency>\n",
    "    <dependency>\n",
    "        <groupId>junit</groupId>\n",
    "        <artifactId>junit</artifactId>\n",
    "        <version>4.13.2</version>\n",
    "    </dependency>\n",
    "    <dependency>\n",
    "        <groupId>org.junit.jupiter</groupId>\n",
    "        <artifactId>junit-jupiter-engine</artifactId>\n",
    "        <version>5.8.1</version>\n",
    "    </dependency>\n",
    "    <dependency>\n",
    "        <groupId>org.seleniumhq.selenium</groupId>\n",
    "        <artifactId>selenium-java</artifactId>\n",
    "        <version>4.0.0</version>\n",
    "    </dependency>\n",
    "    <dependency>\n",
    "        <groupId>io.github.bonigarcia</groupId>\n",
    "        <artifactId>webdrivermanager</artifactId>\n",
    "        <version>5.0.2</version>\n",
    "    </dependency>\n",
    "    <dependency>\n",
    "        <groupId>log4j</groupId>\n",
    "        <artifactId>log4j</artifactId>\n",
    "        <version>1.2.17</version>\n",
    "    </dependency>\n",
    "    <dependency>\n",
    "        <groupId>org.json</groupId>\n",
    "        <artifactId>json</artifactId>\n",
    "        <version>20210307</version>\n",
    "    </dependency>\n",
    "    <dependency>\n",
    "        <groupId>com.google.code.gson</groupId>\n",
    "        <artifactId>gson</artifactId>\n",
    "        <version>2.8.9</version>\n",
    "    </dependency>\n",
    "     <!-- https://mvnrepository.com/artifact/org.slf4j/slf4j-api -->\n",
    "    <dependency>\n",
    "        <groupId>org.slf4j</groupId>\n",
    "        <artifactId>slf4j-api</artifactId>\n",
    "        <version>1.7.36</version>\n",
    "    </dependency>\n",
    "    <dependency>\n",
    "        <groupId>org.slf4j</groupId>\n",
    "        <artifactId>slf4j-simple</artifactId>\n",
    "        <version>1.7.36</version>\n",
    "    </dependency>\n",
    "</dependencies>"
   ]
  },
  {
   "cell_type": "code",
   "execution_count": null,
   "id": "90c6d4f5-c7bc-4ad0-bb39-b697b6c54b9d",
   "metadata": {},
   "outputs": [],
   "source": [
    "System.out.println(\"Hello\");"
   ]
  },
  {
   "cell_type": "code",
   "execution_count": null,
   "id": "ff94f83a-d4f5-48f2-be38-f2ea23e8c3a7",
   "metadata": {},
   "outputs": [],
   "source": [
    "import org.openqa.selenium.By;\n",
    "import org.openqa.selenium.WebDriver;\n",
    "import org.openqa.selenium.WebElement;\n",
    "import org.openqa.selenium.interactions.Actions;\n",
    "import org.openqa.selenium.interactions.ClickAction;\n",
    "import org.openqa.selenium.support.FindBy;\n",
    "import org.openqa.selenium.support.PageFactory;\n",
    "import org.openqa.selenium.support.ui.ExpectedConditions;\n",
    "import org.openqa.selenium.support.ui.Select;\n",
    "import org.openqa.selenium.support.ui.Wait;\n",
    "import org.openqa.selenium.support.ui.WebDriverWait;\n",
    "import org.testng.Assert;\n",
    "import org.testng.annotations.Test;\n",
    "import org.openqa.selenium.*;\n",
    "\n",
    "import io.github.bonigarcia.wdm.WebDriverManager;\n",
    "import org.openqa.selenium.chrome.ChromeDriver;\n",
    "\n",
    "import java.io.IOException;\n",
    "import java.text.ParseException;\n",
    "import java.util.ArrayList;\n",
    "import java.util.Hashtable;\n",
    "import java.util.List;\n",
    "import java.time.Duration;\n",
    "import java.util.concurrent.TimeUnit;\n",
    "import java.util.Calendar;\n",
    "import java.text.SimpleDateFormat;\n"
   ]
  },
  {
   "cell_type": "code",
   "execution_count": null,
   "id": "0990d2f8-1997-4db7-b06e-b3c0552bf7c9",
   "metadata": {},
   "outputs": [],
   "source": [
    "final SimpleDateFormat format = new SimpleDateFormat(\"MM/dd/yyyy HH:mm\");\n",
    "Calendar cal = Calendar.getInstance();\n",
    "format.format(cal.getTime())"
   ]
  },
  {
   "cell_type": "code",
   "execution_count": null,
   "id": "b4f52048-2163-4dcd-b5e5-2b2266bc61d4",
   "metadata": {},
   "outputs": [],
   "source": [
    "driver.getTitle()"
   ]
  },
  {
   "cell_type": "code",
   "execution_count": null,
   "id": "4eddac0e-0c81-4bf9-a275-d338e55f3825",
   "metadata": {},
   "outputs": [],
   "source": []
  },
  {
   "cell_type": "code",
   "execution_count": null,
   "id": "78fb1a86-3a53-4316-be5b-f5f9198f2aac",
   "metadata": {},
   "outputs": [],
   "source": []
  },
  {
   "cell_type": "code",
   "execution_count": null,
   "id": "240e7ecb-3b71-43f8-ac4a-cb59b15d0d44",
   "metadata": {},
   "outputs": [],
   "source": [
    "WebDriverManager.chromedriver().setup();\n",
    "WebDriver driver = new ChromeDriver();\n",
    "driver.manage().timeouts().implicitlyWait(30, TimeUnit.SECONDS);\n",
    "WebDriverWait wait = new WebDriverWait(driver, 60);\n",
    "JavascriptExecutor js = (JavascriptExecutor) driver"
   ]
  },
  {
   "cell_type": "code",
   "execution_count": null,
   "id": "6136998d-4b40-4f29-b09d-59a21541328a",
   "metadata": {},
   "outputs": [],
   "source": [
    "driver.switchTo().defaultContent();\n",
    "driver.switchTo().frame(\"main\");"
   ]
  },
  {
   "cell_type": "code",
   "execution_count": null,
   "id": "aef2dda9-6ba3-47f1-ad69-d3013f2147b9",
   "metadata": {},
   "outputs": [],
   "source": [
    "driver.manage().timeouts().implicitlyWait(3, TimeUnit.SECONDS);"
   ]
  },
  {
   "cell_type": "code",
   "execution_count": null,
   "id": "9fe3524e-89a7-491f-9166-57b7231f5c00",
   "metadata": {},
   "outputs": [],
   "source": [
    "WebElement ele1 = driver.findElement(By.xpath(\"//span[text()='Campaign Manager1']\"));\n",
    "boolean isDis = ele1.isDisplayed();"
   ]
  },
  {
   "cell_type": "code",
   "execution_count": 45,
   "id": "7c667d06-9dec-47ca-b96a-444d2fa72b1b",
   "metadata": {},
   "outputs": [],
   "source": [
    "public WebElement presentElement(By by, int sec){\n",
    "    driver.manage().timeouts().implicitlyWait(sec, TimeUnit.SECONDS);\n",
    "    try{\n",
    "        return driver.findElement(by);\n",
    "    }catch(Exception e){\n",
    "        return null;\n",
    "    }finally{\n",
    "        driver.manage().timeouts().implicitlyWait(30, TimeUnit.SECONDS);\n",
    "    }\n",
    "}\n",
    "public WebElement presentElement(WebElement element, int sec){\n",
    "    driver.manage().timeouts().implicitlyWait(0, TimeUnit.SECONDS);\n",
    "    try{\n",
    "        return new WebDriverWait(driver, sec).until(ExpectedConditions.visibilityOf(element));\n",
    "    }catch(Exception e){\n",
    "        return null;\n",
    "    }finally{\n",
    "        driver.manage().timeouts().implicitlyWait(30, TimeUnit.SECONDS);\n",
    "    }\n",
    "}\n"
   ]
  },
  {
   "cell_type": "code",
   "execution_count": null,
   "id": "c51fc83b-4333-4cc5-8d77-0b130e98d89e",
   "metadata": {},
   "outputs": [],
   "source": []
  },
  {
   "cell_type": "code",
   "execution_count": 48,
   "id": "acadaacc-8c3a-4e20-bf7c-1bdaf1e0bd2f",
   "metadata": {},
   "outputs": [
    {
     "data": {
      "text/plain": [
       "03/23/2022 02:54:39 AM"
      ]
     },
     "execution_count": 48,
     "metadata": {},
     "output_type": "execute_result"
    }
   ],
   "source": [
    "presentElement(By.xpath(\"//span[normalize-space()='Last poll:']//parent::td/following-sibling::td/span[@class='blacktext']\"), 10).getText()"
   ]
  },
  {
   "cell_type": "code",
   "execution_count": null,
   "id": "841c8d22-8de7-48a6-b804-cd9da9c7e3ba",
   "metadata": {},
   "outputs": [],
   "source": []
  },
  {
   "cell_type": "code",
   "execution_count": 41,
   "id": "b551d335-50ca-4cb7-9465-a6f4dfd2f17c",
   "metadata": {},
   "outputs": [
    {
     "name": "stdout",
     "output_type": "stream",
     "text": [
      "true\n"
     ]
    }
   ],
   "source": [
    "WebElement el2 = presentElement(By.xpath(\"//span[text()='Campaign Manager']\"), 3);\n",
    "if (el2 == null){\n",
    "    System.out.println(\"not found ele\");\n",
    "}else{\n",
    "     System.out.println(el2.isDisplayed());\n",
    "}"
   ]
  },
  {
   "cell_type": "code",
   "execution_count": null,
   "id": "dd11e2e5-787e-43a3-990d-c0beae566b02",
   "metadata": {},
   "outputs": [],
   "source": [
    "presentElement(By.xpath(\"//span[text()='Campaign Manager']\"), 3)"
   ]
  },
  {
   "cell_type": "code",
   "execution_count": null,
   "id": "765c64c8-d43a-4596-ae3f-acbde7c25a95",
   "metadata": {},
   "outputs": [],
   "source": [
    "// wait for add button and click add\n",
    "// phai co add button (chờ tùy thuộc vào thời gian load button)\n",
    "WebElement addBtnEle = presentElement(By.id(\"addButton\"), 60);\n",
    "if (addBtnEle != null){\n",
    "    System.out.println(\"Found add button\")\n",
    "}else{\n",
    "    \n",
    "}\n",
    "wait(1);\n",
    "addBtnEle.click();"
   ]
  },
  {
   "cell_type": "code",
   "execution_count": 42,
   "id": "b3a97030-dcdb-4d4e-b3f1-bb55ae764bc0",
   "metadata": {},
   "outputs": [],
   "source": [
    "public boolean tryClick(By by, int sec){\n",
    "    driver.manage().timeouts().implicitlyWait(sec, TimeUnit.SECONDS);\n",
    "    try{\n",
    "        driver.findElement(by).click();\n",
    "        return true;\n",
    "    }catch(Exception e){\n",
    "        return false;\n",
    "    }finally{\n",
    "        driver.manage().timeouts().implicitlyWait(30, TimeUnit.SECONDS);\n",
    "    }\n",
    "}"
   ]
  },
  {
   "cell_type": "code",
   "execution_count": 43,
   "id": "d39876dd-6e34-47f9-9db9-8487ef510581",
   "metadata": {},
   "outputs": [
    {
     "name": "stdout",
     "output_type": "stream",
     "text": [
      "true\n"
     ]
    }
   ],
   "source": [
    "System.out.println(tryClick(By.id(\"addButton\"), 60))"
   ]
  },
  {
   "cell_type": "code",
   "execution_count": null,
   "id": "6e63348e-0970-4dd0-9833-3cd407db384d",
   "metadata": {},
   "outputs": [],
   "source": []
  },
  {
   "cell_type": "code",
   "execution_count": null,
   "id": "9c06b69a-eecd-4428-9889-d5137b3117bc",
   "metadata": {},
   "outputs": [],
   "source": [
    "driver.get(\"https://wlvcgv-outreach.dev-8.ixcc-sandbox.avayacloud.com/VoicePortal/faces/main.jsf\");"
   ]
  },
  {
   "cell_type": "code",
   "execution_count": null,
   "id": "7a7447d4-c452-4e89-ae9c-81d3993ea74c",
   "metadata": {},
   "outputs": [],
   "source": [
    "public WebElement isElementPresent(By by, int sec){\n",
    "    driver.manage().timeouts().implicitlyWait(sec, TimeUnit.SECONDS);\n",
    "    try{\n",
    "        return driver.findElement(by);\n",
    "    }catch(Exception e){\n",
    "        return null;\n",
    "    }finally{\n",
    "        driver.manage().timeouts().implicitlyWait(30, TimeUnit.SECONDS);\n",
    "    }\n",
    "}"
   ]
  },
  {
   "cell_type": "code",
   "execution_count": null,
   "id": "3c2790bc-10be-4589-b21f-80a26e765b24",
   "metadata": {},
   "outputs": [],
   "source": [
    "isElementPresent(By.id(\"username\"), 1)"
   ]
  },
  {
   "cell_type": "code",
   "execution_count": null,
   "id": "f9a3e3db-1213-4ea4-86d5-74c3540f044e",
   "metadata": {},
   "outputs": [],
   "source": [
    "driver.findElement(By.id(\"username\"))"
   ]
  },
  {
   "cell_type": "code",
   "execution_count": null,
   "id": "1daf4aa4-ad92-4b6c-9f17-b9fcb1589ef0",
   "metadata": {},
   "outputs": [],
   "source": []
  },
  {
   "cell_type": "code",
   "execution_count": null,
   "id": "81acefbb-afc0-4087-8fc3-5db8914810ee",
   "metadata": {},
   "outputs": [],
   "source": []
  }
 ],
 "metadata": {
  "kernelspec": {
   "display_name": "Java",
   "language": "java",
   "name": "java"
  },
  "language_info": {
   "codemirror_mode": "java",
   "file_extension": ".jshell",
   "mimetype": "text/x-java-source",
   "name": "Java",
   "pygments_lexer": "java",
   "version": "11.0.13+10-LTS-370"
  }
 },
 "nbformat": 4,
 "nbformat_minor": 5
}
