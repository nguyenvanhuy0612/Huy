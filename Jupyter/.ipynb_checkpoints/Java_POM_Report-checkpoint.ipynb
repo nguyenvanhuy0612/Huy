{
 "cells": [
  {
   "cell_type": "code",
   "execution_count": null,
   "id": "030422f2-5818-4899-92ba-c81a396dbb43",
   "metadata": {},
   "outputs": [],
   "source": [
    "%%loadFromPOM\n",
    "<dependencies>\n",
    "    <!-- https://mvnrepository.com/artifact/org.testng/testng -->\n",
    "    <dependency>\n",
    "        <groupId>org.testng</groupId>\n",
    "        <artifactId>testng</artifactId>\n",
    "        <version>7.4.0</version>\n",
    "    </dependency>\n",
    "    <dependency>\n",
    "        <groupId>junit</groupId>\n",
    "        <artifactId>junit</artifactId>\n",
    "        <version>4.13.2</version>\n",
    "    </dependency>\n",
    "    <dependency>\n",
    "        <groupId>org.junit.jupiter</groupId>\n",
    "        <artifactId>junit-jupiter-engine</artifactId>\n",
    "        <version>5.8.1</version>\n",
    "    </dependency>\n",
    "    <dependency>\n",
    "        <groupId>org.seleniumhq.selenium</groupId>\n",
    "        <artifactId>selenium-java</artifactId>\n",
    "        <version>4.0.0</version>\n",
    "    </dependency>\n",
    "    <dependency>\n",
    "        <groupId>io.github.bonigarcia</groupId>\n",
    "        <artifactId>webdrivermanager</artifactId>\n",
    "        <version>5.0.2</version>\n",
    "    </dependency>\n",
    "    <dependency>\n",
    "        <groupId>log4j</groupId>\n",
    "        <artifactId>log4j</artifactId>\n",
    "        <version>1.2.17</version>\n",
    "    </dependency>\n",
    "    <dependency>\n",
    "        <groupId>org.json</groupId>\n",
    "        <artifactId>json</artifactId>\n",
    "        <version>20210307</version>\n",
    "    </dependency>\n",
    "    <dependency>\n",
    "        <groupId>com.google.code.gson</groupId>\n",
    "        <artifactId>gson</artifactId>\n",
    "        <version>2.8.9</version>\n",
    "    </dependency>\n",
    "    <dependency>\n",
    "        <groupId>com.opencsv</groupId>\n",
    "        <artifactId>opencsv</artifactId>\n",
    "        <version>5.6</version>\n",
    "    </dependency>\n",
    "\n",
    "</dependencies>"
   ]
  },
  {
   "cell_type": "code",
   "execution_count": null,
   "id": "6e208624-ce07-4433-be8d-13639f313f16",
   "metadata": {},
   "outputs": [],
   "source": [
    "import org.openqa.selenium.By;\n",
    "import org.openqa.selenium.WebDriver;\n",
    "import org.openqa.selenium.WebElement;\n",
    "import org.openqa.selenium.interactions.Actions;\n",
    "import org.openqa.selenium.interactions.ClickAction;\n",
    "import org.openqa.selenium.support.FindBy;\n",
    "import org.openqa.selenium.support.PageFactory;\n",
    "import org.openqa.selenium.support.ui.ExpectedConditions;\n",
    "import org.openqa.selenium.support.ui.Select;\n",
    "import org.openqa.selenium.support.ui.Wait;\n",
    "import org.openqa.selenium.support.ui.WebDriverWait;\n",
    "import org.testng.Assert;\n",
    "import org.testng.annotations.Test;\n",
    "import org.openqa.selenium.*;\n",
    "\n",
    "import io.github.bonigarcia.wdm.WebDriverManager;\n",
    "import org.openqa.selenium.chrome.*;\n",
    "\n",
    "import java.io.IOException;\n",
    "import java.text.ParseException;\n",
    "import java.util.ArrayList;\n",
    "import java.util.Hashtable;\n",
    "import java.util.*;\n",
    "import java.util.List;\n",
    "import java.time.Duration;\n",
    "import java.util.concurrent.TimeUnit;\n",
    "import java.util.Calendar;\n",
    "import java.text.SimpleDateFormat;\n",
    "import org.openqa.selenium.support.ui.ExpectedCondition;\n",
    "import java.time.Duration;\n",
    "import java.io.*;\n",
    "import org.openqa.selenium.remote.CapabilityType;"
   ]
  },
  {
   "cell_type": "code",
   "execution_count": 28,
   "id": "b4df490c-34db-4a2b-8ced-3977f1234aae",
   "metadata": {},
   "outputs": [],
   "source": [
    "import java.util.stream.Collectors;\n",
    "import java.nio.charset.StandardCharsets;\n",
    "import java.nio.file.StandardOpenOption;\n",
    "import com.opencsv.CSVWriter;"
   ]
  },
  {
   "cell_type": "code",
   "execution_count": 24,
   "id": "0e27196b-7d6f-4b8d-8684-efe2681e3a97",
   "metadata": {},
   "outputs": [],
   "source": [
    "public void writeToFile(String filename, List<String> data) {\n",
    "    try {\n",
    "        Writer writer = new FileWriter(filename, StandardCharsets.UTF_8,true);\n",
    "        CSVWriter csvOutput = new CSVWriter(writer);\n",
    "        csvOutput.writeNext(data.toArray(new String[0]));\n",
    "        csvOutput.close();\n",
    "    } catch (IOException e) {\n",
    "        e.printStackTrace();\n",
    "    }\n",
    "}"
   ]
  },
  {
   "cell_type": "code",
   "execution_count": null,
   "id": "29fd288c-dea2-45ad-a766-ca8958a1186e",
   "metadata": {},
   "outputs": [],
   "source": [
    "WebDriverManager.chromedriver().setup();\n",
    "ChromeOptions options = new ChromeOptions();\n",
    "options.addExtensions(new File(\"extension_SelectorsHub_4_3_8_0.crx\"));\n",
    "WebDriver driver = new ChromeDriver(options);\n",
    "driver.manage().timeouts().implicitlyWait(30, TimeUnit.SECONDS);\n",
    "WebDriverWait wait = new WebDriverWait(driver, 60);\n",
    "JavascriptExecutor js = (JavascriptExecutor) driver;\n",
    "Actions actionProvider = new Actions(driver);"
   ]
  },
  {
   "cell_type": "markdown",
   "id": "04072d4f-8d5f-4311-80bf-af3f267c2370",
   "metadata": {},
   "source": [
    "driver.manage().timeouts().implicitlyWait(Duration.ofSeconds(3));"
   ]
  },
  {
   "cell_type": "code",
   "execution_count": null,
   "id": "44f1c140-3caf-416d-8d2b-a69fef335533",
   "metadata": {},
   "outputs": [],
   "source": [
    "driver.get(\"https://tinhocngoisao.com/bang-gia-ban\")"
   ]
  },
  {
   "cell_type": "code",
   "execution_count": null,
   "id": "d70eeedb-ea3c-444a-b22e-fb2d20200289",
   "metadata": {},
   "outputs": [],
   "source": []
  },
  {
   "cell_type": "code",
   "execution_count": null,
   "id": "f9be645a-3a29-4620-8a55-2603f4d452dc",
   "metadata": {},
   "outputs": [],
   "source": []
  },
  {
   "cell_type": "code",
   "execution_count": null,
   "id": "f4e355c1-46ee-4e95-ae80-4e41c271c9d3",
   "metadata": {},
   "outputs": [],
   "source": [
    "collect(\"file.csv\");"
   ]
  },
  {
   "cell_type": "code",
   "execution_count": 25,
   "id": "4bff1448-ecce-4dc0-84a5-d6ea5a8e98e3",
   "metadata": {},
   "outputs": [
    {
     "data": {
      "text/plain": [
       "1,370,000đ"
      ]
     },
     "execution_count": 25,
     "metadata": {},
     "output_type": "execute_result"
    }
   ],
   "source": [
    "driver.findElement(By.xpath(\"//div[@class='group-product'][1]/div[@class='table-row'][1]/div//h4[not(./a)]\")).getText()"
   ]
  },
  {
   "cell_type": "code",
   "execution_count": null,
   "id": "f06dd655-e2c7-4a64-a2f5-503a2763d0d7",
   "metadata": {},
   "outputs": [],
   "source": []
  },
  {
   "cell_type": "code",
   "execution_count": null,
   "id": "ad81017d-b61f-4ede-9730-0842349a082c",
   "metadata": {},
   "outputs": [],
   "source": []
  },
  {
   "cell_type": "markdown",
   "id": "f54856bc-06be-4931-ad03-1c2c3d1cbbd4",
   "metadata": {},
   "source": [
    "driver.switchTo().defaultContent();\n",
    "driver.switchTo().frame(\"main\");"
   ]
  },
  {
   "cell_type": "code",
   "execution_count": null,
   "id": "f66e28a8-c138-454e-a3b0-7aac5904cfda",
   "metadata": {},
   "outputs": [],
   "source": [
    "List<String> data = Arrays.asList(\"h\", \"n\", \"asd\", \"asdas\", \"asdas\");"
   ]
  },
  {
   "cell_type": "code",
   "execution_count": null,
   "id": "b1a87309-0d33-4d20-b20f-c89c4d081605",
   "metadata": {},
   "outputs": [],
   "source": [
    "writeToFile(\"file.csv\", data)"
   ]
  },
  {
   "cell_type": "code",
   "execution_count": 26,
   "id": "0a517452-bd04-47a2-a76d-efb50bb0c6da",
   "metadata": {},
   "outputs": [],
   "source": [
    "public void collect(String filename) {\n",
    "    List<String> row = new ArrayList<>();\n",
    "    String productLoc = \"//div[@class='group-product']\";\n",
    "    List<WebElement> products = driver.findElements(By.xpath(productLoc));\n",
    "    for (int i = 1; i <= products.size(); i++) {\n",
    "        String groupName = driver.findElement(By.xpath(productLoc + \"[\" + i + \"]/div[@class='group-name']/h3\")).getText();\n",
    "        row.add(groupName);\n",
    "        System.out.println(row);\n",
    "        writeToFile(filename, row);\n",
    "        row.clear();\n",
    "        String tableRowLoc = productLoc + \"[\" + i + \"]/div[@class='table-row']\";\n",
    "        for (int j = 1; j <= driver.findElements(By.xpath(tableRowLoc)).size(); j++) {\n",
    "            row.addAll(driver.findElements(By.xpath(tableRowLoc + \"[\" + j + \"]/div//a\")).stream().map(WebElement::getText).collect(Collectors.toList()));\n",
    "            row.addAll(driver.findElements(By.xpath(tableRowLoc + \"[\" + j + \"]/div//h4[not(./a)]\")).stream().map(WebElement::getText).collect(Collectors.toList()));\n",
    "            writeToFile(filename, row);\n",
    "            row.clear();\n",
    "        }\n",
    "    }\n",
    "}"
   ]
  },
  {
   "cell_type": "code",
   "execution_count": null,
   "id": "abe178d9-a8c6-4a1d-95c0-fa57b84bb532",
   "metadata": {},
   "outputs": [],
   "source": []
  }
 ],
 "metadata": {
  "kernelspec": {
   "display_name": "Java",
   "language": "java",
   "name": "java"
  },
  "language_info": {
   "codemirror_mode": "java",
   "file_extension": ".jshell",
   "mimetype": "text/x-java-source",
   "name": "Java",
   "pygments_lexer": "java",
   "version": "11.0.13+10-LTS-370"
  }
 },
 "nbformat": 4,
 "nbformat_minor": 5
}
