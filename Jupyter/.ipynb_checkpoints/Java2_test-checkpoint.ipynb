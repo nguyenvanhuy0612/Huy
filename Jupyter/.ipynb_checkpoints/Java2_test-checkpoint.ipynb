{
 "cells": [
  {
   "cell_type": "code",
   "execution_count": 1,
   "id": "6a44df30-2eab-4758-955f-a2c32326076f",
   "metadata": {},
   "outputs": [],
   "source": [
    "%%loadFromPOM\n",
    "<dependencies>\n",
    "    <!-- https://mvnrepository.com/artifact/org.testng/testng -->\n",
    "    <dependency>\n",
    "        <groupId>org.testng</groupId>\n",
    "        <artifactId>testng</artifactId>\n",
    "        <version>7.4.0</version>\n",
    "    </dependency>\n",
    "    <dependency>\n",
    "        <groupId>junit</groupId>\n",
    "        <artifactId>junit</artifactId>\n",
    "        <version>4.13.2</version>\n",
    "    </dependency>\n",
    "    <dependency>\n",
    "        <groupId>org.junit.jupiter</groupId>\n",
    "        <artifactId>junit-jupiter-engine</artifactId>\n",
    "        <version>5.8.1</version>\n",
    "    </dependency>\n",
    "    <dependency>\n",
    "        <groupId>org.seleniumhq.selenium</groupId>\n",
    "        <artifactId>selenium-java</artifactId>\n",
    "        <version>4.0.0</version>\n",
    "    </dependency>\n",
    "    <dependency>\n",
    "        <groupId>io.github.bonigarcia</groupId>\n",
    "        <artifactId>webdrivermanager</artifactId>\n",
    "        <version>5.0.2</version>\n",
    "    </dependency>\n",
    "    <dependency>\n",
    "        <groupId>log4j</groupId>\n",
    "        <artifactId>log4j</artifactId>\n",
    "        <version>1.2.17</version>\n",
    "    </dependency>\n",
    "    <dependency>\n",
    "        <groupId>org.json</groupId>\n",
    "        <artifactId>json</artifactId>\n",
    "        <version>20210307</version>\n",
    "    </dependency>\n",
    "    <dependency>\n",
    "        <groupId>com.google.code.gson</groupId>\n",
    "        <artifactId>gson</artifactId>\n",
    "        <version>2.8.9</version>\n",
    "    </dependency>\n",
    "\n",
    "</dependencies>"
   ]
  },
  {
   "cell_type": "code",
   "execution_count": 2,
   "id": "90c6d4f5-c7bc-4ad0-bb39-b697b6c54b9d",
   "metadata": {},
   "outputs": [
    {
     "name": "stdout",
     "output_type": "stream",
     "text": [
      "Hello\n"
     ]
    }
   ],
   "source": [
    "System.out.println(\"Hello\");"
   ]
  },
  {
   "cell_type": "code",
   "execution_count": 3,
   "id": "ff94f83a-d4f5-48f2-be38-f2ea23e8c3a7",
   "metadata": {},
   "outputs": [],
   "source": [
    "import org.openqa.selenium.By;\n",
    "import org.openqa.selenium.WebDriver;\n",
    "import org.openqa.selenium.WebElement;\n",
    "import org.openqa.selenium.interactions.Actions;\n",
    "import org.openqa.selenium.interactions.ClickAction;\n",
    "import org.openqa.selenium.support.FindBy;\n",
    "import org.openqa.selenium.support.PageFactory;\n",
    "import org.openqa.selenium.support.ui.ExpectedConditions;\n",
    "import org.openqa.selenium.support.ui.Select;\n",
    "import org.openqa.selenium.support.ui.Wait;\n",
    "import org.openqa.selenium.support.ui.WebDriverWait;\n",
    "import org.testng.Assert;\n",
    "import org.testng.annotations.Test;\n",
    "import org.openqa.selenium.*;\n",
    "\n",
    "import io.github.bonigarcia.wdm.WebDriverManager;\n",
    "import org.openqa.selenium.chrome.*;\n",
    "\n",
    "import java.io.IOException;\n",
    "import java.text.ParseException;\n",
    "import java.util.ArrayList;\n",
    "import java.util.Hashtable;\n",
    "import java.util.*;\n",
    "import java.util.List;\n",
    "import java.time.Duration;\n",
    "import java.util.concurrent.TimeUnit;\n",
    "import java.util.Calendar;\n",
    "import java.text.SimpleDateFormat;\n",
    "import org.openqa.selenium.support.ui.ExpectedCondition;\n",
    "import java.time.Duration;\n",
    "import java.io.File;\n",
    "import org.openqa.selenium.remote.CapabilityType;"
   ]
  },
  {
   "cell_type": "code",
   "execution_count": null,
   "id": "fcfdbc90-3285-435f-b56e-943f85e8e396",
   "metadata": {},
   "outputs": [],
   "source": []
  },
  {
   "cell_type": "code",
   "execution_count": null,
   "id": "b8c9b392-7090-45e6-b822-d29d82f28a58",
   "metadata": {},
   "outputs": [],
   "source": [
    "%classpath C:/Users/Admin/Documents/HuyTestNGLocal/JavaHuyExample/src/test/java;\n",
    "import com.test.test1;"
   ]
  },
  {
   "cell_type": "code",
   "execution_count": null,
   "id": "50f8fe46-f7b4-49ab-96a7-ef804053b316",
   "metadata": {},
   "outputs": [],
   "source": []
  },
  {
   "cell_type": "code",
   "execution_count": null,
   "id": "c88ffc0e-e8d9-44b3-b7a2-52470abdff4d",
   "metadata": {},
   "outputs": [],
   "source": []
  },
  {
   "cell_type": "code",
   "execution_count": null,
   "id": "555da0b2-1c28-474e-b1d2-aa2ea7a7df3b",
   "metadata": {},
   "outputs": [],
   "source": []
  },
  {
   "cell_type": "code",
   "execution_count": null,
   "id": "3bebf4fc-c87e-48b8-b71e-0b5f9fad0b71",
   "metadata": {},
   "outputs": [],
   "source": [
    "%open test1.java"
   ]
  },
  {
   "cell_type": "code",
   "execution_count": null,
   "id": "6056cabf-d486-4136-bcd0-d922b4732ebb",
   "metadata": {},
   "outputs": [],
   "source": []
  },
  {
   "cell_type": "code",
   "execution_count": null,
   "id": "f63e5be5-9a54-4bb9-a725-726eebf8f314",
   "metadata": {},
   "outputs": [],
   "source": []
  },
  {
   "cell_type": "code",
   "execution_count": 4,
   "id": "0990d2f8-1997-4db7-b06e-b3c0552bf7c9",
   "metadata": {},
   "outputs": [
    {
     "data": {
      "text/plain": [
       "04/13/2022 08:19"
      ]
     },
     "execution_count": 4,
     "metadata": {},
     "output_type": "execute_result"
    }
   ],
   "source": [
    "final SimpleDateFormat format = new SimpleDateFormat(\"MM/dd/yyyy HH:mm\");\n",
    "Calendar cal = Calendar.getInstance();\n",
    "format.format(cal.getTime())"
   ]
  },
  {
   "cell_type": "code",
   "execution_count": null,
   "id": "4eddac0e-0c81-4bf9-a275-d338e55f3825",
   "metadata": {},
   "outputs": [],
   "source": []
  },
  {
   "cell_type": "code",
   "execution_count": null,
   "id": "78fb1a86-3a53-4316-be5b-f5f9198f2aac",
   "metadata": {},
   "outputs": [],
   "source": []
  },
  {
   "cell_type": "code",
   "execution_count": null,
   "id": "240e7ecb-3b71-43f8-ac4a-cb59b15d0d44",
   "metadata": {},
   "outputs": [],
   "source": [
    "WebDriverManager.chromedriver().setup();\n",
    "ChromeOptions options = new ChromeOptions();\n",
    "options.setCapability(CapabilityType.ACCEPT_INSECURE_CERTS, true);\n",
    "// options.addArguments(\"test-type\");\n",
    "options.addArguments(\"--disable-web-security\");\n",
    "options.addArguments(\"--allow-running-insecure-content\");\n",
    "options.addArguments(\"use-fake-device-for-media-stream\");\n",
    "options.addArguments(\"use-fake-ui-for-media-stream\");\n",
    "options.addArguments(\"disable-features=WebRtcHideLocalIpsWithMdns\");\n",
    "// disable Chrome popups\n",
    "options.addArguments(\"disable-infobars\");\n",
    "options.addArguments(\"disable-extensions\");\n",
    "options.addArguments(\"disable-notifications\");\n",
    "options.addArguments(\"disable-popup-blocking\");\n",
    "// options.addArguments(\"excludeSwitches\");\n",
    "// headless\n",
    "// options.addArguments(\"--headless\");\n",
    "// Capabilities merge to options\n",
    "Map<String, String> prefs = new Hashtable<>();\n",
    "prefs.put(\"download.prompt_for_download\", \"true\");\n",
    "prefs.put(\"download.default_directory\", \"C:\\\\\");\n",
    "prefs.put(\"download.extensions_to_open\", \"pdf\");\n",
    "options.setCapability(\"chrome.prefs\", prefs);\n",
    "options.setCapability(\"chrome.switches\",\n",
    "                      Collections.singletonList(\"--user-data-dir=\" + System.getProperty(\"user.dir\")\n",
    "                                                + \"\\\\AppData\\\\Local\\\\Google\\\\Chrome\\\\User Data\\\\Default\"));\n",
    "options.addExtensions(new File(\"SelectorsHub.crx\"));\n",
    "WebDriver driver = new ChromeDriver(options);\n",
    "driver.manage().timeouts().implicitlyWait(30, TimeUnit.SECONDS);\n",
    "WebDriverWait wait = new WebDriverWait(driver, 60);\n",
    "JavascriptExecutor js = (JavascriptExecutor) driver;\n",
    "Actions actionProvider = new Actions(driver);"
   ]
  },
  {
   "cell_type": "code",
   "execution_count": null,
   "id": "19b50a5b-ce44-423b-aad2-9fbf39ff9e50",
   "metadata": {},
   "outputs": [],
   "source": [
    "System.setProperty(\"webdriver.chrome.driver\", \"chromedriver.exe\"); \n",
    "ChromeOptions options = new ChromeOptions();\n",
    "options.setCapability(CapabilityType.ACCEPT_INSECURE_CERTS, true);\n",
    "options.addArguments(\"--disable-web-security\");\n",
    "options.addArguments(\"--allow-running-insecure-content\");\n",
    "options.addArguments(\"use-fake-device-for-media-stream\");\n",
    "options.addArguments(\"use-fake-ui-for-media-stream\");\n",
    "options.addArguments(\"disable-features=WebRtcHideLocalIpsWithMdns\");\n",
    "// disable Chrome popups\n",
    "options.addArguments(\"--no-sandbox\");\n",
    "options.addArguments(\"--disable-gpu\");\n",
    "options.addArguments(\"--disable-infobars\");\n",
    "options.addArguments(\"--disable-extensions\");\n",
    "options.addArguments(\"--disable-notifications\");\n",
    "options.addArguments(\"--disable-popup-blocking\");\n",
    "options.addArguments(\"--disable-dev-shm-usage\");\n",
    "options.addArguments(\"--disable-browser-side-navigation\");\n",
    "WebDriver driver = new ChromeDriver(options);\n",
    "driver.manage().timeouts().implicitlyWait(30, TimeUnit.SECONDS);\n",
    "WebDriverWait wait = new WebDriverWait(driver, 60);\n",
    "JavascriptExecutor js = (JavascriptExecutor) driver;\n",
    "Actions actionProvider = new Actions(driver);"
   ]
  },
  {
   "cell_type": "code",
   "execution_count": null,
   "id": "d8d9043d-b188-47e6-9135-a64535e7b5f0",
   "metadata": {},
   "outputs": [],
   "source": [
    "public WebElement presentElement(By by, int sec){\n",
    "    driver.manage().timeouts().implicitlyWait(sec, TimeUnit.SECONDS);\n",
    "    try{\n",
    "        return driver.findElement(by);\n",
    "    }catch(Exception e){\n",
    "        return null;\n",
    "    }finally{\n",
    "        driver.manage().timeouts().implicitlyWait(30, TimeUnit.SECONDS);\n",
    "    }\n",
    "}\n",
    "public WebElement presentElement(WebElement element, int sec){\n",
    "    driver.manage().timeouts().implicitlyWait(0, TimeUnit.SECONDS);\n",
    "    try{\n",
    "        return new WebDriverWait(driver, sec).until(ExpectedConditions.visibilityOf(element));\n",
    "    }catch(Exception e){\n",
    "        return null;\n",
    "    }finally{\n",
    "        driver.manage().timeouts().implicitlyWait(30, TimeUnit.SECONDS);\n",
    "    }\n",
    "}\n",
    "public boolean tryClick(By by, int sec){\n",
    "    driver.manage().timeouts().implicitlyWait(sec, TimeUnit.SECONDS);\n",
    "    try{\n",
    "        driver.findElement(by).click();\n",
    "        return true;\n",
    "    }catch(Exception e){\n",
    "        return false;\n",
    "    }finally{\n",
    "        driver.manage().timeouts().implicitlyWait(30, TimeUnit.SECONDS);\n",
    "    }\n",
    "}\n",
    "public boolean tryClick(WebElement element, int sec){\n",
    "    driver.manage().timeouts().implicitlyWait(0, TimeUnit.SECONDS);\n",
    "    try{\n",
    "        new WebDriverWait(driver, sec).until(ExpectedConditions.elementToBeClickable(element)).click();\n",
    "        return true;\n",
    "    }catch(Exception e){\n",
    "        return false;\n",
    "    }finally{\n",
    "        driver.manage().timeouts().implicitlyWait(30, TimeUnit.SECONDS);\n",
    "    }\n",
    "}\n",
    "public void sleep(long sec){\n",
    "    System.out.println(\"sleep: \" + sec + \" seconds\");\n",
    "    try{\n",
    "        Thread.sleep(sec * 1000);\n",
    "    }catch(Exception e){}\n",
    "}\n",
    "public void msleep(long miliSec){\n",
    "    System.out.println(\"sleep: \" + miliSec + \" miliseconds\");\n",
    "    try{\n",
    "        Thread.sleep(miliSec);\n",
    "    }catch(Exception e){}\n",
    "}"
   ]
  },
  {
   "cell_type": "code",
   "execution_count": null,
   "id": "765042b1-26f5-4d90-aefb-2bae47d3abea",
   "metadata": {},
   "outputs": [],
   "source": []
  },
  {
   "cell_type": "code",
   "execution_count": null,
   "id": "6136998d-4b40-4f29-b09d-59a21541328a",
   "metadata": {},
   "outputs": [],
   "source": []
  },
  {
   "cell_type": "code",
   "execution_count": null,
   "id": "aef2dda9-6ba3-47f1-ad69-d3013f2147b9",
   "metadata": {},
   "outputs": [],
   "source": [
    "driver.manage().timeouts().implicitlyWait(0, TimeUnit.SECONDS);"
   ]
  },
  {
   "cell_type": "code",
   "execution_count": null,
   "id": "9fe3524e-89a7-491f-9166-57b7231f5c00",
   "metadata": {},
   "outputs": [],
   "source": [
    "driver.get(\"https://wlvcgv-outreach.dev-8.ixcc-sandbox.avayacloud.com/VoicePortal/faces/main.jsf\");"
   ]
  },
  {
   "cell_type": "code",
   "execution_count": null,
   "id": "9a1f510a-fa65-4ab0-bebd-e9866c0e574c",
   "metadata": {},
   "outputs": [],
   "source": []
  },
  {
   "cell_type": "code",
   "execution_count": null,
   "id": "61629c2b-8663-498a-8fea-30e0fe464f04",
   "metadata": {},
   "outputs": [],
   "source": []
  },
  {
   "cell_type": "code",
   "execution_count": null,
   "id": "64f9a69a-6918-47bf-bcfa-eb570e8776e3",
   "metadata": {},
   "outputs": [],
   "source": [
    "driver.findElement(By.id(\"username\")).sendKeys(\"epcloudadmin\")"
   ]
  },
  {
   "cell_type": "code",
   "execution_count": null,
   "id": "a96b07d4-70a1-4511-8704-21698e26ab03",
   "metadata": {},
   "outputs": [],
   "source": [
    "driver.findElement(By.xpath(\"//input[@name='logon']\")).click()"
   ]
  },
  {
   "cell_type": "code",
   "execution_count": null,
   "id": "18c29883-0ab2-4967-b492-7cba084e2f79",
   "metadata": {},
   "outputs": [],
   "source": [
    "driver.findElement(By.id(\"password\")).sendKeys(\"Ep_Cloud_Adm_21\")"
   ]
  },
  {
   "cell_type": "code",
   "execution_count": null,
   "id": "7ff92e27-8bc6-4718-96fc-9a6fc7862375",
   "metadata": {},
   "outputs": [],
   "source": [
    "driver.findElement(By.xpath(\"//input[@name='logon']\")).click()"
   ]
  },
  {
   "cell_type": "code",
   "execution_count": null,
   "id": "6d280f63-d7bf-4a89-ac4b-899607659a5c",
   "metadata": {},
   "outputs": [],
   "source": [
    "driver.switchTo().defaultContent();\n",
    "driver.switchTo().frame(\"menu\");\n",
    "driver.findElement(By.linkText(\"Manager\")).click();"
   ]
  },
  {
   "cell_type": "code",
   "execution_count": null,
   "id": "b59584f2-0b45-40fc-9f75-591a313f885f",
   "metadata": {},
   "outputs": [],
   "source": [
    "driver.switchTo().defaultContent();\n",
    "driver.switchTo().frame(\"main\");"
   ]
  },
  {
   "cell_type": "code",
   "execution_count": null,
   "id": "ab970fce-78d7-421a-8e9c-ed06ae22b647",
   "metadata": {},
   "outputs": [],
   "source": []
  },
  {
   "cell_type": "code",
   "execution_count": null,
   "id": "95f23102-c158-4a76-85d1-89bf2902fb27",
   "metadata": {},
   "outputs": [],
   "source": [
    "WebElement mainMenuElement = presentElement(By.xpath(\"//a[contains(text(),'Campaigns')]//following-sibling::ul\"), 5);"
   ]
  },
  {
   "cell_type": "code",
   "execution_count": null,
   "id": "c6a0e237-01ea-49cb-91c0-3aa53df0f86c",
   "metadata": {},
   "outputs": [],
   "source": [
    "js.executeScript(\"arguments[0].setAttribute('style',\\\"visibility: visible;\\\")\", mainMenuElement);"
   ]
  },
  {
   "cell_type": "code",
   "execution_count": null,
   "id": "a09085e1-c330-4bfb-ae48-480a4d323acb",
   "metadata": {},
   "outputs": [],
   "source": [
    "driver.findElement(By.linkText(\"Campaign Manager\")).click();"
   ]
  },
  {
   "cell_type": "code",
   "execution_count": null,
   "id": "828be5c5-0c74-4f3e-ac45-ffb7ec4d30be",
   "metadata": {},
   "outputs": [],
   "source": [
    "driver.findElement(By.id(\"addButton\")).click();"
   ]
  },
  {
   "cell_type": "code",
   "execution_count": null,
   "id": "a1afed60-aba8-4552-bd2d-796bb1cd2679",
   "metadata": {},
   "outputs": [],
   "source": [
    "driver.findElement(By.id(\"campaignName\")).sendKeys(\"test1111\");"
   ]
  },
  {
   "cell_type": "code",
   "execution_count": null,
   "id": "ff7e6853-a604-4c77-9dc7-daded90012fc",
   "metadata": {},
   "outputs": [],
   "source": [
    "driver.findElement(By.xpath(\"//div[@aria-describedby='campaign.completionCodesTab.completionCodesForCampaign']\")).click()"
   ]
  },
  {
   "cell_type": "code",
   "execution_count": null,
   "id": "eb6e1a08-ab71-4aba-ba1d-0b3ba75e0577",
   "metadata": {},
   "outputs": [],
   "source": [
    "driver.switchTo().defaultContent();"
   ]
  },
  {
   "cell_type": "code",
   "execution_count": null,
   "id": "df97eef0-9da5-4564-a146-ea0c054ef01c",
   "metadata": {},
   "outputs": [],
   "source": [
    "driver.getPageSource()"
   ]
  },
  {
   "cell_type": "code",
   "execution_count": null,
   "id": "aac2e8e3-06aa-4b32-929d-6624ff54faed",
   "metadata": {},
   "outputs": [],
   "source": [
    "import java.io.BufferedWriter;\n",
    "import java.io.FileWriter;\n",
    "import java.io.IOException;"
   ]
  },
  {
   "cell_type": "code",
   "execution_count": null,
   "id": "22376fe8-008d-4696-a2f4-18ad563c8e58",
   "metadata": {},
   "outputs": [],
   "source": [
    "public void write() throws IOException{\n",
    "    String str = driver.getPageSource();\n",
    "    BufferedWriter writer = new BufferedWriter(new FileWriter(\"C:/Users/Admin/Desktop/index.html\"));\n",
    "    writer.write(str);\n",
    "    writer.close();\n",
    "}"
   ]
  },
  {
   "cell_type": "code",
   "execution_count": null,
   "id": "9d7e96a2-a469-409e-9e7c-c7680a84c7c4",
   "metadata": {},
   "outputs": [],
   "source": [
    "write();"
   ]
  },
  {
   "cell_type": "code",
   "execution_count": null,
   "id": "8d146a4b-078c-430e-9113-40d013e7f2cd",
   "metadata": {},
   "outputs": [],
   "source": [
    "WebDriverWait wait = new WebDriverWait(driver, 6);"
   ]
  },
  {
   "cell_type": "code",
   "execution_count": null,
   "id": "81acf6b7-bba0-486b-93d1-c38ce8344630",
   "metadata": {},
   "outputs": [],
   "source": [
    "wait.pollingEvery(Duration.ofSeconds(2))"
   ]
  },
  {
   "cell_type": "code",
   "execution_count": null,
   "id": "67097eee-3fc6-48d8-a9b7-af52f5915072",
   "metadata": {},
   "outputs": [],
   "source": [
    "wait.until(ExpectedConditions.visibilityOfElementLocated(By.cssSelector(\"#username\")))"
   ]
  },
  {
   "cell_type": "code",
   "execution_count": null,
   "id": "76062e5b-e2db-4d28-b657-c80827dfa5dd",
   "metadata": {},
   "outputs": [],
   "source": []
  },
  {
   "cell_type": "code",
   "execution_count": null,
   "id": "0756f5e8-3a2d-47fc-ae19-7245a14db734",
   "metadata": {},
   "outputs": [],
   "source": []
  },
  {
   "cell_type": "code",
   "execution_count": null,
   "id": "d8e3982b-a869-427e-8e7f-733948e08e5a",
   "metadata": {},
   "outputs": [],
   "source": [
    "presentElement(By.cssSelector(\"#username\"), 2)"
   ]
  },
  {
   "cell_type": "code",
   "execution_count": null,
   "id": "3b405e81-b4a1-4dcf-b2b5-e4eca5d4c19c",
   "metadata": {},
   "outputs": [],
   "source": [
    "presentElement(By.xpath(\"//select[@data-property='@CallPacingType']\"), 2)"
   ]
  },
  {
   "cell_type": "code",
   "execution_count": null,
   "id": "84a39f96-8a0e-4909-bb66-8a51eca9888b",
   "metadata": {},
   "outputs": [],
   "source": []
  },
  {
   "cell_type": "code",
   "execution_count": null,
   "id": "b1adca97-5e54-4839-a2ff-062e5e3f0dbc",
   "metadata": {},
   "outputs": [],
   "source": [
    "ArrayList<String> lists = new ArrayList<>();"
   ]
  },
  {
   "cell_type": "code",
   "execution_count": null,
   "id": "1c762e8e-728b-48a2-aee0-490f3c427d83",
   "metadata": {},
   "outputs": [],
   "source": [
    "lists.add(\"aa\");\n",
    "lists.add(\"ab\");\n",
    "lists.add(\"ac\");"
   ]
  },
  {
   "cell_type": "code",
   "execution_count": null,
   "id": "571a92dc-93b8-4c01-9507-d645cfaa7b06",
   "metadata": {},
   "outputs": [],
   "source": [
    "System.out.println(lists.toString())"
   ]
  },
  {
   "cell_type": "code",
   "execution_count": null,
   "id": "9054d161-cecc-4833-99a5-daeb61fd3842",
   "metadata": {},
   "outputs": [],
   "source": []
  },
  {
   "cell_type": "code",
   "execution_count": null,
   "id": "8d0ab302-5b56-40a7-a31a-745d6744ffd5",
   "metadata": {},
   "outputs": [],
   "source": []
  },
  {
   "cell_type": "code",
   "execution_count": null,
   "id": "dbc17e17-58be-4eec-a363-5e2505d7b173",
   "metadata": {},
   "outputs": [],
   "source": [
    "new WebDriverWait(driver, 5).pollingEvery(Duration.ofSeconds(2)).until(ExpectedConditions.elementToBeClickable(By.name(\"logon1\")))"
   ]
  },
  {
   "cell_type": "code",
   "execution_count": null,
   "id": "d3ffd9df-afc0-447f-aab5-bb90515eef14",
   "metadata": {},
   "outputs": [],
   "source": [
    "WebDriverWait w1 = new WebDriverWait(driver, 6);"
   ]
  },
  {
   "cell_type": "code",
   "execution_count": null,
   "id": "eef3bbaf-04a0-411e-954d-a0c8d580c341",
   "metadata": {},
   "outputs": [],
   "source": [
    "w1.pollingEvery(Duration.ofSeconds(2)).until(ExpectedConditions.elementToBeClickable(By.name(\"logon1\")));"
   ]
  },
  {
   "cell_type": "code",
   "execution_count": null,
   "id": "9a36a66f-9810-4e33-b70b-dc9a7ce4182b",
   "metadata": {},
   "outputs": [],
   "source": []
  },
  {
   "cell_type": "code",
   "execution_count": null,
   "id": "53cdb83a-a719-4b9c-8e34-7443ba080096",
   "metadata": {},
   "outputs": [],
   "source": [
    "driver.getWindowHandles()"
   ]
  },
  {
   "cell_type": "code",
   "execution_count": null,
   "id": "1bfc058d-cdab-4ba9-81b3-8434fadb0211",
   "metadata": {},
   "outputs": [],
   "source": [
    "driver.switchTo().window(\"CDwindow-D3538C0D44846F4002462017414AC634\");"
   ]
  },
  {
   "cell_type": "code",
   "execution_count": null,
   "id": "4d976a57-143f-4d9f-82ae-d066870cbca8",
   "metadata": {},
   "outputs": [],
   "source": [
    "for(int i=0; i< 100; i++){\n",
    "    System.out.println(js.executeScript(\"return document.readyState;\"));\n",
    "    msleep(300);\n",
    "}"
   ]
  },
  {
   "cell_type": "code",
   "execution_count": null,
   "id": "071916c9-6be3-42f5-a30c-cfde60c95ef5",
   "metadata": {},
   "outputs": [],
   "source": [
    "for(int i=0; i< 100; i++){\n",
    "    System.out.println(wait.until((ExpectedCondition<Boolean>) wd -> \n",
    "                ((JavascriptExecutor) wd).executeScript(\"return document.readyState\").equals(\"complete\")));\n",
    "    msleep(500);\n",
    "}"
   ]
  },
  {
   "cell_type": "code",
   "execution_count": null,
   "id": "b7ed8b39-7252-4f47-ac76-901819e6a2d4",
   "metadata": {},
   "outputs": [],
   "source": [
    "wait.until((ExpectedCondition<Boolean>) wd -> \n",
    "                ((JavascriptExecutor) wd).executeScript(\"return document.readyState\").equals(\"complete\"));"
   ]
  },
  {
   "cell_type": "code",
   "execution_count": null,
   "id": "5ebcf8c9-7c1d-4c17-8ae3-6fc0847a4a35",
   "metadata": {},
   "outputs": [],
   "source": [
    "driver.findElement(By.xpath(\"//div[@id='kc-form-buttons']\")).findElements(By.xpath(\".//input\"))"
   ]
  },
  {
   "cell_type": "code",
   "execution_count": null,
   "id": "3b29fcb8-909d-44a3-b00c-d33385185490",
   "metadata": {},
   "outputs": [],
   "source": [
    "driver.findElements(By.xpath(\"//input\"))"
   ]
  },
  {
   "cell_type": "code",
   "execution_count": null,
   "id": "0aaea865-9f05-4fd4-a7cd-2dcca6985ad0",
   "metadata": {},
   "outputs": [],
   "source": [
    "actionProvider.moveToElement(e).click().perform();"
   ]
  },
  {
   "cell_type": "code",
   "execution_count": null,
   "id": "2ea99c02-4182-4406-843d-bb502ed8184e",
   "metadata": {},
   "outputs": [],
   "source": [
    "//div[@id='kc-form-buttons']//input"
   ]
  },
  {
   "cell_type": "code",
   "execution_count": null,
   "id": "c51fc83b-4333-4cc5-8d77-0b130e98d89e",
   "metadata": {},
   "outputs": [],
   "source": [
    "driver.switchTo().defaultContent();\n",
    "driver.switchTo().frame(\"main\");"
   ]
  },
  {
   "cell_type": "code",
   "execution_count": null,
   "id": "c250f22a-1420-4bfc-8f78-33f5a8c35b7a",
   "metadata": {},
   "outputs": [],
   "source": [
    "driver.getWindowHandles();"
   ]
  },
  {
   "cell_type": "code",
   "execution_count": null,
   "id": "764a7580-96c9-4495-814c-e6421a5b0d16",
   "metadata": {},
   "outputs": [],
   "source": [
    "driver.switchTo().frame(\"main\")"
   ]
  },
  {
   "cell_type": "code",
   "execution_count": null,
   "id": "d122361f-241d-4b29-9e09-81b0124deed0",
   "metadata": {},
   "outputs": [],
   "source": []
  },
  {
   "cell_type": "code",
   "execution_count": null,
   "id": "81e2a531-cb9e-45b0-8149-8346f02a8988",
   "metadata": {},
   "outputs": [],
   "source": []
  },
  {
   "cell_type": "code",
   "execution_count": null,
   "id": "92a08b93-2a10-4298-96dd-93c64d256825",
   "metadata": {},
   "outputs": [],
   "source": [
    "driver.switchTo().defaultContent();\n",
    "driver.switchTo().frame(\"main\");\n",
    "driver.findElement(By.xpath(\"//button[text()='Add']\")).click();\n",
    "System.out.println(((JavascriptExecutor) driver).executeScript(\"return document.readyState;\"));\n",
    "driver.findElement(By.id(\"contactstrategyname\")).sendKeys(\"sssss\");\n",
    "driver.findElement(By.id(\"usetemplate\")).click();\n",
    "new Select(driver.findElement(By.id(\"template\"))).selectByVisibleText(\"Preview Template\");\n",
    "driver.findElement(By.id(\"continue\")).click();\n",
    "System.out.println(((JavascriptExecutor) driver).executeScript(\"return document.readyState;\"));\n",
    "wait.until(ExpectedConditions.numberOfWindowsToBe(2));\n",
    "sleep(2);\n",
    "ArrayList<String> listWindows = new ArrayList<String> (driver.getWindowHandles());\n",
    "driver.switchTo().window(listWindows.get(1));\n",
    "System.out.println(((JavascriptExecutor) driver).executeScript(\"return document.readyState;\"));"
   ]
  },
  {
   "cell_type": "code",
   "execution_count": null,
   "id": "c6446b29-02be-4344-b418-9559ab5b05bf",
   "metadata": {},
   "outputs": [],
   "source": [
    "driver.getWindowHandles();"
   ]
  },
  {
   "cell_type": "code",
   "execution_count": null,
   "id": "873a33b8-7384-488c-9764-3daeb934551d",
   "metadata": {},
   "outputs": [],
   "source": [
    "driver.switchTo().window(\"CDwindow-7AFA3A37312354256D10BF8B2C375DF9\");"
   ]
  },
  {
   "cell_type": "code",
   "execution_count": null,
   "id": "df09c3ad-7c78-47e6-bf22-d4b76402501f",
   "metadata": {},
   "outputs": [],
   "source": [
    "driver.switchTo().frame(\"main\")"
   ]
  },
  {
   "cell_type": "code",
   "execution_count": null,
   "id": "2a766603-674a-465e-a7ac-bc99268d8924",
   "metadata": {},
   "outputs": [],
   "source": [
    "actionProvider.moveByOffset(0,0).build().perform();"
   ]
  },
  {
   "cell_type": "code",
   "execution_count": null,
   "id": "761778cb-9daa-4d56-877b-128cab4d44ee",
   "metadata": {},
   "outputs": [],
   "source": [
    "WebElement camp = driver.findElement(By.xpath(\"//a[contains(text(), 'Campaigns')]\"));"
   ]
  },
  {
   "cell_type": "code",
   "execution_count": null,
   "id": "1df5600d-66af-42a2-b68f-bc377c571d2d",
   "metadata": {},
   "outputs": [],
   "source": [
    "actionProvider.moveByOffset(0,0).build().perform();\n",
    "actionProvider.moveToElement(camp).build().perform();"
   ]
  },
  {
   "cell_type": "code",
   "execution_count": null,
   "id": "42734da7-1ebf-40f6-b2bb-c12f39acbc75",
   "metadata": {},
   "outputs": [],
   "source": [
    "driver.findElement(By.xpath(\"//div[@class='Toastify__toast-body']\")).getText()"
   ]
  },
  {
   "cell_type": "code",
   "execution_count": null,
   "id": "10d32db6-d7a4-47a9-bad1-6c36e06c343a",
   "metadata": {},
   "outputs": [],
   "source": [
    "WebElement element = driver.findElement(By.xpath(\"//frame[@name='menu']\"));"
   ]
  },
  {
   "cell_type": "code",
   "execution_count": null,
   "id": "d3cde237-a5c0-4820-bc14-4852575370f0",
   "metadata": {},
   "outputs": [],
   "source": [
    "driver.switchTo().frame(element);"
   ]
  },
  {
   "cell_type": "code",
   "execution_count": null,
   "id": "0380f52a-39de-42a9-a65f-912a75bb7b6e",
   "metadata": {},
   "outputs": [],
   "source": [
    "driver.getPageSource()"
   ]
  },
  {
   "cell_type": "code",
   "execution_count": null,
   "id": "841c8d22-8de7-48a6-b804-cd9da9c7e3ba",
   "metadata": {},
   "outputs": [],
   "source": [
    "driver.switchTo().alert().accept();"
   ]
  },
  {
   "cell_type": "code",
   "execution_count": null,
   "id": "9c06b69a-eecd-4428-9889-d5137b3117bc",
   "metadata": {},
   "outputs": [],
   "source": [
    "driver.switchTo().frame(\"main\");"
   ]
  },
  {
   "cell_type": "code",
   "execution_count": null,
   "id": "1daf4aa4-ad92-4b6c-9f17-b9fcb1589ef0",
   "metadata": {},
   "outputs": [],
   "source": [
    "driver.findElement(By.linkText(\"123\"))"
   ]
  },
  {
   "cell_type": "code",
   "execution_count": null,
   "id": "81acefbb-afc0-4087-8fc3-5db8914810ee",
   "metadata": {},
   "outputs": [],
   "source": [
    "for (int i = 0; i <= 5; i++){\n",
    "    if (presentElement(By.linkText(\"123\"), 2) == null){\n",
    "        break;\n",
    "    }\n",
    "    sleep(2);\n",
    "}"
   ]
  },
  {
   "cell_type": "code",
   "execution_count": null,
   "id": "0ac56a86-9298-4a22-bd52-03c9f897dbb1",
   "metadata": {},
   "outputs": [],
   "source": [
    "driver.manage().timeouts().implicitlyWait(1, TimeUnit.SECONDS);"
   ]
  },
  {
   "cell_type": "code",
   "execution_count": null,
   "id": "9276f8d1-33d2-4297-a4e6-030b7d90c6f6",
   "metadata": {},
   "outputs": [],
   "source": [
    "driver.manage().timeouts().setScriptTimeout(1, TimeUnit.SECONDS);"
   ]
  },
  {
   "cell_type": "code",
   "execution_count": null,
   "id": "90a0d3ca-6e93-47f4-b0f9-5c2aa7e477ee",
   "metadata": {},
   "outputs": [],
   "source": [
    "for (int i = 0; i <= 30; i++){\n",
    "    System.out.println(js.executeScript(\"return document.readyState;\"));\n",
    "    sleep(1);\n",
    "}"
   ]
  },
  {
   "cell_type": "code",
   "execution_count": null,
   "id": "742ca2b0-81c5-4a85-a389-9133587d1aa9",
   "metadata": {},
   "outputs": [],
   "source": [
    "driver.quit()"
   ]
  },
  {
   "cell_type": "code",
   "execution_count": null,
   "id": "99d582eb-845d-41bc-8b52-4a774dfbd1b4",
   "metadata": {},
   "outputs": [],
   "source": [
    "driver.get(\"https://google.com\");"
   ]
  },
  {
   "cell_type": "code",
   "execution_count": null,
   "id": "fce5b07f-152e-4522-aac3-f1c768366e50",
   "metadata": {},
   "outputs": [],
   "source": []
  }
 ],
 "metadata": {
  "kernelspec": {
   "display_name": "Java",
   "language": "java",
   "name": "java"
  },
  "language_info": {
   "codemirror_mode": "java",
   "file_extension": ".jshell",
   "mimetype": "text/x-java-source",
   "name": "Java",
   "pygments_lexer": "java",
   "version": "11.0.13+10-LTS-370"
  }
 },
 "nbformat": 4,
 "nbformat_minor": 5
}
