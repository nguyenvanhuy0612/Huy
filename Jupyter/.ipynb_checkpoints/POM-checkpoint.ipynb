{
 "cells": [
  {
   "cell_type": "code",
   "execution_count": 1,
   "id": "7ede7a5c-f6f8-430f-a513-1af73ab4ce86",
   "metadata": {},
   "outputs": [],
   "source": [
    "from selenium import webdriver\n",
    "from selenium.webdriver.common.keys import Keys\n",
    "from selenium.webdriver.common.action_chains import ActionChains\n",
    "from selenium.webdriver.support.ui import Select\n",
    "from selenium.webdriver.common.by import By\n",
    "from selenium.webdriver.chrome.options import Options\n",
    "\n",
    "options = Options()\n",
    "options.add_argument(\"--disable-extensions\")\n",
    "options.add_argument(\"--allow-running-insecure-content\")\n",
    "options.add_argument(\"use-fake-device-for-media-stream\")\n",
    "options.add_argument(\"use-fake-ui-for-media-stream\")\n",
    "options.add_argument(\"disable-features=WebRtcHideLocalIpsWithMdns\")\n",
    "options.add_argument(\"disable-infobars\")\n",
    "options.add_argument(\"disable-notifications\")\n",
    "options.add_argument(\"disable-popup-blocking\")\n",
    "options.add_argument(\"excludeSwitches\")"
   ]
  },
  {
   "cell_type": "code",
   "execution_count": 2,
   "id": "444e408c-8548-4276-8b7d-a54b90e33803",
   "metadata": {},
   "outputs": [],
   "source": [
    "import time"
   ]
  },
  {
   "cell_type": "code",
   "execution_count": null,
   "id": "137fe023-bbe4-4a56-82a9-ddcb1efa1539",
   "metadata": {},
   "outputs": [],
   "source": []
  },
  {
   "cell_type": "code",
   "execution_count": 3,
   "id": "af9511d5-c411-42aa-9600-85cc181aca03",
   "metadata": {},
   "outputs": [],
   "source": [
    "driver = webdriver.Chrome(options=options)"
   ]
  },
  {
   "cell_type": "code",
   "execution_count": 4,
   "id": "629cf466-3e42-4eeb-8c21-b40f58c72ca3",
   "metadata": {},
   "outputs": [],
   "source": [
    "driver.implicitly_wait(30)"
   ]
  },
  {
   "cell_type": "code",
   "execution_count": 5,
   "id": "d0f853e6-aaf7-4e27-928a-faaf01a46758",
   "metadata": {},
   "outputs": [],
   "source": [
    "driver.get(\"https://eus2-02.integration.ws-nonprod.avayacloud.com/services/ApplicationCenter/?tenantId=RQYYRJ&tenantUrl=sbx-2.ixcc-sandbox.avayacloud.com/auth/realms/RQYYRJ\")"
   ]
  },
  {
   "cell_type": "code",
   "execution_count": 6,
   "id": "5adf68e0-ce4e-4011-80bc-fcd77b2c6360",
   "metadata": {},
   "outputs": [],
   "source": [
    "driver.find_element(By.ID, 'username').send_keys(\"tma2@airtel.com\")"
   ]
  },
  {
   "cell_type": "code",
   "execution_count": 7,
   "id": "c5b2b784-fa4e-450a-a037-be4a74170231",
   "metadata": {},
   "outputs": [],
   "source": [
    "driver.find_element(By.ID, 'password').send_keys(\"1_Abc_123\")"
   ]
  },
  {
   "cell_type": "code",
   "execution_count": 8,
   "id": "6c887e07-ebe2-4db4-aeb0-d058a9944acd",
   "metadata": {},
   "outputs": [],
   "source": [
    "driver.find_element(By.ID, 'kc-login').click()"
   ]
  },
  {
   "cell_type": "code",
   "execution_count": null,
   "id": "7a40371f-08d3-4036-b0dc-010ddc339220",
   "metadata": {},
   "outputs": [],
   "source": []
  },
  {
   "cell_type": "code",
   "execution_count": 34,
   "id": "bc0d01c8-8a12-4854-ae9a-b97ca80729b1",
   "metadata": {},
   "outputs": [],
   "source": [
    "driver.find_element(\"xpath\", \"//*[text()='Customer Details']\").click()"
   ]
  },
  {
   "cell_type": "code",
   "execution_count": 30,
   "id": "e578b8d3-b624-4bb2-a50b-718afdeed2d5",
   "metadata": {},
   "outputs": [],
   "source": [
    "driver.find_element(By.XPATH, \"//*[@aria-label='Settings']\").click()"
   ]
  },
  {
   "cell_type": "code",
   "execution_count": null,
   "id": "8c74355c-3af9-47a5-8667-b995a7e7ac1d",
   "metadata": {},
   "outputs": [],
   "source": [
    "driver.find_element_by_id('moreInformation').click()"
   ]
  },
  {
   "cell_type": "code",
   "execution_count": null,
   "id": "441f84ea-6173-4101-b9c4-de5730fd5465",
   "metadata": {},
   "outputs": [],
   "source": []
  },
  {
   "cell_type": "code",
   "execution_count": 9,
   "id": "d22ea2d5-1560-48e1-a6f4-060b14bb8f48",
   "metadata": {},
   "outputs": [],
   "source": [
    "driver.get(\"https://sbx-2.ixcc-sandbox.avayacloud.com/services/ApplicationCenter/AdminPortal\")\n",
    "time.sleep(5)\n",
    "driver.find_element(By.ID, \"username\").send_keys(\"admin2@airtel.com\")\n",
    "driver.find_element(By.ID, \"tr-login\").click()\n",
    "time.sleep(2)\n",
    "driver.find_element(By.ID, \"password\").send_keys(\"Avaya123#\")\n",
    "driver.find_element(By.ID, \"kc-login\").click()\n",
    "time.sleep(10)"
   ]
  },
  {
   "cell_type": "code",
   "execution_count": 5,
   "id": "7b00fd13-c0dc-4f97-bcb8-a62cfe5ee887",
   "metadata": {},
   "outputs": [
    {
     "name": "stderr",
     "output_type": "stream",
     "text": [
      "C:\\Users\\Admin\\AppData\\Local\\Temp\\ipykernel_6316\\3961474048.py:1: DeprecationWarning: find_element_by_* commands are deprecated. Please use find_element() instead\n",
      "  driver.find_element_by_id(\"username\").send_keys(\"admin2@airtel.com\")\n",
      "C:\\Users\\Admin\\AppData\\Local\\Temp\\ipykernel_6316\\3961474048.py:2: DeprecationWarning: find_element_by_* commands are deprecated. Please use find_element() instead\n",
      "  driver.find_element_by_id(\"tr-login\").click()\n"
     ]
    }
   ],
   "source": [
    "\n"
   ]
  },
  {
   "cell_type": "code",
   "execution_count": 6,
   "id": "2dad4216-47d5-41a0-85f6-e6775c0f9bd3",
   "metadata": {},
   "outputs": [],
   "source": []
  },
  {
   "cell_type": "code",
   "execution_count": 8,
   "id": "0912662d-63ed-418e-8eab-96a7a844a816",
   "metadata": {},
   "outputs": [],
   "source": []
  },
  {
   "cell_type": "code",
   "execution_count": 11,
   "id": "be3a4f03-f4bd-4a3a-88fc-831e7df03e56",
   "metadata": {},
   "outputs": [],
   "source": [
    "user, passwd, newpass = \"tma2c3\", \"Avaya123$\", \"1_Abc_123\""
   ]
  },
  {
   "cell_type": "code",
   "execution_count": 10,
   "id": "63ce03e0-1d0b-4e02-9e48-99e1cd7c1732",
   "metadata": {},
   "outputs": [
    {
     "name": "stderr",
     "output_type": "stream",
     "text": [
      "C:\\Users\\Admin\\AppData\\Local\\Temp\\ipykernel_6316\\512918115.py:1: DeprecationWarning: find_element_by_* commands are deprecated. Please use find_element() instead\n",
      "  driver.find_element_by_xpath(\"//button[contains(text(), 'Create User')]\").click()\n"
     ]
    }
   ],
   "source": [
    "driver.find_element_by_xpath(\"//button[contains(text(), 'Create User')]\").click()"
   ]
  },
  {
   "cell_type": "code",
   "execution_count": 13,
   "id": "43fcaa69-9050-4b75-ac20-102b1488a149",
   "metadata": {},
   "outputs": [],
   "source": [
    "driver.find_element(By.XPATH, \"//input[@placeholder='First Name of User']\").send_keys(user)"
   ]
  },
  {
   "cell_type": "code",
   "execution_count": 14,
   "id": "108d1687-26fa-4f2a-bb13-afc216ca92dd",
   "metadata": {},
   "outputs": [],
   "source": [
    "driver.find_element(By.XPATH, \"//input[@placeholder='Last Name of User']\").send_keys(user)"
   ]
  },
  {
   "cell_type": "code",
   "execution_count": 15,
   "id": "b0f6d62f-7474-4d1d-8a65-b9445eac25be",
   "metadata": {},
   "outputs": [],
   "source": [
    "driver.find_element(By.XPATH, \"//input[@placeholder='Display Name of User']\").send_keys(user)"
   ]
  },
  {
   "cell_type": "code",
   "execution_count": 17,
   "id": "d5454bc1-63e8-463f-8f8b-dda213872f84",
   "metadata": {},
   "outputs": [],
   "source": [
    "driver.find_element(By.XPATH, \"//input[@placeholder='Login ID for a User']\").send_keys(user)"
   ]
  },
  {
   "cell_type": "code",
   "execution_count": null,
   "id": "ef6f528d-3c49-4ea0-b9e9-32a479408484",
   "metadata": {},
   "outputs": [],
   "source": []
  }
 ],
 "metadata": {
  "kernelspec": {
   "display_name": "Python 3 (ipykernel)",
   "language": "python",
   "name": "python3"
  },
  "language_info": {
   "codemirror_mode": {
    "name": "ipython",
    "version": 3
   },
   "file_extension": ".py",
   "mimetype": "text/x-python",
   "name": "python",
   "nbconvert_exporter": "python",
   "pygments_lexer": "ipython3",
   "version": "3.10.2"
  }
 },
 "nbformat": 4,
 "nbformat_minor": 5
}
