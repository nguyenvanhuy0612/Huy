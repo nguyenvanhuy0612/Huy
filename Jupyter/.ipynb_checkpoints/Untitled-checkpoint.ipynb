{
 "cells": [
  {
   "cell_type": "code",
   "execution_count": 2,
   "id": "390929f2-340e-4790-a794-8a2c775df126",
   "metadata": {},
   "outputs": [
    {
     "name": "stdout",
     "output_type": "stream",
     "text": [
      "Requirement already satisfied: uiautomation in c:\\users\\admin\\appdata\\local\\programs\\python\\python310\\lib\\site-packages (2.0.16)\n",
      "Requirement already satisfied: comtypes>=1.1.10 in c:\\users\\admin\\appdata\\local\\programs\\python\\python310\\lib\\site-packages (from uiautomation) (1.1.10)\n"
     ]
    },
    {
     "name": "stderr",
     "output_type": "stream",
     "text": [
      "WARNING: You are using pip version 21.2.4; however, version 22.0.3 is available.\n",
      "You should consider upgrading via the 'C:\\Users\\Admin\\AppData\\Local\\Programs\\Python\\Python310\\python.exe -m pip install --upgrade pip' command.\n"
     ]
    }
   ],
   "source": [
    "!pip install uiautomation"
   ]
  },
  {
   "cell_type": "code",
   "execution_count": 3,
   "id": "8ff0005e-1374-43a2-8d5d-4f91a10c9c21",
   "metadata": {},
   "outputs": [],
   "source": [
    "import uiautomation as auto"
   ]
  },
  {
   "cell_type": "code",
   "execution_count": 4,
   "id": "ed10faef-b18b-4e3a-beb3-5e880ef0df12",
   "metadata": {},
   "outputs": [],
   "source": [
    "auto.uiautomation.OPERATION_WAIT_TIME = 1\n",
    "auto.uiautomation.TIME_OUT_SECOND = 15\n",
    "auto.uiautomation.SEARCH_INTERVAL = 1"
   ]
  },
  {
   "cell_type": "code",
   "execution_count": null,
   "id": "f95a71b5-fe39-4317-aa51-242bd4740f67",
   "metadata": {},
   "outputs": [],
   "source": []
  }
 ],
 "metadata": {
  "kernelspec": {
   "display_name": "Python 3 (ipykernel)",
   "language": "python",
   "name": "python3"
  },
  "language_info": {
   "codemirror_mode": {
    "name": "ipython",
    "version": 3
   },
   "file_extension": ".py",
   "mimetype": "text/x-python",
   "name": "python",
   "nbconvert_exporter": "python",
   "pygments_lexer": "ipython3",
   "version": "3.10.2"
  }
 },
 "nbformat": 4,
 "nbformat_minor": 5
}
