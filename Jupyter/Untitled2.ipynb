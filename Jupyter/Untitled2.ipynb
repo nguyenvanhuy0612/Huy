{
 "cells": [
  {
   "cell_type": "code",
   "execution_count": 1,
   "id": "cf5948f2-23c8-494f-bfe7-81ef8e29c583",
   "metadata": {},
   "outputs": [
    {
     "name": "stdout",
     "output_type": "stream",
     "text": [
      "hello\n"
     ]
    }
   ],
   "source": [
    "System.out.println(\"hello\");"
   ]
  },
  {
   "cell_type": "code",
   "execution_count": 2,
   "id": "f47f7835-6f27-4dca-b4e7-78e000e9f2d2",
   "metadata": {},
   "outputs": [],
   "source": [
    "import java.util.Hashtable;"
   ]
  },
  {
   "cell_type": "code",
   "execution_count": 3,
   "id": "a6524842-74fb-4a28-acc4-f8efe66b0de7",
   "metadata": {},
   "outputs": [],
   "source": [
    "Hashtable<String, String> h = new Hashtable();"
   ]
  },
  {
   "cell_type": "code",
   "execution_count": 6,
   "id": "009a8e40-ca8f-498d-bb86-834ca4353394",
   "metadata": {},
   "outputs": [],
   "source": [
    "h.put(\"key1\", \"value1\");"
   ]
  },
  {
   "cell_type": "code",
   "execution_count": 11,
   "id": "3c95b078-21e8-4f41-a039-cc8f0232a74c",
   "metadata": {},
   "outputs": [
    {
     "data": {
      "text/plain": [
       "false"
      ]
     },
     "execution_count": 11,
     "metadata": {},
     "output_type": "execute_result"
    }
   ],
   "source": [
    "h.getOrDefault(\"key\", \"\").toLowerCase().contains(\"value\")"
   ]
  },
  {
   "cell_type": "code",
   "execution_count": null,
   "id": "b158f503-c314-4c77-b4d9-86ff38443375",
   "metadata": {},
   "outputs": [],
   "source": []
  }
 ],
 "metadata": {
  "kernelspec": {
   "display_name": "Java",
   "language": "java",
   "name": "java"
  },
  "language_info": {
   "codemirror_mode": "java",
   "file_extension": ".jshell",
   "mimetype": "text/x-java-source",
   "name": "Java",
   "pygments_lexer": "java",
   "version": "11.0.13+10-LTS-370"
  }
 },
 "nbformat": 4,
 "nbformat_minor": 5
}
