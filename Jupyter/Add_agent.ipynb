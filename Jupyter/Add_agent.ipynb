{
 "cells": [
  {
   "cell_type": "code",
   "execution_count": null,
   "id": "8c192482-322c-459f-abc0-8c16e2bffa06",
   "metadata": {},
   "outputs": [],
   "source": [
    "!pip install webdriver-manager"
   ]
  },
  {
   "cell_type": "code",
   "execution_count": null,
   "id": "03316e24-d4ab-45f8-9b72-f4900d40047d",
   "metadata": {},
   "outputs": [],
   "source": [
    "from selenium import webdriver\n",
    "from selenium.webdriver.common.keys import Keys\n",
    "from selenium.webdriver.common.action_chains import ActionChains\n",
    "from selenium.webdriver.support.ui import Select\n",
    "from selenium.webdriver.common.by import By\n",
    "from selenium.webdriver.chrome.options import Options\n",
    "from selenium.webdriver.support.ui import WebDriverWait\n",
    "from selenium.webdriver.support import expected_conditions as EC\n",
    "\n",
    "from selenium.webdriver.chrome.service import Service\n",
    "from webdriver_manager.chrome import ChromeDriverManager\n",
    "\n",
    "import time\n",
    "\n",
    "options = Options()\n",
    "#options.add_argument(\"--disable-extensions\")\n",
    "options.add_argument(\"--allow-running-insecure-content\")\n",
    "options.add_argument(\"use-fake-device-for-media-stream\")\n",
    "options.add_argument(\"use-fake-ui-for-media-stream\")\n",
    "options.add_argument(\"disable-features=WebRtcHideLocalIpsWithMdns\")\n",
    "options.add_argument(\"disable-infobars\")\n",
    "options.add_argument(\"disable-notifications\")\n",
    "options.add_argument(\"disable-popup-blocking\")\n",
    "options.add_argument(\"excludeSwitches\")\n",
    "options.add_argument(\"--start-maximized\")"
   ]
  },
  {
   "cell_type": "code",
   "execution_count": null,
   "id": "e749fa85-a1bc-45cf-9ab4-1ffcf7753ed1",
   "metadata": {},
   "outputs": [],
   "source": [
    "!taskkill /f /im chromedriver*"
   ]
  },
  {
   "cell_type": "code",
   "execution_count": null,
   "id": "8c738aea-9ce1-4b2b-bd94-6be8149f2062",
   "metadata": {},
   "outputs": [],
   "source": [
    "driver = webdriver.Chrome(options=options, service=Service(ChromeDriverManager().install()))\n",
    "driver.implicitly_wait(30)\n",
    "driver.set_page_load_timeout(60)\n",
    "action = ActionChains(driver)\n",
    "wait = WebDriverWait(driver, 60)"
   ]
  },
  {
   "cell_type": "code",
   "execution_count": null,
   "id": "efcb2b9f-f2ea-4aa9-a232-b5796b63eea1",
   "metadata": {},
   "outputs": [],
   "source": [
    "driver.get(\"https://google.com\")"
   ]
  },
  {
   "cell_type": "code",
   "execution_count": null,
   "id": "6a52272b-c512-4db1-849e-9e3d9c9a7728",
   "metadata": {},
   "outputs": [],
   "source": [
    "driver.find_element(By.NAME, \"q\").send_keys(\"Hee\")"
   ]
  },
  {
   "cell_type": "code",
   "execution_count": 18,
   "id": "3b0a99a9-2323-48ea-9cb5-03d3e9cb9c31",
   "metadata": {},
   "outputs": [],
   "source": [
    "driver.implicitly_wait(3)"
   ]
  },
  {
   "cell_type": "code",
   "execution_count": null,
   "id": "eb52053d-22f4-41b9-970d-902363a39890",
   "metadata": {},
   "outputs": [],
   "source": [
    "# still found this web element but cannot click\n",
    "clear_btn = driver.find_element(By.CSS_SELECTOR, \"span[jsname='itVqKe']\")"
   ]
  },
  {
   "cell_type": "code",
   "execution_count": null,
   "id": "ba409c8d-5c37-4ee0-b422-31afb9e6ae48",
   "metadata": {},
   "outputs": [],
   "source": [
    "clear_btn"
   ]
  },
  {
   "cell_type": "code",
   "execution_count": 21,
   "id": "3bb21264-bfa4-40ca-80b5-8d7e9d8ae44c",
   "metadata": {},
   "outputs": [],
   "source": [
    "clear_btn.click()"
   ]
  },
  {
   "cell_type": "code",
   "execution_count": 34,
   "id": "402c6759-acf0-41d8-817b-d1376654b31b",
   "metadata": {},
   "outputs": [],
   "source": [
    "search_btn = driver.find_element(By.XPATH, \"(//*[@name='btnK'])[2]\")"
   ]
  },
  {
   "cell_type": "code",
   "execution_count": 35,
   "id": "9db6dad2-f3f1-4f11-9ef1-7c96e273bd46",
   "metadata": {},
   "outputs": [],
   "source": [
    "search_btn.click()"
   ]
  },
  {
   "cell_type": "code",
   "execution_count": null,
   "id": "80d44d33-4b7a-4e3b-aa67-ce8ddfbaed2b",
   "metadata": {},
   "outputs": [],
   "source": []
  }
 ],
 "metadata": {
  "kernelspec": {
   "display_name": "Python 3 (ipykernel)",
   "language": "python",
   "name": "python3"
  },
  "language_info": {
   "codemirror_mode": {
    "name": "ipython",
    "version": 3
   },
   "file_extension": ".py",
   "mimetype": "text/x-python",
   "name": "python",
   "nbconvert_exporter": "python",
   "pygments_lexer": "ipython3",
   "version": "3.10.2"
  }
 },
 "nbformat": 4,
 "nbformat_minor": 5
}
