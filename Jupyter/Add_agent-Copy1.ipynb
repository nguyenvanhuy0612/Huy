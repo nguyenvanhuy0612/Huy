{
 "cells": [
  {
   "cell_type": "code",
   "execution_count": null,
   "id": "8c192482-322c-459f-abc0-8c16e2bffa06",
   "metadata": {},
   "outputs": [],
   "source": [
    "!pip install webdriver-manager"
   ]
  },
  {
   "cell_type": "code",
   "execution_count": null,
   "id": "03316e24-d4ab-45f8-9b72-f4900d40047d",
   "metadata": {},
   "outputs": [],
   "source": [
    "from selenium import webdriver\n",
    "from selenium.webdriver.common.keys import Keys\n",
    "from selenium.webdriver.common.action_chains import ActionChains\n",
    "from selenium.webdriver.support.ui import Select\n",
    "from selenium.webdriver.common.by import By\n",
    "from selenium.webdriver.chrome.options import Options\n",
    "from selenium.webdriver.support.ui import WebDriverWait\n",
    "from selenium.webdriver.support import expected_conditions as EC\n",
    "\n",
    "from selenium.webdriver.chrome.service import Service\n",
    "from webdriver_manager.chrome import ChromeDriverManager\n",
    "\n",
    "import time\n",
    "\n",
    "options = Options()\n",
    "#options.add_argument(\"--disable-extensions\")\n",
    "options.add_argument(\"--allow-running-insecure-content\")\n",
    "options.add_argument(\"use-fake-device-for-media-stream\")\n",
    "options.add_argument(\"use-fake-ui-for-media-stream\")\n",
    "options.add_argument(\"disable-features=WebRtcHideLocalIpsWithMdns\")\n",
    "options.add_argument(\"disable-infobars\")\n",
    "options.add_argument(\"disable-notifications\")\n",
    "options.add_argument(\"disable-popup-blocking\")\n",
    "options.add_argument(\"excludeSwitches\")\n",
    "options.add_argument(\"--start-maximized\")"
   ]
  },
  {
   "cell_type": "code",
   "execution_count": null,
   "id": "e749fa85-a1bc-45cf-9ab4-1ffcf7753ed1",
   "metadata": {},
   "outputs": [],
   "source": [
    "!taskkill /f /im chromedriver*"
   ]
  },
  {
   "cell_type": "code",
   "execution_count": null,
   "id": "8c738aea-9ce1-4b2b-bd94-6be8149f2062",
   "metadata": {},
   "outputs": [],
   "source": [
    "driver = webdriver.Chrome(options=options, service=Service(ChromeDriverManager().install()))\n",
    "driver.implicitly_wait(30)\n",
    "driver.set_page_load_timeout(60)\n",
    "action = ActionChains(driver)\n",
    "wait = WebDriverWait(driver, 60)"
   ]
  },
  {
   "cell_type": "code",
   "execution_count": null,
   "id": "321ce39d-9400-4d9d-b260-a47b4ec25f6e",
   "metadata": {},
   "outputs": [],
   "source": [
    "def find_click(x1, x2, condition = \"0\", t=3):\n",
    "    global driver\n",
    "    driver.implicitly_wait(t)\n",
    "    if condition == \"0\":\n",
    "        print(\"found and click\")\n",
    "        if driver.find_elements(By.XPATH, x1).__len__() == 0:\n",
    "            driver.find_element(By.XPATH, x2).click()\n",
    "    if condition == \"!0\":\n",
    "        print(\"found and click\")\n",
    "        if driver.find_elements(By.XPATH, x1).__len__() != 0:\n",
    "            driver.find_element(By.XPATH, x2).click()\n",
    "        "
   ]
  },
  {
   "cell_type": "code",
   "execution_count": null,
   "id": "726c09ea-b06a-4b86-9a16-30788b75c6ee",
   "metadata": {},
   "outputs": [],
   "source": [
    "#url = \"https://sbx-2.ixcc-sandbox.avayacloud.com/services/ApplicationCenter/AdminPortal\"\n",
    "#login_user, login_pass = \"admin2@airtel.com\", \"Avaya123#\"\n",
    "\n",
    "#lab8 per06\n",
    "#url = \"https://perf-8.ixcc-sandbox.avayacloud.com/services/ApplicationCenter/AdminPortal\"\n",
    "login_user, login_pass = \"admin@perftest06.com\", \"Avaya@123\"\n",
    "\n",
    "#lab8 per05\n",
    "#login_user, login_pass = \"admin2@perftest05.com\", \"Avaya123$\"\n",
    "\n",
    "\n",
    "url = \"https://dev-8.ixcc-sandbox.avayacloud.com/services/ApplicationCenter/AdminPortal\"\n",
    "login_user, login_pass = \"admin@pomsv1.com\", \"Avaya123$\"\n",
    "\n",
    "\n",
    "\n",
    "# login\n",
    "driver.get(url)\n",
    "driver.current_window_handle\n",
    "time.sleep(3)\n",
    "driver.find_element(By.ID, \"username\").send_keys(login_user)\n",
    "driver.find_element(By.ID, \"tr-login\").click()\n",
    "time.sleep(2)\n",
    "driver.find_element(By.ID, \"password\").send_keys(login_pass)\n",
    "driver.find_element(By.ID, \"kc-login\").click()\n",
    "time.sleep(20)"
   ]
  },
  {
   "cell_type": "code",
   "execution_count": null,
   "id": "be20813f-bb4d-4ba6-9070-b0b0e28569db",
   "metadata": {},
   "outputs": [],
   "source": [
    "#list_agent = [\"tma18\", \"tma19\", \"tma20\", \"tma21\"]\n",
    "#list_agent = [\"tma\" + str(i) for i in range(40, 41)]\n",
    "#list_agent = [\"tma8c2\", \"tma8c3\"]\n",
    "\n",
    "list_agent = [\"testagent\" + str(i) for i in range(1, 3)]\n",
    "\n",
    "list_queue = [\"tma\" + str(i) for i in range(1, 3)]\n",
    "\n",
    "#profile_name = \"ProactiveOutreach\"\n",
    "\n",
    "#lab8 per06\n",
    "#profile_name = \"OutreachProfile\"\n",
    "\n",
    "#lab8 per05\n",
    "#profile_name = \"ProactiveOutreach\"\n",
    "\n",
    "\n",
    "profile_name = \"Duong1\"\n",
    "\n",
    "\n",
    "agent_temp_pass, agent_pass = \"Avaya12345$\", \"1_Abc_123\"\n",
    "\n",
    "is_add_queue = False\n",
    "\n",
    "\n",
    "# add\n",
    "for i in range(len(list_agent)):\n",
    "    agent_user = agents = list_agent[i]\n",
    "    agent_queue = list_queue[i]\n",
    "    \n",
    "    go_contact_center()\n",
    "    \n",
    "    if is_add_queue:\n",
    "        add_agent_queue()\n",
    "    \n",
    "    go_user()\n",
    "    \n",
    "    add_user(agent_user, agent_temp_pass, profile_name, agent_queue)\n"
   ]
  },
  {
   "cell_type": "code",
   "execution_count": null,
   "id": "3b643509-0845-48af-8598-c690397101d3",
   "metadata": {},
   "outputs": [],
   "source": [
    "def add_agent_queue():\n",
    "     #add queue\n",
    "    driver.find_element(By.XPATH, \"//li[@data-sidebar-id='Queues']\").click()\n",
    "    wait.until(EC.presence_of_element_located((By.XPATH, \"//div[@id='commProfForm']//tbody\")))\n",
    "    time.sleep(1)\n",
    "    create_queue = wait.until(EC.element_to_be_clickable((By.XPATH, \"//button[text()='Create Queue']\")))\n",
    "    time.sleep(1)\n",
    "    create_queue.click()\n",
    "    driver.find_element(By.XPATH, \"//input[@id='name']\").send_keys(agent_queue)\n",
    "    driver.find_element(By.XPATH, \"//*[@id='description']\").send_keys(agent_queue)\n",
    "    driver.find_element(By.XPATH, \"//div[@id='gcomp_content']//button[text()='Save']\").click()\n",
    "    if driver.find_elements(By.XPATH, \"//app-notification-toast\").__len__() != 0:\n",
    "        ele = driver.find_element(By.XPATH, \"//app-notification-toast\")\n",
    "        driver.execute_script(\"arguments[0].setAttribute('style', 'display:none')\", ele)\n",
    "    wait.until(EC.presence_of_element_located((By.XPATH, \"//div[@id='commProfForm']//tbody\")))\n",
    "    time.sleep(5)"
   ]
  },
  {
   "cell_type": "code",
   "execution_count": null,
   "id": "5ba5c8b8-3692-4549-b2ec-00922a19b2eb",
   "metadata": {},
   "outputs": [],
   "source": [
    "def go_contact_center():\n",
    "    #go to contact center\n",
    "    if \"expand\" not in driver.find_element(By.XPATH, \"//li[@data-sidebar-id='ContactCenter']\").get_attribute(\"class\"):\n",
    "        driver.find_element(By.XPATH, \"//li[@data-sidebar-id='ContactCenter']\").click()"
   ]
  },
  {
   "cell_type": "code",
   "execution_count": null,
   "id": "64ae04e3-9819-49b1-9c7b-f6b56231ec56",
   "metadata": {},
   "outputs": [],
   "source": [
    "def go_user():\n",
    "    #go to User management\n",
    "    if \"expand\" not in driver.find_element(By.XPATH, \"//li[@data-sidebar-id='Config']\").get_attribute(\"class\"):\n",
    "        driver.find_element(By.XPATH, \"//li[@data-sidebar-id='Config']\").click()\n",
    "    #go to user\n",
    "    driver.find_element(By.XPATH, \"//li[@data-sidebar-id='Manage Users']\").click()\n",
    "    wait.until(EC.presence_of_element_located((By.XPATH, \"//div[@class='user-list-table']//div[@class='avaya-table avaya-table-streched']//tbody\")))\n",
    "    time.sleep(2)"
   ]
  },
  {
   "cell_type": "code",
   "execution_count": null,
   "id": "a3e3fe83-e678-4e7b-98da-fd3e616eae26",
   "metadata": {},
   "outputs": [],
   "source": [
    "def add_user(agent_user, agent_temp_pass, profile_name, agent_queue):\n",
    "    driver.find_element(By.XPATH, \"//button[text()='Create User']\").click()\n",
    "    driver.find_element(By.XPATH, \"//input[@placeholder='First Name of User']\").send_keys(agent_user)\n",
    "    driver.find_element(By.XPATH, \"//input[@placeholder='Last Name of User']\").send_keys(agent_user)\n",
    "    driver.find_element(By.XPATH, \"//input[@placeholder='Display Name of User']\").send_keys(agent_user)\n",
    "    driver.find_element(By.XPATH, \"//input[@placeholder='Login ID for a User']\").send_keys(agent_user)\n",
    "    driver.find_element(By.XPATH, \"//input[@placeholder='Password']\").send_keys(agent_temp_pass)\n",
    "    driver.find_element(By.XPATH, \"//input[@placeholder='Confirm Password']\").send_keys(agent_temp_pass)\n",
    "    driver.find_element(By.XPATH, \"//div[@aria-label='select profile']\").click()\n",
    "    driver.find_element(By.XPATH, \"//div[@title='\" + profile_name + \"']\").click() # profile name: ProactiveOutreach\n",
    "    time.sleep(3)\n",
    "    driver.find_element(By.XPATH, \"//div[@aria-labelledby='queue-nameid']\").click()\n",
    "    driver.find_element(By.XPATH, \"//div[@aria-labelledby='queue-nameid']//div[@title='\" + agent_queue + \"']/parent::li\").click() # queue name:\n",
    "    time.sleep(1)\n",
    "    driver.find_element(By.XPATH, \"//div[@id='Manage Users']//button[text()='Save']\").click()\n",
    "    wait.until(EC.presence_of_element_located((By.XPATH, \"//div[@class='user-list-table']//tbody[@style]\")))\n",
    "    time.sleep(3)"
   ]
  },
  {
   "cell_type": "code",
   "execution_count": null,
   "id": "efcb2b9f-f2ea-4aa9-a232-b5796b63eea1",
   "metadata": {},
   "outputs": [],
   "source": []
  }
 ],
 "metadata": {
  "kernelspec": {
   "display_name": "Python 3 (ipykernel)",
   "language": "python",
   "name": "python3"
  },
  "language_info": {
   "codemirror_mode": {
    "name": "ipython",
    "version": 3
   },
   "file_extension": ".py",
   "mimetype": "text/x-python",
   "name": "python",
   "nbconvert_exporter": "python",
   "pygments_lexer": "ipython3",
   "version": "3.10.2"
  }
 },
 "nbformat": 4,
 "nbformat_minor": 5
}
