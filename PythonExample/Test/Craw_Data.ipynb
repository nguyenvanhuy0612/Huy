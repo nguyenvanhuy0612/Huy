{
 "cells": [
  {
   "cell_type": "code",
   "execution_count": 1,
   "id": "53d8cf02-de1f-49f0-acad-4ba27b65d92c",
   "metadata": {},
   "outputs": [],
   "source": [
    "from bs4 import BeautifulSoup\n",
    "import re\n",
    "import os"
   ]
  },
  {
   "cell_type": "code",
   "execution_count": 25,
   "id": "61dfe977-00f6-4805-8c9b-8df77f678e8c",
   "metadata": {},
   "outputs": [],
   "source": [
    "def save_file(content, path):\n",
    "    content = (content + '\\n').encode('utf-8')\n",
    "    with open(path, \"ab+\") as f:\n",
    "        f.write(content)"
   ]
  },
  {
   "cell_type": "code",
   "execution_count": 7,
   "id": "dee90d48-cc26-42a9-95bb-0a2d9c89c8b9",
   "metadata": {},
   "outputs": [],
   "source": [
    "raw_file = \"thns.html\""
   ]
  },
  {
   "cell_type": "code",
   "execution_count": 8,
   "id": "1bc9c1c9-9988-487c-9a14-05ee79f62be1",
   "metadata": {},
   "outputs": [],
   "source": [
    "with open(raw_file, \"br\") as f:\n",
    "    data = f.read()"
   ]
  },
  {
   "cell_type": "code",
   "execution_count": 9,
   "id": "859cf77d-4845-4918-a181-145459777552",
   "metadata": {},
   "outputs": [],
   "source": [
    "soup = BeautifulSoup(data, features='html.parser')\n",
    "#print(soup.prettify())\n",
    "list_data = soup.find(id='list_sale_price')"
   ]
  },
  {
   "cell_type": "code",
   "execution_count": 10,
   "id": "10605b04-553e-40be-ae71-30c104f9354f",
   "metadata": {},
   "outputs": [],
   "source": [
    "groups = list_data.find_all(attrs={\"class\": \"group-product\"})"
   ]
  },
  {
   "cell_type": "code",
   "execution_count": 12,
   "id": "f9961c93-a3ab-4776-8df2-5a1f0e04e77a",
   "metadata": {},
   "outputs": [
    {
     "data": {
      "text/plain": [
       "108"
      ]
     },
     "execution_count": 12,
     "metadata": {},
     "output_type": "execute_result"
    }
   ],
   "source": [
    "len(groups)"
   ]
  },
  {
   "cell_type": "code",
   "execution_count": 13,
   "id": "2575cca6-a983-499f-9a60-0d846c9b660b",
   "metadata": {},
   "outputs": [],
   "source": [
    "data_file = \"datafile2.tsv\""
   ]
  },
  {
   "cell_type": "code",
   "execution_count": 24,
   "id": "312a517f-af3e-40fc-a6fb-b96e1f80873a",
   "metadata": {},
   "outputs": [],
   "source": [
    "for group in groups:\n",
    "    header = group.find(name='div', class_=\"group-name\", recursive=False)\n",
    "    #save_file(header.h3.string, \"data.csv\")\n",
    "    #print(str(header.string))\n",
    "    #save_file(\"\\t\" + str(header.string) + \"\\t\" + \"\\t\", data_file)\n",
    "    rHeader = str(header.string)\n",
    "    new_file = \"data/\" + rHeader.replace(\"/\", \"\") + \".tsv\"\n",
    "    if os.path.exists(new_file):\n",
    "        os.remove(new_file)\n",
    "    save_file(\"\\t\" + rHeader + \"\\t\" + \"\\t\", new_file)\n",
    "    rows = group.find_all(name='div', class_=\"table-row\", recursive=False)\n",
    "    for row in rows:\n",
    "        rData1 = row.find(name='div', class_=\"tb-col-1\", recursive=False).string\n",
    "        rData2 = row.find(name='div', class_=\"tb-col-2\", recursive=False).find('a').string\n",
    "        rData3 = row.find(name='div', class_=\"tb-col-3\", recursive=False).string\n",
    "        rData4 = row.find(name='div', class_=\"tb-col-4\", recursive=False).string\n",
    "        rData1 = \"\" if rData1 is None else rData1\n",
    "        rData2 = \"\" if rData2 is None else rData2\n",
    "        rData3 = \"\" if rData3 is None else rData3\n",
    "        rData4 = \"\" if rData4 is None else rData4\n",
    "        rowData = rData1 + \"\\t\"+ rData2 + \"\\t\"+ rData3 + \"\\t\"+ rData4\n",
    "        #print(rowData)\n",
    "        save_file(rowData, new_file)"
   ]
  },
  {
   "cell_type": "code",
   "execution_count": null,
   "id": "e4774b73-19fe-4ced-b6ae-94416941f944",
   "metadata": {},
   "outputs": [],
   "source": []
  },
  {
   "cell_type": "code",
   "execution_count": null,
   "id": "405f6f92-3d4d-413e-bbb1-9860e65cc044",
   "metadata": {},
   "outputs": [],
   "source": []
  }
 ],
 "metadata": {
  "kernelspec": {
   "display_name": "Python 3 (ipykernel)",
   "language": "python",
   "name": "python3"
  },
  "language_info": {
   "codemirror_mode": {
    "name": "ipython",
    "version": 3
   },
   "file_extension": ".py",
   "mimetype": "text/x-python",
   "name": "python",
   "nbconvert_exporter": "python",
   "pygments_lexer": "ipython3",
   "version": "3.10.2"
  }
 },
 "nbformat": 4,
 "nbformat_minor": 5
}
