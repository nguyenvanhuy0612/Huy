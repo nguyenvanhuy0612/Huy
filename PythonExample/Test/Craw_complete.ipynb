{
 "cells": [
  {
   "cell_type": "code",
   "execution_count": 1,
   "id": "53d8cf02-de1f-49f0-acad-4ba27b65d92c",
   "metadata": {},
   "outputs": [],
   "source": [
    "from bs4 import BeautifulSoup\n",
    "import re\n",
    "import os\n",
    "from pathlib import Path\n",
    "import csv"
   ]
  },
  {
   "cell_type": "code",
   "execution_count": 2,
   "id": "452bd5bd-0128-48bc-b9a9-e27dd7dfd2bc",
   "metadata": {},
   "outputs": [],
   "source": [
    "def save_file(content, path):\n",
    "    file_object = Path(path)\n",
    "    file_object.parent.mkdir(exist_ok=True, parents=True)\n",
    "    file_object.write_text(content, encoding='utf-8', newline='')\n",
    "\n",
    "\n",
    "def read_data(file_name):\n",
    "    raw_file = open(file_name, mode='r', encoding='utf-8')\n",
    "    raw_data = raw_file.read()\n",
    "    raw_file.close()\n",
    "    soup_data = BeautifulSoup(markup=raw_data, features='html.parser', from_encoding='utf-8')\n",
    "    return soup_data\n",
    "\n",
    "\n",
    "def read_data2(file_name):\n",
    "    with open(file_name, mode='rb') as f:\n",
    "        raw_data = f.read()\n",
    "    soup_data = BeautifulSoup(markup=raw_data, features='html.parser')\n",
    "    return soup_data\n",
    "\n",
    "\n",
    "def process_data(soup_data):\n",
    "    list_data = soup_data.find(id='list_sale_price')\n",
    "    groups = list_data.find_all(attrs={\"class\": \"group-product\"})\n",
    "    data_result = {}\n",
    "    for group in groups:\n",
    "        header = group.find(name='div', class_=\"group-name\", recursive=False).get_text().replace(\"/\", \"\")\n",
    "        row_data = []\n",
    "        for rows in group.find_all(name='div', class_=\"table-row\", recursive=False):\n",
    "            cell_data = []\n",
    "            for cell in rows.find_all(name='div', class_=re.compile(\"tb-col-\")):\n",
    "                cell_text = cell.get_text()\n",
    "                cell_text = cell_text if cell_text is not None else ''\n",
    "                cell_data.append(cell_text)\n",
    "            row_data.append(cell_data)\n",
    "        data_result[header] = row_data\n",
    "    return data_result\n",
    "\n",
    "\n",
    "def save_to_file(data_result: dict, folder: str):\n",
    "    for header, list_row in data_result.items():\n",
    "        new_file_object = open(folder + \"/\" + header + \".tsv\", \"w\", encoding=\"utf-8\", newline='')\n",
    "        file_writer = csv.writer(new_file_object, delimiter='\\t')\n",
    "        file_writer.writerow(['', header, '', ''])\n",
    "        for row in list_row:\n",
    "            file_writer.writerow(row)\n",
    "        new_file_object.close()"
   ]
  },
  {
   "cell_type": "code",
   "execution_count": null,
   "id": "e6ab3ea6-010d-4172-bcd8-eccb080a115b",
   "metadata": {},
   "outputs": [],
   "source": [
    "def selenium_craw():\n",
    "    from webdriver_manager.chrome import ChromeDriverManager\n",
    "    from selenium.webdriver.chrome.service import Service as ChromeService\n",
    "    from selenium.webdriver.chrome.options import Options\n",
    "    from selenium.webdriver.support.ui import WebDriverWait\n",
    "    from selenium.webdriver.common.action_chains import ActionChains\n",
    "    from selenium import webdriver\n",
    "    \n",
    "    options = Options()\n",
    "    # options.add_argument(\"--disable-extensions\")\n",
    "    options.add_argument(\"--allow-running-insecure-content\")\n",
    "    options.add_argument(\"use-fake-device-for-media-stream\")\n",
    "    options.add_argument(\"use-fake-ui-for-media-stream\")\n",
    "    options.add_argument(\"disable-features=WebRtcHideLocalIpsWithMdns\")\n",
    "    options.add_argument(\"disable-infobars\")\n",
    "    options.add_argument(\"disable-notifications\")\n",
    "    options.add_argument(\"disable-popup-blocking\")\n",
    "    options.add_argument(\"excludeSwitches\")\n",
    "    options.add_argument(\"--start-maximized\")\n",
    "    #options.add_argument(\"--headless\")\n",
    "    \n",
    "    driver = webdriver.Chrome(options=options, service=ChromeService(ChromeDriverManager().install()))\n",
    "    driver.implicitly_wait(30)\n",
    "    driver.set_page_load_timeout(60)\n",
    "    action = ActionChains(driver)\n",
    "    wait = WebDriverWait(driver, 60)\n",
    "    return driver"
   ]
  },
  {
   "cell_type": "code",
   "execution_count": null,
   "id": "d62f962f-b3a3-4d59-bb8e-b418ef4e0ea8",
   "metadata": {},
   "outputs": [],
   "source": []
  },
  {
   "cell_type": "code",
   "execution_count": 4,
   "id": "4612bff3-a93d-4990-a71a-f6ecad3f5831",
   "metadata": {},
   "outputs": [],
   "source": [
    "file = 'thns3.html'\n",
    "soup = read_data2(file)\n",
    "result = process_data(soup)\n",
    "save_to_file(result, \"thns3\")"
   ]
  },
  {
   "cell_type": "code",
   "execution_count": null,
   "id": "cddbb8cd-ecc2-4f12-a8d7-dee28b9f0013",
   "metadata": {},
   "outputs": [],
   "source": []
  }
 ],
 "metadata": {
  "kernelspec": {
   "display_name": "Python 3 (ipykernel)",
   "language": "python",
   "name": "python3"
  },
  "language_info": {
   "codemirror_mode": {
    "name": "ipython",
    "version": 3
   },
   "file_extension": ".py",
   "mimetype": "text/x-python",
   "name": "python",
   "nbconvert_exporter": "python",
   "pygments_lexer": "ipython3",
   "version": "3.10.2"
  }
 },
 "nbformat": 4,
 "nbformat_minor": 5
}
