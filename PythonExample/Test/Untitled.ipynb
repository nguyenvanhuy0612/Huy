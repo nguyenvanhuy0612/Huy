{
 "cells": [
  {
   "cell_type": "code",
   "execution_count": 5,
   "id": "ee01a98a-fd0e-4094-aaa8-45acb5a6bce1",
   "metadata": {},
   "outputs": [],
   "source": [
    "from webdriver_manager.chrome import ChromeDriverManager\n",
    "from selenium.webdriver.chrome.service import Service as ChromeService\n",
    "from selenium.webdriver.chrome.options import Options\n",
    "from selenium.webdriver.support.ui import WebDriverWait\n",
    "from selenium.webdriver.common.action_chains import ActionChains\n",
    "from selenium import webdriver\n",
    "import time\n",
    "\n",
    "options = Options()\n",
    "# options.add_argument(\"--disable-extensions\")\n",
    "options.add_argument(\"--allow-running-insecure-content\")\n",
    "options.add_argument(\"use-fake-device-for-media-stream\")\n",
    "options.add_argument(\"use-fake-ui-for-media-stream\")\n",
    "options.add_argument(\"disable-features=WebRtcHideLocalIpsWithMdns\")\n",
    "options.add_argument(\"disable-infobars\")\n",
    "options.add_argument(\"disable-notifications\")\n",
    "options.add_argument(\"disable-popup-blocking\")\n",
    "options.add_argument(\"excludeSwitches\")\n",
    "options.add_argument(\"--start-maximized\")\n",
    "options.add_argument(\"--headless\")"
   ]
  },
  {
   "cell_type": "code",
   "execution_count": 6,
   "id": "eff393e6-f20d-42b8-8fcc-62932a84bbce",
   "metadata": {},
   "outputs": [
    {
     "name": "stderr",
     "output_type": "stream",
     "text": [
      "\n",
      "\n",
      "====== WebDriver manager ======\n",
      "Current google-chrome version is 103.0.5060\n",
      "Get LATEST chromedriver version for 103.0.5060 google-chrome\n",
      "Trying to download new driver from https://chromedriver.storage.googleapis.com/103.0.5060.53/chromedriver_win32.zip\n",
      "Driver has been saved in cache [C:\\Users\\Admin\\.wdm\\drivers\\chromedriver\\win32\\103.0.5060.53]\n"
     ]
    }
   ],
   "source": [
    "driver = webdriver.Chrome(options=options, service=ChromeService(ChromeDriverManager().install()))"
   ]
  },
  {
   "cell_type": "code",
   "execution_count": 7,
   "id": "d810cd4d-e4c2-459b-98e1-f5d8ab3d6204",
   "metadata": {},
   "outputs": [],
   "source": [
    "driver.implicitly_wait(60)\n",
    "driver.set_page_load_timeout(120)\n",
    "action = ActionChains(driver)\n",
    "wait = WebDriverWait(driver, 120)"
   ]
  },
  {
   "cell_type": "code",
   "execution_count": 8,
   "id": "0d02f34f-28d0-418f-b01f-0f5c9e2de71a",
   "metadata": {},
   "outputs": [],
   "source": [
    "driver.get(\"https://tinhocngoisao.com/bang-gia-ban\")"
   ]
  },
  {
   "cell_type": "code",
   "execution_count": 15,
   "id": "2d41ff5a-d387-4305-baa0-8b016726d359",
   "metadata": {},
   "outputs": [
    {
     "name": "stderr",
     "output_type": "stream",
     "text": [
      "ERROR: The process \"chromedriver*\" not found.\n"
     ]
    }
   ],
   "source": [
    "!taskkill /f /im chromedriver*"
   ]
  },
  {
   "cell_type": "code",
   "execution_count": null,
   "id": "16ff4701-bc2e-4aab-9074-4504d42666ef",
   "metadata": {},
   "outputs": [],
   "source": [
    "driver.page_source"
   ]
  },
  {
   "cell_type": "code",
   "execution_count": 10,
   "id": "3195e3a6-effd-41d8-b6eb-5c1c50471c9e",
   "metadata": {},
   "outputs": [],
   "source": [
    "with open(\"thns3.html\", \"w\", encoding=\"utf-8\") as f:\n",
    "    f.write(driver.page_source)"
   ]
  },
  {
   "cell_type": "code",
   "execution_count": 13,
   "id": "7c6f9b37-e794-47c1-90ad-a11abdbbcff7",
   "metadata": {},
   "outputs": [],
   "source": [
    "driver.quit()"
   ]
  },
  {
   "cell_type": "code",
   "execution_count": 14,
   "id": "42f605c3-72c0-436e-a07d-c665da11061a",
   "metadata": {},
   "outputs": [
    {
     "name": "stdout",
     "output_type": "stream",
     "text": [
      "<selenium.webdriver.chrome.webdriver.WebDriver (session=\"35d349bbb5a0c06481ef1d54ca93e018\")>\n"
     ]
    }
   ],
   "source": [
    "print(driver)"
   ]
  },
  {
   "cell_type": "code",
   "execution_count": null,
   "id": "d1bc9528-11e6-46d0-ad41-25e98d9cf255",
   "metadata": {},
   "outputs": [],
   "source": []
  }
 ],
 "metadata": {
  "kernelspec": {
   "display_name": "Python 3 (ipykernel)",
   "language": "python",
   "name": "python3"
  },
  "language_info": {
   "codemirror_mode": {
    "name": "ipython",
    "version": 3
   },
   "file_extension": ".py",
   "mimetype": "text/x-python",
   "name": "python",
   "nbconvert_exporter": "python",
   "pygments_lexer": "ipython3",
   "version": "3.10.2"
  }
 },
 "nbformat": 4,
 "nbformat_minor": 5
}
