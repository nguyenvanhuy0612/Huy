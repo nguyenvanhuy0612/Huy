{
 "cells": [
  {
   "cell_type": "code",
   "execution_count": 1,
   "id": "99f29b33-b079-40b7-9697-b14e08c8df88",
   "metadata": {},
   "outputs": [],
   "source": [
    "import uiautomation as auto\n",
    "import subprocess\n",
    "from robot.libraries.BuiltIn import *\n",
    "\n",
    "\"\"\"\n",
    "Huy, 13/6/2021\n",
    "\"\"\"\n",
    "\n",
    "auto.uiautomation.OPERATION_WAIT_TIME = 1\n",
    "auto.uiautomation.TIME_OUT_SECOND = 15\n",
    "auto.uiautomation.SEARCH_INTERVAL = 1\n",
    "\n",
    "# todo System variables\n",
    "ie_window: auto.WindowControl = None\n",
    "multimedia_window: auto.WindowControl = None\n",
    "\n",
    "\n",
    "def safe_click(element, sleepTime: float = 1, simulateMove: bool = False, waitTime: float = 0.5, focus: bool = False):\n",
    "    if focus:\n",
    "        element.SetFocus()\n",
    "    element.MoveCursorToMyCenter()\n",
    "    time.sleep(sleepTime)\n",
    "    element.Click(simulateMove=simulateMove)\n",
    "    time.sleep(waitTime)\n",
    "\n",
    "\n",
    "def find_and_click(element, maxSearchTime: float = 3, searchInterval: float = 1, sleepTime: float = 1,\n",
    "                   waitTime: float = 0.5, simulateMove: bool = False, focus: bool = False):\n",
    "    if element.Exists(maxSearchTime, searchInterval):\n",
    "        safe_click(element, sleepTime, simulateMove, waitTime, focus)\n",
    "        return True\n",
    "    return False"
   ]
  },
  {
   "cell_type": "code",
   "execution_count": 46,
   "id": "ea902c5f-24d9-442a-875e-b1750a717667",
   "metadata": {},
   "outputs": [],
   "source": [
    "def _open_global_ie_window():\n",
    "    global ie_window\n",
    "    ie_window = None\n",
    "    print(\"global ie_window = \", ie_window)\n",
    "    ie_path = r\"C:\\\\Program Files\\\\Internet Explorer\\\\iexplore.exe\"\n",
    "    if \"iexplore.exe\" not in str(subprocess.run(['tasklist'], capture_output=True, text=True).stdout):\n",
    "        print(\"iexplore.exe not in tasklist, subprocess.Popen(ie_path)\")\n",
    "        subprocess.Popen(ie_path)\n",
    "        time.sleep(3)\n",
    "    ie_window = auto.WindowControl(searchDepth=1, ClassName=\"IEFrame\")\n",
    "    if not ie_window.Exists(10, 1):\n",
    "        print(\"ie not exists\")\n",
    "        BuiltIn().log_to_console(\"Cannot open IE\")\n",
    "        BuiltIn().fail(\"Fail to open IE\")\n",
    "    i = 3  # number of find\n",
    "    time.sleep(2)\n",
    "    while i > 0:\n",
    "        print(i)\n",
    "        if not ie_window.SetActive():\n",
    "            ie_window.SetFocus()\n",
    "        # find and close asks default\n",
    "        a1=find_and_click(ie_window.WindowControl(searchDepth=1, ClassName=\"#32770\").ButtonControl(Name=\"Close\"), 1, 0.2,\n",
    "                       0.5, 1)\n",
    "        # find and close Notify bar\n",
    "        a2=find_and_click(\n",
    "            ie_window.PaneControl(searchDepth=1, ClassName=\"Frame Notification Bar\").ButtonControl(Name=\"Close\"), 1, 0.2,\n",
    "            0.5, 1)\n",
    "        time.sleep(1)\n",
    "        if a1 or a2:\n",
    "            print(a1, a2)\n",
    "            i = 3\n",
    "            continue\n",
    "        i -= 1"
   ]
  },
  {
   "cell_type": "code",
   "execution_count": 48,
   "id": "207574e9-6f7f-467c-80b2-2d3e96a57abf",
   "metadata": {},
   "outputs": [
    {
     "name": "stdout",
     "output_type": "stream",
     "text": [
      "global ie_window =  None\n",
      "iexplore.exe not in tasklist, subprocess.Popen(ie_path)\n",
      "3\n",
      "True False\n",
      "3\n",
      "2\n",
      "1\n"
     ]
    }
   ],
   "source": [
    "_open_global_ie_window()"
   ]
  },
  {
   "cell_type": "code",
   "execution_count": 55,
   "id": "83c9acbb-fa7d-48f4-b6f2-57ed26ee993c",
   "metadata": {},
   "outputs": [],
   "source": [
    "def ie_open_data_management():\n",
    "    global ie_window\n",
    "    time.sleep(3)\n",
    "    find_and_click(ie_window.PaneControl(ClassName=\"SSTreeWndClass\"), 5, 1, 1, 2, focus=True)\n",
    "    pane_control = ie_window.PaneControl(ClassName=\"SSTreeWndClass\")\n",
    "    print(pane_control.SetFocus(), pane_control)\n",
    "    pane_control.SendKeys(\"{down 2}\", waitTime=1, interval=0.05)\n",
    "    pane_control.SendKeys(\"{space}\", waitTime=1, interval=0.05)\n",
    "    find_and_click(ie_window.ButtonControl(AutomationId=\"btnLaunch\"), 5, 1, 0.5, 1, focus=True)\n",
    "    i = 3\n",
    "    while i > 0:\n",
    "        print(i)\n",
    "        # find and click Open button in notify bar\n",
    "        # find and click OK button if an instance Data management is already running\n",
    "        # find and click YES button if user already logged in to Data management\n",
    "        a1 = find_and_click(ie_window.PaneControl(searchDepth=1, ClassName=\"Frame Notification Bar\").ButtonControl(Name=\"Open\"),2, 0.5, 0.5, 2, focus=True)\n",
    "        a2 = find_and_click(auto.WindowControl(searchDepth=1, AutomationId=\"TrustManagerPromptUI\").ButtonControl(AutomationId=\"btnInstall\"), 2,0.5,0.5,10,True)\n",
    "        a3 = find_and_click(auto.WindowControl(searchDepth=1, Name=\"CCMM Data Management\").ButtonControl(Name=\"OK\"), 2, 0.5, 0.5,1, focus=True)\n",
    "        a4 = find_and_click(auto.WindowControl(searchDepth=1, Name=\"Data Management\").ButtonControl(Name=\"Yes\"), 2, 0.5, 0.5,1, focus=True)\n",
    "        if a1 or a2 or a3 or a4:\n",
    "            print(a1, a2, a3, a4)\n",
    "            i = 3\n",
    "            continue\n",
    "        i -= 1"
   ]
  },
  {
   "cell_type": "code",
   "execution_count": 58,
   "id": "079bc6b3-cb14-4c39-97ef-cd603e1be241",
   "metadata": {},
   "outputs": [
    {
     "name": "stdout",
     "output_type": "stream",
     "text": [
      "True ControlType: PaneControl    ClassName: SSTreeWndClass    AutomationId:     Rect: (746,176,893,604)[147x428]    Name:     Handle: 0x180888(1575048)\n",
      "3\n",
      "True False True False\n",
      "3\n",
      "2\n",
      "1\n"
     ]
    }
   ],
   "source": [
    "ie_open_data_management()"
   ]
  },
  {
   "cell_type": "code",
   "execution_count": null,
   "id": "3c9ec740-fea9-4c40-b6a2-b9695190a622",
   "metadata": {},
   "outputs": [],
   "source": []
  },
  {
   "cell_type": "code",
   "execution_count": null,
   "id": "cbead806-4c6e-49aa-a379-addf0c2ffedc",
   "metadata": {},
   "outputs": [],
   "source": []
  },
  {
   "cell_type": "code",
   "execution_count": null,
   "id": "6b75e88d-a2c3-41c0-9208-f8c1a79a36ff",
   "metadata": {},
   "outputs": [],
   "source": []
  },
  {
   "cell_type": "code",
   "execution_count": null,
   "id": "c5aa8215-72c7-4322-959e-a70af69100af",
   "metadata": {},
   "outputs": [],
   "source": []
  },
  {
   "cell_type": "code",
   "execution_count": 37,
   "id": "7a00ce08-9b2e-4f94-9f19-97f69391913a",
   "metadata": {},
   "outputs": [],
   "source": [
    "import threading\n",
    "lock = threading.Lock()"
   ]
  },
  {
   "cell_type": "code",
   "execution_count": 38,
   "id": "1e367a51-8d8c-4a4e-9e68-4067b3312665",
   "metadata": {},
   "outputs": [
    {
     "data": {
      "text/plain": [
       "<unlocked _thread.lock object at 0x00000168A4919750>"
      ]
     },
     "execution_count": 38,
     "metadata": {},
     "output_type": "execute_result"
    }
   ],
   "source": [
    "lock"
   ]
  },
  {
   "cell_type": "code",
   "execution_count": 41,
   "id": "184746fb-8d84-4d17-bee6-9723488a6e05",
   "metadata": {},
   "outputs": [],
   "source": [
    "def a1():\n",
    "    global auto\n",
    "    ie_address = auto.WindowControl(searchDepth=1, ClassName=\"IEFrame\").PaneControl(ClassName=\"Address Band Root\")\n",
    "    if ie_address.Exists(3, 1):\n",
    "        ie_address.SetFocus()\n",
    "        ie_address.Click(simulateMove=False)\n",
    "\n",
    "\n",
    "def a2():\n",
    "    global auto\n",
    "    lock.acquire()\n",
    "    ie_tab = auto.WindowControl(searchDepth=1, ClassName=\"IEFrame\").PaneControl(ClassName=\"TabBandClass\")\n",
    "    if ie_tab.Exists(3, 1):\n",
    "        ie_tab.SetFocus()\n",
    "        ie_tab.Click()\n",
    "    lock.release()\n",
    "\n",
    "\n",
    "def runner():\n",
    "    t1 = threading.Thread(target=a1)\n",
    "    t2 = threading.Thread(target=a2)\n",
    "    t1.start()\n",
    "    t2.start()\n",
    "    print(\"start t1, t2\")\n",
    "    t1.join()\n",
    "    t2.join()\n",
    "    print(\"Done\")"
   ]
  },
  {
   "cell_type": "code",
   "execution_count": 43,
   "id": "9406921c-4541-4f75-accb-a62d0791be98",
   "metadata": {},
   "outputs": [
    {
     "name": "stdout",
     "output_type": "stream",
     "text": [
      "start t1, t2\n",
      "Done\n"
     ]
    }
   ],
   "source": [
    "runner()"
   ]
  },
  {
   "cell_type": "code",
   "execution_count": null,
   "id": "06b5e350-17ce-425d-860f-f02ea3607853",
   "metadata": {},
   "outputs": [],
   "source": []
  },
  {
   "cell_type": "code",
   "execution_count": null,
   "id": "21de16a6-90d2-4168-a2ce-29a83c6f3bc0",
   "metadata": {},
   "outputs": [],
   "source": []
  },
  {
   "cell_type": "code",
   "execution_count": null,
   "id": "01355a47-dc3d-47ac-b962-fa67b08bda7b",
   "metadata": {},
   "outputs": [],
   "source": []
  }
 ],
 "metadata": {
  "kernelspec": {
   "display_name": "Python 3",
   "language": "python",
   "name": "python3"
  },
  "language_info": {
   "codemirror_mode": {
    "name": "ipython",
    "version": 3
   },
   "file_extension": ".py",
   "mimetype": "text/x-python",
   "name": "python",
   "nbconvert_exporter": "python",
   "pygments_lexer": "ipython3",
   "version": "3.9.5"
  }
 },
 "nbformat": 4,
 "nbformat_minor": 5
}
