{
 "cells": [
  {
   "cell_type": "code",
   "execution_count": 3,
   "id": "51a3f1ee-b57d-4888-8dce-788483855920",
   "metadata": {},
   "outputs": [],
   "source": [
    "import uiautomation as auto\n",
    "import subprocess\n",
    "from robot.libraries.BuiltIn import *\n",
    "\n",
    "\"\"\"\n",
    "Huy, 13/6/2021\n",
    "\"\"\"\n",
    "\n",
    "auto.uiautomation.OPERATION_WAIT_TIME = 1\n",
    "auto.uiautomation.TIME_OUT_SECOND = 15\n",
    "auto.uiautomation.SEARCH_INTERVAL = 1\n",
    "\n",
    "# todo System variables\n",
    "ie_window: auto.WindowControl = None\n",
    "multimedia_window: auto.WindowControl = None\n",
    "\n",
    "\n",
    "def safe_click(element, sleepTime: float = 1, simulateMove: bool = False, waitTime: float = 0.5, focus: bool = False):\n",
    "    if focus:\n",
    "        element.SetFocus()\n",
    "    element.MoveCursorToMyCenter()\n",
    "    time.sleep(sleepTime)\n",
    "    element.Click(simulateMove=simulateMove)\n",
    "    time.sleep(waitTime)\n",
    "\n",
    "\n",
    "def find_and_click(element, maxSearchTime: float = 3, searchInterval: float = 1, sleepTime: float = 1,\n",
    "                   waitTime: float = 0.5, simulateMove: bool = False, focus: bool = False):\n",
    "    if element.Exists(maxSearchTime, searchInterval):\n",
    "        safe_click(element, sleepTime, simulateMove, waitTime, focus)\n",
    "        return True\n",
    "    return False\n",
    "\n",
    "\n",
    "# todo child func\n",
    "# Huy, 11/03/2021\n",
    "def _open_global_ie_window():\n",
    "    global ie_window\n",
    "    ie_window = None\n",
    "    print(\"global ie_window = \", ie_window)\n",
    "    ie_path = r\"C:\\\\Program Files\\\\Internet Explorer\\\\iexplore.exe\"\n",
    "    if \"iexplore.exe\" not in str(subprocess.run(['tasklist'], capture_output=True, text=True).stdout):\n",
    "        print(\"iexplore.exe not in tasklist, subprocess.Popen(ie_path)\")\n",
    "        subprocess.Popen(ie_path)\n",
    "        time.sleep(3)\n",
    "    ie_window = auto.WindowControl(searchDepth=1, ClassName=\"IEFrame\")\n",
    "    if not ie_window.Exists(10, 1):\n",
    "        print(\"ie not exists\")\n",
    "        BuiltIn().log_to_console(\"Cannot open IE\")\n",
    "        BuiltIn().fail(\"Fail to open IE\")\n",
    "    i = 3  # number of find\n",
    "    time.sleep(2)\n",
    "    while i > 0:\n",
    "        print(i)\n",
    "        if not ie_window.SetActive():\n",
    "            ie_window.SetFocus()\n",
    "        # find and close asks default\n",
    "        a1 = find_and_click(ie_window.WindowControl(searchDepth=1, ClassName=\"#32770\").ButtonControl(Name=\"Close\"), 1,0.2,0.5, 1)\n",
    "        # find and close Notify bar\n",
    "        a2 = find_and_click(ie_window.PaneControl(searchDepth=1, ClassName=\"Frame Notification Bar\").ButtonControl(Name=\"Close\"), 1,0.2,0.5, 1)\n",
    "        time.sleep(1)\n",
    "        if a1 or a2:\n",
    "            print(a1, a2)\n",
    "            i = 3\n",
    "            continue\n",
    "        i -= 1\n",
    "\n",
    "\n",
    "# todo ie func\n",
    "# Huy, 13/6/2021\n",
    "def ie_close():\n",
    "    global ie_window\n",
    "    ie_window = None\n",
    "    time.sleep(1)\n",
    "    if \"iexplore.exe\" in str(subprocess.run(['tasklist'], capture_output=True, text=True).stdout):\n",
    "        subprocess.call(\"taskkill /f /im iexplore.exe\")\n",
    "\n",
    "\n",
    "def ie_enter_url(ccma_url: str = \"https://100.30.7.78\"):\n",
    "    global ie_window\n",
    "    find_and_click(ie_window.PaneControl(ClassName=\"Address Band Root\"), waitTime=1, focus=True)\n",
    "    ie_window.SendKeys(\"{ctrl}l\", waitTime=1, interval=0.03)\n",
    "    ie_window.SendKeys(\"{ctrl}a\" + ccma_url + \"{enter}\", waitTime=1, interval=0.05)\n",
    "    # find (10s) and click to error cer\n",
    "    find_and_click(ie_window.HyperlinkControl(AutomationId=\"overridelink\"), 10, 1, 0.5, 1, focus=True)\n",
    "    # Check Login page display\n",
    "    ie_window.TextControl(Name=\"Login\").Exists(15, 1)\n",
    "\n",
    "\n",
    "def ie_login_ccma(username: str = \"nvhuy\", password: str = \"1_Abc_123\"):\n",
    "    global ie_window\n",
    "    ie_window.TextControl(Name=\"Login\").Exists(30, 1)\n",
    "    safe_click(ie_window.EditControl(AutomationId=\"Username\"), waitTime=0.5, focus=True)\n",
    "    ie_window.SendKeys(username + \"{tab}\" + password + \"{enter}\", waitTime=2, interval=0.05)\n",
    "\n",
    "\n",
    "def ie_goto_multimedia():\n",
    "    global ie_window\n",
    "    find_and_click(ie_window.ButtonControl(Name=\"Maximize\"), 0, 0)\n",
    "    if not find_and_click(ie_window.HyperlinkControl(SubName=\"Multimedia\"), 5, 1, 1):\n",
    "        ie_enter_url(\"https://100.30.7.78/DataManagement/default.asp\")\n",
    "\n",
    "\n",
    "def ie_open_multimedia():\n",
    "    global ie_window\n",
    "    time.sleep(3)\n",
    "    find_and_click(ie_window.PaneControl(ClassName=\"SSTreeWndClass\"), 5, 1, 1, 2, focus=True)\n",
    "    pane_control = ie_window.PaneControl(ClassName=\"SSTreeWndClass\")\n",
    "    print(pane_control.SetFocus(), pane_control)\n",
    "    pane_control.SendKeys(\"{down 2}\", waitTime=1, interval=0.05)\n",
    "    pane_control.SendKeys(\"{space}\", waitTime=1, interval=0.05)\n",
    "    find_and_click(ie_window.ButtonControl(AutomationId=\"btnLaunch\"), 5, 1, 0.5, 1, focus=True)\n",
    "    number_of_scan = 3\n",
    "    while number_of_scan >= 0:\n",
    "        # find and click Open button in notify bar\n",
    "        a1 = find_and_click(ie_window.PaneControl(searchDepth=1, ClassName=\"Frame Notification Bar\").ButtonControl(Name=\"Open\"),3, 1, 0.5, 1, focus=True)\n",
    "        # find and click run button\n",
    "        a2 = find_and_click(auto.WindowControl(searchDepth=1, AutomationId=\"TrustManagerPromptUI\").ButtonControl(AutomationId=\"btnInstall\"), 2,0.5,0.5,10,True)\n",
    "        # find and click OK button if an instance Data management is already running\n",
    "        a3 = find_and_click(auto.WindowControl(searchDepth=1, Name=\"CCMM Data Management\").ButtonControl(Name=\"OK\"), 2, 1, 0.5,1, focus=True)\n",
    "        # find and click YES button if user already logged in to Data management\n",
    "        a4 = find_and_click(auto.WindowControl(searchDepth=1, Name=\"Data Management\").ButtonControl(Name=\"Yes\"), 2, 1, 0.5,1, focus=True)\n",
    "        if a1 or a2 or a3 or a4:\n",
    "            number_of_scan = 3\n",
    "            continue\n",
    "        number_of_scan -= 1\n"
   ]
  },
  {
   "cell_type": "code",
   "execution_count": 4,
   "id": "5c5b3021-f11e-4f95-9b22-13316975b9e1",
   "metadata": {},
   "outputs": [
    {
     "name": "stdout",
     "output_type": "stream",
     "text": [
      "global ie_window =  None\n",
      "3\n",
      "2\n",
      "1\n"
     ]
    }
   ],
   "source": [
    "_open_global_ie_window()"
   ]
  },
  {
   "cell_type": "code",
   "execution_count": 6,
   "id": "6f2a2de6-0023-4d7e-af8f-225854806c4d",
   "metadata": {},
   "outputs": [],
   "source": [
    "def _global_multimedia_window(maxSearchTime: float = 10, searchInterval: float = 1):\n",
    "    global multimedia_window\n",
    "    multimedia_window = None\n",
    "    multimedia_window = auto.WindowControl(searchDepth=1, Name=\"CCMM Administration\")\n",
    "    if not multimedia_window.Exists(maxSearchTime, searchInterval):\n",
    "        print(\"Cannot find CCMM data management\")\n",
    "        return \"not found\"\n",
    "    if not multimedia_window.SetActive():\n",
    "        multimedia_window.SetFocus()\n",
    "    time.sleep(1)\n",
    "    return \"found\"\n",
    "\n",
    "\n",
    "def open_multimedia(ccma_url: str = \"https://100.30.7.78\", username: str = \"nvhuy\", password: str = \"1_Abc_123\"):\n",
    "    if _global_multimedia_window(5, 1) == \"found\":\n",
    "        print(\"found CCMM Multimedia, skip open ie\")\n",
    "        ie_close()\n",
    "    else:\n",
    "        print(\"Go to open CCMM data managenent\")\n",
    "        _open_global_ie_window()\n",
    "        ie_enter_url(ccma_url)\n",
    "        ie_login_ccma(username, password)\n",
    "        ie_goto_multimedia()\n",
    "        ie_open_multimedia()\n",
    "    if not _global_multimedia_window(30, 2):\n",
    "        BuiltIn().log_to_console(\"Fail to open data managemet\")\n",
    "    else:\n",
    "        ie_close()"
   ]
  },
  {
   "cell_type": "code",
   "execution_count": 7,
   "id": "ada6f2a5-c786-4803-a866-02f05a3271e8",
   "metadata": {},
   "outputs": [
    {
     "name": "stdout",
     "output_type": "stream",
     "text": [
      "found CCMM Multimedia, skip open ie\n"
     ]
    }
   ],
   "source": [
    "open_multimedia()"
   ]
  },
  {
   "cell_type": "code",
   "execution_count": 13,
   "id": "9d6e9296-4282-4a93-bff4-223d8c762582",
   "metadata": {},
   "outputs": [],
   "source": [
    "auto.uiautomation.DEBUG_EXIST_DISAPPEAR = True\n",
    "auto.uiautomation.DEBUG_SEARCH_TIME = True"
   ]
  },
  {
   "cell_type": "code",
   "execution_count": 20,
   "id": "b35da667-a638-4617-95cf-155001b2f2a6",
   "metadata": {},
   "outputs": [],
   "source": [
    "def CCMM_Agent_Desktop_Configuration():\n",
    "    global multimedia_window\n",
    "    tabs = multimedia_window.TabControl(searchDepth=1, AutomationId=\"tbctrlMenuBar\")\n",
    "    tbCCAD = tabs.TabItemControl(searchDepth=1, AutomationId=\"tbCCAD\")\n",
    "    find_and_click(tbCCAD, focus=True)\n",
    "    find_and_click(tbCCAD.TreeItemControl(AutomationId=\"trCCADCommonSettings\"), focus=True)\n",
    "    warning_ok_btn = multimedia_window.WindowControl(Name=\"Warning\").ButtonControl(Name=\"OK\")\n",
    "    if warning_ok_btn.Exists(2,0.5):\n",
    "        pass"
   ]
  },
  {
   "cell_type": "code",
   "execution_count": 21,
   "id": "050c6655-0425-4aa3-929b-a105c2cfa1ab",
   "metadata": {},
   "outputs": [
    {
     "name": "stdout",
     "output_type": "stream",
     "text": [
      "2021-06-24 04:41:14.951 <ipython-input-3-001ff6153a32>[29] find_and_click -> {AutomationId: 'tbctrlMenuBar', ControlType: TabControl} TraverseControls: 4, SearchTime: 0.055s[04:41:14.897520 - 04:41:14.951521]\n",
      "2021-06-24 04:41:15.115 <ipython-input-3-001ff6153a32>[29] find_and_click -> {AutomationId: 'tbCCAD', ControlType: TabItemControl} TraverseControls: 12, SearchTime: 0.021s[04:41:15.094532 - 04:41:15.115533]\n",
      "2021-06-24 04:41:17.745 <ipython-input-3-001ff6153a32>[29] find_and_click -> {AutomationId: 'trCCADCommonSettings', ControlType: TreeItemControl} TraverseControls: 6, SearchTime: 0.014s[04:41:17.731683 - 04:41:17.745685]\n",
      "2021-06-24 04:41:20.334 <ipython-input-20-dcc943eda5da>[8] CCMM_Agent_Desktop_Configuration -> {Name: 'Warning', ControlType: WindowControl} TraverseControls: 1, SearchTime: 0.002s[04:41:20.333833 - 04:41:20.334834]\n",
      "2021-06-24 04:41:20.604 <ipython-input-20-dcc943eda5da>[8] CCMM_Agent_Desktop_Configuration -> {Name: 'OK', ControlType: ButtonControl} TraverseControls: 5, SearchTime: 0.116s[04:41:20.488844 - 04:41:20.604851]\n"
     ]
    }
   ],
   "source": [
    "CCMM_Agent_Desktop_Configuration()"
   ]
  },
  {
   "cell_type": "code",
   "execution_count": null,
   "id": "b9cd5f54-82ca-4747-a3c6-547f1676f994",
   "metadata": {},
   "outputs": [],
   "source": []
  }
 ],
 "metadata": {
  "kernelspec": {
   "display_name": "Python 3",
   "language": "python",
   "name": "python3"
  },
  "language_info": {
   "codemirror_mode": {
    "name": "ipython",
    "version": 3
   },
   "file_extension": ".py",
   "mimetype": "text/x-python",
   "name": "python",
   "nbconvert_exporter": "python",
   "pygments_lexer": "ipython3",
   "version": "3.9.5"
  }
 },
 "nbformat": 4,
 "nbformat_minor": 5
}
