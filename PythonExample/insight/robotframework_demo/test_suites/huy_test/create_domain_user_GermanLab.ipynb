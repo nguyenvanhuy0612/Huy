{
 "cells": [
  {
   "cell_type": "code",
   "execution_count": 1,
   "id": "3685a06e-1bec-49e7-8585-53edb64c0e17",
   "metadata": {},
   "outputs": [],
   "source": [
    "import uiautomation as auto\n",
    "import time\n",
    "import subprocess\n",
    "from robot.libraries.BuiltIn import *\n",
    "\n",
    "\"\"\"\n",
    "Huy, 13/6/2021\n",
    "\"\"\"\n",
    "\n",
    "auto.uiautomation.OPERATION_WAIT_TIME = 1\n",
    "auto.uiautomation.TIME_OUT_SECOND = 15\n",
    "auto.uiautomation.SEARCH_INTERVAL = 1\n",
    "\n",
    "# todo System variables\n",
    "dsa_window: auto.WindowControl = None\n",
    "new_user_window: auto.WindowControl = None"
   ]
  },
  {
   "cell_type": "code",
   "execution_count": 2,
   "id": "f580f25f-fb5a-4a0c-859f-fc5b4d6a6e34",
   "metadata": {},
   "outputs": [],
   "source": [
    "def safe_click(element, sleepTime: float = 1, simulateMove: bool = False, waitTime: float = 0.5, focus: bool = False):\n",
    "    if focus:\n",
    "        element.SetFocus()\n",
    "    element.MoveCursorToMyCenter()\n",
    "    time.sleep(sleepTime)\n",
    "    element.Click(simulateMove=simulateMove)\n",
    "    time.sleep(waitTime)\n",
    "\n",
    "\n",
    "def find_and_click(element, maxSearchTime: float = 3, searchInterval: float = 1, sleepTime: float = 1, waitTime: float = 0.5, simulateMove: bool = False, focus: bool = False):\n",
    "    if element.Exists(maxSearchTime, searchInterval):\n",
    "        safe_click(element, sleepTime, simulateMove, waitTime, focus)\n",
    "        return True\n",
    "    return False"
   ]
  },
  {
   "cell_type": "code",
   "execution_count": 3,
   "id": "fae96565-57e5-4145-affb-1a4ca8c8efb9",
   "metadata": {},
   "outputs": [],
   "source": [
    "def _dsa():\n",
    "    global dsa_window\n",
    "    dsa_window = auto.WindowControl(searchDepth=1, ClassName=\"MMCMainFrame\")\n",
    "    print(dsa_window.Exists(10, 1))\n",
    "    if not dsa_window.SetActive():\n",
    "        dsa_window.SetFocus()"
   ]
  },
  {
   "cell_type": "code",
   "execution_count": 4,
   "id": "bc0d58fa-c212-43fb-95bc-941c5fe14bb3",
   "metadata": {},
   "outputs": [],
   "source": [
    "def add_user(fname, lname, password):\n",
    "    global new_user_window\n",
    "    dsa_window.SetActive()\n",
    "    find_and_click(dsa_window.PaneControl(searchDepth=1,ClassName=\"SizeableRebar\").ToolBarControl(searchDepth=2,ClassName=\"ToolbarWindow32\").ButtonControl(SubName=\"Container\"), focus=True)\n",
    "    new_user_window = dsa_window.WindowControl(searchDepth=1, ClassName=\"#32770\")\n",
    "    new_user_window.Exists(5,1)\n",
    "    new_user_window.SetActive()\n",
    "    time.sleep(0.5)\n",
    "    # fname\n",
    "    new_user_window.EditControl(AutomationId=\"248\").SendKeys(\"{ctrl}a\"+fname)\n",
    "    # lname\n",
    "    new_user_window.EditControl(AutomationId=\"249\").SendKeys(\"{ctrl}a\"+lname)\n",
    "    # username\n",
    "    new_user_window.EditControl(AutomationId=\"707\").SendKeys(\"{ctrl}a\"+fname)\n",
    "    # next\n",
    "    find_and_click(new_user_window.ButtonControl(AutomationId=\"12324\"), sleepTime=0.3, focus=True)\n",
    "    # Password\n",
    "    new_user_window.EditControl(AutomationId=\"243\").Exists(5,1)\n",
    "    new_user_window.EditControl(AutomationId=\"243\").SendKeys(\"{ctrl}a\"+password, waitTime=0.3)\n",
    "    new_user_window.EditControl(AutomationId=\"244\").SendKeys(\"{ctrl}a\"+password, waitTime=0.8)\n",
    "    # check dont expire\n",
    "    new_user_window.SendKeys(\"{alt}m\", waitTime=1)\n",
    "    new_user_window.SendKeys(\"{alt}l\", waitTime=1)\n",
    "    # Next\n",
    "    find_and_click(new_user_window.ButtonControl(AutomationId=\"12324\"), sleepTime=0.3, focus=True)\n",
    "    # finish\n",
    "    find_and_click(new_user_window.ButtonControl(AutomationId=\"12325\"), sleepTime=0.3, focus=True)\n",
    "    time.sleep(1)"
   ]
  },
  {
   "cell_type": "code",
   "execution_count": 5,
   "id": "7ae384a0-bbdd-4a6b-9ca5-882cdc1f0422",
   "metadata": {},
   "outputs": [
    {
     "name": "stdout",
     "output_type": "stream",
     "text": [
      "True\n"
     ]
    }
   ],
   "source": [
    "_dsa()"
   ]
  },
  {
   "cell_type": "code",
   "execution_count": 10,
   "id": "f6fa528d-1fe3-49ca-9fe3-064e8344456a",
   "metadata": {},
   "outputs": [],
   "source": [
    "for i in range(0, 11):\n",
    "    fname = \"nvhuy{0:04d}\".format(i)\n",
    "    lname = \"aacc\"\n",
    "    password = \"1_Abc_123\"\n",
    "    add_user(fname, lname, password)"
   ]
  },
  {
   "cell_type": "code",
   "execution_count": null,
   "id": "0b1a6a9a-3ede-45fc-92e8-29fbf2cfafe6",
   "metadata": {},
   "outputs": [],
   "source": []
  }
 ],
 "metadata": {
  "kernelspec": {
   "display_name": "Python 3",
   "language": "python",
   "name": "python3"
  },
  "language_info": {
   "codemirror_mode": {
    "name": "ipython",
    "version": 3
   },
   "file_extension": ".py",
   "mimetype": "text/x-python",
   "name": "python",
   "nbconvert_exporter": "python",
   "pygments_lexer": "ipython3",
   "version": "3.9.5"
  }
 },
 "nbformat": 4,
 "nbformat_minor": 5
}
