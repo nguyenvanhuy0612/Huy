{
 "cells": [
  {
   "cell_type": "code",
   "execution_count": 22,
   "id": "ec2225db-1dcb-4061-823c-d8956e51de3d",
   "metadata": {},
   "outputs": [],
   "source": [
    "import uiautomation as auto\n",
    "import subprocess\n",
    "from robot.libraries.BuiltIn import *\n",
    "\n",
    "\"\"\"\n",
    "Huy, 13/6/2021\n",
    "\"\"\"\n",
    "\n",
    "auto.uiautomation.OPERATION_WAIT_TIME = 1\n",
    "auto.uiautomation.TIME_OUT_SECOND = 15\n",
    "auto.uiautomation.SEARCH_INTERVAL = 1\n",
    "\n",
    "# todo System variables\n",
    "ie_window: auto.WindowControl = None\n",
    "multimedia_window: auto.WindowControl = None\n",
    "\n",
    "\n",
    "def safe_click(element, sleepTime: float = 1, simulateMove: bool = False, waitTime: float = 0.5, focus: bool = False):\n",
    "    if focus:\n",
    "        element.SetFocus()\n",
    "    element.MoveCursorToMyCenter()\n",
    "    time.sleep(sleepTime)\n",
    "    element.Click(simulateMove=simulateMove)\n",
    "    time.sleep(waitTime)\n",
    "\n",
    "\n",
    "def find_and_click(element, maxSearchTime: float = 3, searchInterval: float = 1, sleepTime: float = 1,\n",
    "                   waitTime: float = 0.5, simulateMove: bool = False, focus: bool = False):\n",
    "    if element.Exists(maxSearchTime, searchInterval):\n",
    "        safe_click(element, sleepTime, simulateMove, waitTime, focus)\n",
    "        return True\n",
    "    return False\n",
    "\n",
    "\n",
    "# todo child func\n",
    "# Huy, 11/03/2021\n",
    "def _open_global_ie_window():\n",
    "    global ie_window\n",
    "    ie_window = None\n",
    "    print(\"global ie_window = \", ie_window)\n",
    "    ie_path = r\"C:\\\\Program Files\\\\Internet Explorer\\\\iexplore.exe\"\n",
    "    if \"iexplore.exe\" not in str(subprocess.run(['tasklist'], capture_output=True, text=True).stdout):\n",
    "        print(\"iexplore.exe not in tasklist, subprocess.Popen(ie_path)\")\n",
    "        subprocess.Popen(ie_path)\n",
    "        time.sleep(3)\n",
    "    ie_window = auto.WindowControl(searchDepth=1, ClassName=\"IEFrame\")\n",
    "    if not ie_window.Exists(10, 1):\n",
    "        print(\"ie not exists\")\n",
    "        BuiltIn().log_to_console(\"Cannot open IE\")\n",
    "        BuiltIn().fail(\"Fail to open IE\")\n",
    "    i = 5  # number of find\n",
    "    time.sleep(2)\n",
    "    while i > 0:\n",
    "        print(i)\n",
    "        if not ie_window.SetActive():\n",
    "            ie_window.SetFocus()\n",
    "        # find and close asks default\n",
    "        find_and_click(ie_window.WindowControl(searchDepth=1, ClassName=\"#32770\").ButtonControl(Name=\"Close\"), 0, 0,\n",
    "                       0.5, 1)\n",
    "        # find and close Notify bar\n",
    "        find_and_click(\n",
    "            ie_window.PaneControl(searchDepth=1, ClassName=\"Frame Notification Bar\").ButtonControl(Name=\"Close\"), 0, 0,\n",
    "            0.5, 1)\n",
    "        i -= 1\n",
    "        time.sleep(1)\n",
    "\n",
    "\n",
    "# todo ie func\n",
    "# Huy, 13/6/2021\n",
    "def ie_close():\n",
    "    global ie_window\n",
    "    ie_window = None\n",
    "    time.sleep(1)\n",
    "    if \"iexplore.exe\" in str(subprocess.run(['tasklist'], capture_output=True, text=True).stdout):\n",
    "        subprocess.call(\"taskkill /f /im iexplore.exe\")\n",
    "\n",
    "\n",
    "def ie_enter_url(ccma_url: str = \"https://100.30.7.78\"):\n",
    "    global ie_window\n",
    "    find_and_click(ie_window.PaneControl(ClassName=\"Address Band Root\"), waitTime=1, focus=True)\n",
    "    ie_window.SendKeys(\"{ctrl}l\", waitTime=1, interval=0.03)\n",
    "    ie_window.SendKeys(\"{ctrl}a\" + ccma_url + \"{enter}\", waitTime=1, interval=0.05)\n",
    "    # find (10s) and click to error cer\n",
    "    find_and_click(ie_window.HyperlinkControl(AutomationId=\"overridelink\"), 10, 1, 0.5, 1, focus=True)\n",
    "    # Check Login page display\n",
    "    ie_window.TextControl(Name=\"Login\").Exists(15, 1)\n",
    "\n",
    "\n",
    "def ie_login_ccma(username: str = \"nvhuy\", password: str = \"1_Abc_123\"):\n",
    "    global ie_window\n",
    "    ie_window.TextControl(Name=\"Login\").Exists(30, 1)\n",
    "    safe_click(ie_window.EditControl(AutomationId=\"Username\"), waitTime=0.5, focus=True)\n",
    "    ie_window.SendKeys(username + \"{tab}\" + password + \"{enter}\", waitTime=2, interval=0.05)\n",
    "\n",
    "\n",
    "def ie_goto_multimedia():\n",
    "    global ie_window\n",
    "    find_and_click(ie_window.ButtonControl(Name=\"Maximize\"), 0, 0)\n",
    "    if not find_and_click(ie_window.HyperlinkControl(SubName=\"Multimedia\"), 5, 1, 1):\n",
    "        ie_enter_url(\"https://100.30.7.78/DataManagement/default.asp\")\n",
    "\n",
    "\n",
    "def ie_open_multimedia():\n",
    "    global ie_window\n",
    "    time.sleep(3)\n",
    "    find_and_click(ie_window.PaneControl(ClassName=\"SSTreeWndClass\"), 5, 1, 1, 2, focus=True)\n",
    "    pane_control = ie_window.PaneControl(ClassName=\"SSTreeWndClass\")\n",
    "    print(pane_control.SetFocus(), pane_control)\n",
    "    pane_control.SendKeys(\"{down 2}\", waitTime=1, interval=0.05)\n",
    "    pane_control.SendKeys(\"{space}\", waitTime=1, interval=0.05)\n",
    "    find_and_click(ie_window.ButtonControl(AutomationId=\"btnLaunch\"), 5, 1, 0.5, 1, focus=True)\n",
    "    number_of_scan = 3\n",
    "    while number_of_scan >= 0:\n",
    "        print(number_of_scan)\n",
    "        # find and click Open button in notify bar\n",
    "        a1=find_and_click(ie_window.PaneControl(searchDepth=1, ClassName=\"Frame Notification Bar\").ButtonControl(Name=\"Open\"),\n",
    "                       5, 1, 0.5, 1, focus=True)\n",
    "        # find and click run button\n",
    "        a2=find_and_click(auto.WindowControl(searchDepth=1, AutomationId=\"TrustManagerPromptUI\").ButtonControl(AutomationId=\"btnInstall\"), 0,0,0.5,0.5,True)\n",
    "        # find and click OK button if an instance Data management is already running\n",
    "        find_and_click(auto.WindowControl(searchDepth=1, Name=\"CCMM Data Management\").ButtonControl(Name=\"OK\"), 5, 1, 0.5,\n",
    "                       1, focus=True)\n",
    "        # find and click YES button if user already logged in to Data management\n",
    "        a3=find_and_click(auto.WindowControl(searchDepth=1, Name=\"Data Management\").ButtonControl(Name=\"Yes\"), 5, 1, 0.5,\n",
    "                       1, focus=True)\n",
    "        if number_of_scan -= 1\n",
    "\n"
   ]
  },
  {
   "cell_type": "code",
   "execution_count": 24,
   "id": "7109f7a1-4534-4fe7-9a89-c0aa15d8ccb7",
   "metadata": {},
   "outputs": [
    {
     "name": "stdout",
     "output_type": "stream",
     "text": [
      "global ie_window =  None\n",
      "5\n",
      "4\n",
      "3\n",
      "2\n",
      "1\n"
     ]
    }
   ],
   "source": [
    "_open_global_ie_window()"
   ]
  },
  {
   "cell_type": "code",
   "execution_count": 20,
   "id": "5fd03088-05c7-4dbf-81f3-551a3e579948",
   "metadata": {},
   "outputs": [
    {
     "data": {
      "text/plain": [
       "True"
      ]
     },
     "execution_count": 20,
     "metadata": {},
     "output_type": "execute_result"
    }
   ],
   "source": [
    "ie_window.SetActive()\n",
    "find_and_click(ie_window.HyperlinkControl(SubName=\"Multimedia\"), 5, 1, 1)"
   ]
  },
  {
   "cell_type": "code",
   "execution_count": 25,
   "id": "cea1122f-e17a-447b-b1a0-28e533fa9568",
   "metadata": {},
   "outputs": [
    {
     "name": "stdout",
     "output_type": "stream",
     "text": [
      "True ControlType: PaneControl    ClassName: SSTreeWndClass    AutomationId:     Rect: (849,176,996,604)[147x428]    Name:     Handle: 0x3006FA(3147514)\n",
      "3\n",
      "2\n",
      "1\n",
      "0\n"
     ]
    }
   ],
   "source": [
    "ie_open_multimedia()"
   ]
  },
  {
   "cell_type": "code",
   "execution_count": 36,
   "id": "de78c72b-5a47-4183-874b-fbed88b5bd79",
   "metadata": {},
   "outputs": [
    {
     "name": "stdout",
     "output_type": "stream",
     "text": [
      "True ControlType: PaneControl    ClassName: SSTreeWndClass    AutomationId:     Rect: (849,176,996,604)[147x428]    Name:     Handle: 0x3006FA(3147514)\n",
      "3\n",
      "True False True False False\n",
      "3\n",
      "2\n",
      "1\n"
     ]
    }
   ],
   "source": [
    "time.sleep(3)\n",
    "find_and_click(ie_window.PaneControl(ClassName=\"SSTreeWndClass\"), 5, 1, 1, 2, focus=True)\n",
    "pane_control = ie_window.PaneControl(ClassName=\"SSTreeWndClass\")\n",
    "print(pane_control.SetFocus(), pane_control)\n",
    "pane_control.SendKeys(\"{down 2}\", waitTime=1, interval=0.05)\n",
    "pane_control.SendKeys(\"{space}\", waitTime=1, interval=0.05)\n",
    "find_and_click(ie_window.ButtonControl(AutomationId=\"btnLaunch\"), 5, 1, 0.5, 1, focus=True)\n",
    "number_of_scan = 3\n",
    "while number_of_scan > 0:\n",
    "    print(number_of_scan)\n",
    "    # find and click Open button in notify bar\n",
    "    a1=find_and_click(ie_window.PaneControl(searchDepth=1, ClassName=\"Frame Notification Bar\").ButtonControl(Name=\"Open\"),\n",
    "                   3, 0.5, 0.5, 1, focus=True)\n",
    "    # find and click run button\n",
    "    a2=find_and_click(auto.WindowControl(searchDepth=1, AutomationId=\"TrustManagerPromptUI\").ButtonControl(AutomationId=\"btnInstall\"), 3,0.5,0.5,0.5,True)\n",
    "    if a2:\n",
    "        auto.WindowControl(searchDepth=1, AutomationId=\"TrustManagerPromptUI\").Disappears(30, 1)\n",
    "    a3=find_and_click(auto.WindowControl(searchDepth=1, Name=\"Logged In\").ButtonControl(Name=\"OK\"), 3,0.5,0.5,0.5,True)\n",
    "    # find and click OK button if an instance Data management is already running\n",
    "    a4=find_and_click(auto.WindowControl(searchDepth=1, Name=\"CCMM Data Management\").ButtonControl(Name=\"OK\"), 3, 0.5, 0.5,\n",
    "                   1, focus=True)\n",
    "    # find and click YES button if user already logged in to Data management\n",
    "    a5=find_and_click(auto.WindowControl(searchDepth=1, Name=\"Data Management\").ButtonControl(Name=\"Yes\"), 3, 0.5, 0.5,\n",
    "                   1, focus=True)\n",
    "    if a1 or a2 or a3 or a4 or a5:\n",
    "        print(a1,a2,a3,a4,a5)\n",
    "        continue\n",
    "    else:\n",
    "        number_of_scan = min(3,number_of_scan)\n",
    "    number_of_scan -= 1"
   ]
  },
  {
   "cell_type": "code",
   "execution_count": 33,
   "id": "64f2889e-e348-466e-b565-084f46380cb5",
   "metadata": {},
   "outputs": [
    {
     "data": {
      "text/plain": [
       "True"
      ]
     },
     "execution_count": 33,
     "metadata": {},
     "output_type": "execute_result"
    }
   ],
   "source": [
    "auto.WindowControl(searchDepth=1, AutomationId=\"TrustManagerPromptUI\").Disappears(10, 1)"
   ]
  },
  {
   "cell_type": "code",
   "execution_count": null,
   "id": "4c4d8dc0-a77c-44fb-a284-8604da083a54",
   "metadata": {},
   "outputs": [],
   "source": []
  }
 ],
 "metadata": {
  "kernelspec": {
   "display_name": "Python 3",
   "language": "python",
   "name": "python3"
  },
  "language_info": {
   "codemirror_mode": {
    "name": "ipython",
    "version": 3
   },
   "file_extension": ".py",
   "mimetype": "text/x-python",
   "name": "python",
   "nbconvert_exporter": "python",
   "pygments_lexer": "ipython3",
   "version": "3.9.5"
  }
 },
 "nbformat": 4,
 "nbformat_minor": 5
}
