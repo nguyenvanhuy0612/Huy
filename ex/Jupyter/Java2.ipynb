{
 "cells": [
  {
   "cell_type": "code",
   "execution_count": 1,
   "id": "6a44df30-2eab-4758-955f-a2c32326076f",
   "metadata": {},
   "outputs": [],
   "source": [
    "%%loadFromPOM\n",
    "<dependencies>\n",
    "    <!-- https://mvnrepository.com/artifact/org.testng/testng -->\n",
    "    <dependency>\n",
    "        <groupId>org.testng</groupId>\n",
    "        <artifactId>testng</artifactId>\n",
    "        <version>7.4.0</version>\n",
    "    </dependency>\n",
    "    <dependency>\n",
    "        <groupId>junit</groupId>\n",
    "        <artifactId>junit</artifactId>\n",
    "        <version>4.13.2</version>\n",
    "    </dependency>\n",
    "    <dependency>\n",
    "        <groupId>org.junit.jupiter</groupId>\n",
    "        <artifactId>junit-jupiter-engine</artifactId>\n",
    "        <version>5.8.1</version>\n",
    "    </dependency>\n",
    "    <dependency>\n",
    "        <groupId>org.seleniumhq.selenium</groupId>\n",
    "        <artifactId>selenium-java</artifactId>\n",
    "        <version>4.0.0</version>\n",
    "    </dependency>\n",
    "    <dependency>\n",
    "        <groupId>io.github.bonigarcia</groupId>\n",
    "        <artifactId>webdrivermanager</artifactId>\n",
    "        <version>5.0.2</version>\n",
    "    </dependency>\n",
    "    <dependency>\n",
    "        <groupId>log4j</groupId>\n",
    "        <artifactId>log4j</artifactId>\n",
    "        <version>1.2.17</version>\n",
    "    </dependency>\n",
    "    <dependency>\n",
    "        <groupId>org.json</groupId>\n",
    "        <artifactId>json</artifactId>\n",
    "        <version>20210307</version>\n",
    "    </dependency>\n",
    "    <dependency>\n",
    "        <groupId>com.google.code.gson</groupId>\n",
    "        <artifactId>gson</artifactId>\n",
    "        <version>2.8.9</version>\n",
    "    </dependency>\n",
    "\n",
    "</dependencies>"
   ]
  },
  {
   "cell_type": "code",
   "execution_count": 2,
   "id": "90c6d4f5-c7bc-4ad0-bb39-b697b6c54b9d",
   "metadata": {},
   "outputs": [
    {
     "name": "stdout",
     "output_type": "stream",
     "text": [
      "Hello\n"
     ]
    }
   ],
   "source": [
    "System.out.println(\"Hello\");"
   ]
  },
  {
   "cell_type": "code",
   "execution_count": 3,
   "id": "ff94f83a-d4f5-48f2-be38-f2ea23e8c3a7",
   "metadata": {},
   "outputs": [],
   "source": [
    "import org.openqa.selenium.By;\n",
    "import org.openqa.selenium.WebDriver;\n",
    "import org.openqa.selenium.WebElement;\n",
    "import org.openqa.selenium.interactions.Actions;\n",
    "import org.openqa.selenium.interactions.ClickAction;\n",
    "import org.openqa.selenium.support.FindBy;\n",
    "import org.openqa.selenium.support.PageFactory;\n",
    "import org.openqa.selenium.support.ui.ExpectedConditions;\n",
    "import org.openqa.selenium.support.ui.Select;\n",
    "import org.openqa.selenium.support.ui.Wait;\n",
    "import org.openqa.selenium.support.ui.WebDriverWait;\n",
    "import org.testng.Assert;\n",
    "import org.testng.annotations.Test;\n",
    "import org.openqa.selenium.*;\n",
    "\n",
    "import io.github.bonigarcia.wdm.WebDriverManager;\n",
    "import org.openqa.selenium.chrome.ChromeDriver;\n",
    "\n",
    "import java.io.IOException;\n",
    "import java.text.ParseException;\n",
    "import java.util.ArrayList;\n",
    "import java.util.Hashtable;\n",
    "import java.util.List;\n",
    "import java.time.Duration;\n",
    "import java.util.concurrent.TimeUnit;\n",
    "import java.util.Calendar;\n",
    "import java.text.SimpleDateFormat;\n"
   ]
  },
  {
   "cell_type": "code",
   "execution_count": 4,
   "id": "0990d2f8-1997-4db7-b06e-b3c0552bf7c9",
   "metadata": {},
   "outputs": [
    {
     "data": {
      "text/plain": [
       "03/08/2022 20:59"
      ]
     },
     "execution_count": 4,
     "metadata": {},
     "output_type": "execute_result"
    }
   ],
   "source": [
    "final SimpleDateFormat format = new SimpleDateFormat(\"MM/dd/yyyy HH:mm\");\n",
    "Calendar cal = Calendar.getInstance();\n",
    "format.format(cal.getTime())"
   ]
  },
  {
   "cell_type": "code",
   "execution_count": null,
   "id": "b4f52048-2163-4dcd-b5e5-2b2266bc61d4",
   "metadata": {},
   "outputs": [],
   "source": []
  },
  {
   "cell_type": "code",
   "execution_count": null,
   "id": "4eddac0e-0c81-4bf9-a275-d338e55f3825",
   "metadata": {},
   "outputs": [],
   "source": []
  },
  {
   "cell_type": "code",
   "execution_count": null,
   "id": "78fb1a86-3a53-4316-be5b-f5f9198f2aac",
   "metadata": {},
   "outputs": [],
   "source": []
  },
  {
   "cell_type": "code",
   "execution_count": 5,
   "id": "240e7ecb-3b71-43f8-ac4a-cb59b15d0d44",
   "metadata": {},
   "outputs": [],
   "source": [
    "WebDriverManager.chromedriver().setup();\n",
    "WebDriver driver = new ChromeDriver();\n",
    "driver.manage().timeouts().implicitlyWait(30, TimeUnit.SECONDS);\n",
    "WebDriverWait wait = new WebDriverWait(driver, 60);\n",
    "JavascriptExecutor js = (JavascriptExecutor) driver"
   ]
  },
  {
   "cell_type": "code",
   "execution_count": null,
   "id": "6136998d-4b40-4f29-b09d-59a21541328a",
   "metadata": {},
   "outputs": [],
   "source": []
  },
  {
   "cell_type": "code",
   "execution_count": 6,
   "id": "9c06b69a-eecd-4428-9889-d5137b3117bc",
   "metadata": {},
   "outputs": [],
   "source": [
    "driver.get(\"https://dev-8.ixcc-sandbox.avayacloud.com/services/ApplicationCenter/AdminPortal#/numbers\");"
   ]
  },
  {
   "cell_type": "code",
   "execution_count": 13,
   "id": "7a7447d4-c452-4e89-ae9c-81d3993ea74c",
   "metadata": {},
   "outputs": [],
   "source": [
    "public WebElement isElementPresent(By by, int sec){\n",
    "    driver.manage().timeouts().implicitlyWait(sec, TimeUnit.SECONDS);\n",
    "    try{\n",
    "        return driver.findElement(by);\n",
    "    }catch(Exception e){\n",
    "        return null;\n",
    "    }finally{\n",
    "        driver.manage().timeouts().implicitlyWait(30, TimeUnit.SECONDS);\n",
    "    }\n",
    "}"
   ]
  },
  {
   "cell_type": "code",
   "execution_count": 21,
   "id": "3c2790bc-10be-4589-b21f-80a26e765b24",
   "metadata": {},
   "outputs": [
    {
     "data": {
      "text/plain": [
       "[[ChromeDriver: chrome on WINDOWS (941db0a750c0e414f71d17da8473c0c6)] -> id: username]"
      ]
     },
     "execution_count": 21,
     "metadata": {},
     "output_type": "execute_result"
    }
   ],
   "source": [
    "isElementPresent(By.id(\"username\"), 1)"
   ]
  },
  {
   "cell_type": "code",
   "execution_count": 19,
   "id": "f9a3e3db-1213-4ea4-86d5-74c3540f044e",
   "metadata": {},
   "outputs": [
    {
     "data": {
      "text/plain": [
       "[[ChromeDriver: chrome on WINDOWS (941db0a750c0e414f71d17da8473c0c6)] -> id: username]"
      ]
     },
     "execution_count": 19,
     "metadata": {},
     "output_type": "execute_result"
    }
   ],
   "source": [
    "driver.findElement(By.id(\"username\"))"
   ]
  },
  {
   "cell_type": "code",
   "execution_count": null,
   "id": "1daf4aa4-ad92-4b6c-9f17-b9fcb1589ef0",
   "metadata": {},
   "outputs": [],
   "source": []
  },
  {
   "cell_type": "code",
   "execution_count": null,
   "id": "81acefbb-afc0-4087-8fc3-5db8914810ee",
   "metadata": {},
   "outputs": [],
   "source": []
  }
 ],
 "metadata": {
  "kernelspec": {
   "display_name": "Java",
   "language": "java",
   "name": "java"
  },
  "language_info": {
   "codemirror_mode": "java",
   "file_extension": ".jshell",
   "mimetype": "text/x-java-source",
   "name": "Java",
   "pygments_lexer": "java",
   "version": "11.0.13+10-LTS-370"
  }
 },
 "nbformat": 4,
 "nbformat_minor": 5
}
