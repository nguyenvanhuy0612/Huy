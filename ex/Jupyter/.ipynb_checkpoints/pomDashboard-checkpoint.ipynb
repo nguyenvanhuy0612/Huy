{
 "cells": [
  {
   "cell_type": "code",
   "execution_count": null,
   "id": "af9127aa-f312-427a-a16f-0b4e7b423e94",
   "metadata": {},
   "outputs": [],
   "source": [
    "from selenium import webdriver\n",
    "from selenium.webdriver.common.keys import Keys\n",
    "from selenium.webdriver.common.action_chains import ActionChains\n",
    "from selenium.webdriver.support.ui import Select\n",
    "from selenium.webdriver.common.by import By\n",
    "from selenium.webdriver.chrome.options import Options\n",
    "from selenium.webdriver.support.ui import WebDriverWait\n",
    "from selenium.webdriver.support import expected_conditions as EC\n",
    "import time\n",
    "\n",
    "options = Options()\n",
    "#options.add_argument(\"--disable-extensions\")\n",
    "options.add_argument(\"--allow-running-insecure-content\")\n",
    "options.add_argument(\"use-fake-device-for-media-stream\")\n",
    "options.add_argument(\"use-fake-ui-for-media-stream\")\n",
    "options.add_argument(\"disable-features=WebRtcHideLocalIpsWithMdns\")\n",
    "options.add_argument(\"disable-infobars\")\n",
    "options.add_argument(\"disable-notifications\")\n",
    "options.add_argument(\"disable-popup-blocking\")\n",
    "options.add_argument(\"excludeSwitches\")\n",
    "options.add_argument(\"--start-maximized\")\n"
   ]
  },
  {
   "cell_type": "code",
   "execution_count": null,
   "id": "b6c61cf2-0fd4-4bd0-b419-9037dfbc62a4",
   "metadata": {},
   "outputs": [],
   "source": [
    "driver = webdriver.Chrome(options=options)\n",
    "driver.implicitly_wait(30)\n",
    "driver.set_page_load_timeout(30)\n",
    "action = ActionChains(driver)\n",
    "wait = WebDriverWait(driver, 60)"
   ]
  },
  {
   "cell_type": "code",
   "execution_count": null,
   "id": "b5200c9c-5d0a-460a-89e7-9162a2a32bb9",
   "metadata": {},
   "outputs": [],
   "source": [
    "driver.get(\"https://rqyyrj-outbound.sbx-2.ixcc-sandbox.avayacloud.com/VoicePortal/faces/main.jsf\")"
   ]
  },
  {
   "cell_type": "code",
   "execution_count": null,
   "id": "6c67a002-4451-4a13-be73-06f988d30ddd",
   "metadata": {},
   "outputs": [],
   "source": [
    "driver.switch_to.frame(\"main\")"
   ]
  },
  {
   "cell_type": "code",
   "execution_count": null,
   "id": "6e748a46-9ac8-4419-b9bd-4ebf2f3a2abc",
   "metadata": {},
   "outputs": [],
   "source": [
    "driver.find_element(By.XPATH, \"//input[@ng-model='row.isSelected']\").click()"
   ]
  },
  {
   "cell_type": "code",
   "execution_count": null,
   "id": "95b2e037-0bb3-404b-b012-1e4bfa499d9c",
   "metadata": {},
   "outputs": [],
   "source": [
    "driver.find_element(By.ID, \"terminateCallbackButton\").click()"
   ]
  },
  {
   "cell_type": "code",
   "execution_count": null,
   "id": "55409f2e-903f-451a-a35c-4fbe720eab39",
   "metadata": {},
   "outputs": [],
   "source": [
    "driver.find_element(By.XPATH, \"//span[text()='Yes']\").click()"
   ]
  },
  {
   "cell_type": "code",
   "execution_count": null,
   "id": "72ab2125-1dc7-4918-8e40-ba7bf26b1fab",
   "metadata": {},
   "outputs": [],
   "source": [
    "driver.find_element(By.XPATH, \"//span[text()='OK']\").click()"
   ]
  },
  {
   "cell_type": "code",
   "execution_count": null,
   "id": "e964cff4-feeb-41df-8a32-a8558b5c2f65",
   "metadata": {},
   "outputs": [],
   "source": []
  },
  {
   "cell_type": "code",
   "execution_count": null,
   "id": "f976cd8f-bcc3-430c-8224-ae806796c967",
   "metadata": {},
   "outputs": [],
   "source": [
    "while driver.find_elements(By.XPATH, \"//input[@ng-model='row.isSelected']\").__len__() != 0:\n",
    "    driver.find_element(By.XPATH, \"//input[@ng-model='row.isSelected']\").click()\n",
    "    time.sleep(1)\n",
    "    driver.find_element(By.ID, \"terminateCallbackButton\").click()\n",
    "    driver.find_element(By.ID, \"terminateYes\").click()\n",
    "    wait.until(EC.element_to_be_clickable((By.XPATH, \"//div[@id='showTerminatedCallbackList']/following-sibling::div//button\"))).click()\n",
    "    time.sleep(3)\n",
    "    driver.find_element(By.XPATH, \"//input[@ng-model='row.isSelected']\").click()\n",
    "    time.sleep(1)\n",
    "    driver.find_element(By.ID, \"deleteCallbackButton\").click()\n",
    "    driver.find_element(By.ID, \"deleteYes\").click()\n",
    "    wait.until(EC.element_to_be_clickable((By.XPATH, \"//div[@id='showDeletedCallbackList']/following-sibling::div//button\"))).click()\n",
    "    time.sleep(3)"
   ]
  },
  {
   "cell_type": "code",
   "execution_count": null,
   "id": "1f78f31b-cc5a-405e-853f-97940a5e4559",
   "metadata": {},
   "outputs": [],
   "source": [
    "driver.switch_to.frame(\"menu\")"
   ]
  },
  {
   "cell_type": "code",
   "execution_count": null,
   "id": "2497471b-2d3a-4565-8501-64d4efc0456a",
   "metadata": {},
   "outputs": [],
   "source": [
    "wait.until(EC.element_to_be_clickable((By.XPATH, \"//span[@id='menuForm:menuTable:8:menuItemTable:2:menuItem_panelGroup']//a\"))).click()"
   ]
  },
  {
   "cell_type": "code",
   "execution_count": null,
   "id": "94242fb9-6203-4bb4-8f54-c31e07a2c42b",
   "metadata": {},
   "outputs": [],
   "source": [
    "driver.switch_to.default_content()\n",
    "frame_main = driver.find_element(By.XPATH, \"//frame[@name='main']\")\n",
    "driver.switch_to.frame(frame_main)"
   ]
  },
  {
   "cell_type": "code",
   "execution_count": null,
   "id": "41220288-9bc0-44aa-9a93-5ba74f7d5ecb",
   "metadata": {},
   "outputs": [],
   "source": [
    "wait.until(EC.element_to_be_clickable((By.XPATH, \"//span[@data-testid='selectedOptions']\"))).click()"
   ]
  },
  {
   "cell_type": "code",
   "execution_count": null,
   "id": "b00f1b20-1f29-4169-9d3b-c1803fe3795f",
   "metadata": {},
   "outputs": [],
   "source": [
    "checkLoc = \"//li[@data-testid='optionsType' and @title='Ccass_Preview_Camp003']//span[@data-testid='dropdownCheckbox']\"\n",
    "wait.until(EC.element_to_be_clickable((By.XPATH, checkLoc))).click()"
   ]
  },
  {
   "cell_type": "code",
   "execution_count": null,
   "id": "cbffa49d-e116-454b-896c-89bcc9965096",
   "metadata": {},
   "outputs": [],
   "source": [
    "driver.find_elements(By.XPATH, \"//li[@data-testid='optionsType' and @title='Ccass_Preview_Camp003']//span[@data-testid='dropdownCheckbox']\").__len__()"
   ]
  },
  {
   "cell_type": "code",
   "execution_count": null,
   "id": "298991ab-4150-438b-ab41-cce14433e766",
   "metadata": {},
   "outputs": [],
   "source": [
    "driver.find_element(By.XPATH, \"//li[@data-testid='optionsType' and @title='Ccass_Preview_Camp003']//span[@data-testid='dropdownCheckbox']\").click()"
   ]
  },
  {
   "cell_type": "code",
   "execution_count": null,
   "id": "b9c39aec-6b2a-4ea4-996c-1ca49522455f",
   "metadata": {},
   "outputs": [],
   "source": [
    "//div[@data-testid='optionsList']"
   ]
  },
  {
   "cell_type": "code",
   "execution_count": 54,
   "id": "6a07944e-4e06-4b75-ab81-d1e608785c72",
   "metadata": {},
   "outputs": [],
   "source": [
    "driver.switch_to.default_content()\n",
    "frame_main = driver.find_element(By.XPATH, \"//frame[@name='main']\")\n",
    "driver.switch_to.frame(frame_main)\n",
    "if driver.find_elements(By.XPATH, \"//div[@data-testid='optionsList']\").__len__() == 0:\n",
    "    wait.until(EC.element_to_be_clickable((By.XPATH, \"//span[@data-testid='selectedOptions']\"))).click()\n",
    "checkLoc = \"//li[@data-testid='optionsType' and @title='Ccass_Preview_Camp003']//span[@data-testid='dropdownCheckbox']\"\n",
    "if \"Mui-checked\" not in driver.find_element(By.XPATH, checkLoc).get_attribute(\"class\"):\n",
    "    driver.find_element(By.XPATH, checkLoc).click()\n",
    "if driver.find_elements(By.XPATH, \"//div[@data-testid='optionsList']\").__len__() != 0:\n",
    "    wait.until(EC.element_to_be_clickable((By.XPATH, \"//span[@data-testid='selectedOptions']\"))).click()"
   ]
  },
  {
   "cell_type": "code",
   "execution_count": 49,
   "id": "811e1c96-0714-4802-bbdc-079e24cda315",
   "metadata": {},
   "outputs": [
    {
     "data": {
      "text/plain": [
       "True"
      ]
     },
     "execution_count": 49,
     "metadata": {},
     "output_type": "execute_result"
    }
   ],
   "source": [
    "\"Mui-checked\" in driver.find_element(By.XPATH, checkLoc).get_attribute(\"class\")"
   ]
  },
  {
   "cell_type": "code",
   "execution_count": 59,
   "id": "a15fc255-3d65-4f3e-9877-6e37e1a8135a",
   "metadata": {},
   "outputs": [
    {
     "ename": "NoSuchElementException",
     "evalue": "Message: no such element: Unable to locate element: {\"method\":\"css selector\",\"selector\":\"[id=\"submitButton\"]\"}\n  (Session info: chrome=97.0.4692.71)\nStacktrace:\nBacktrace:\n\tOrdinal0 [0x013BFDC3+2555331]\n\tOrdinal0 [0x013577F1+2127857]\n\tOrdinal0 [0x01252E08+1060360]\n\tOrdinal0 [0x0127E49E+1238174]\n\tOrdinal0 [0x0127E69B+1238683]\n\tOrdinal0 [0x012A9252+1413714]\n\tOrdinal0 [0x01297B54+1342292]\n\tOrdinal0 [0x012A75FA+1406458]\n\tOrdinal0 [0x01297976+1341814]\n\tOrdinal0 [0x012736B6+1193654]\n\tOrdinal0 [0x01274546+1197382]\n\tGetHandleVerifier [0x01559622+1619522]\n\tGetHandleVerifier [0x0160882C+2336844]\n\tGetHandleVerifier [0x014523E1+541697]\n\tGetHandleVerifier [0x01451443+537699]\n\tOrdinal0 [0x0135D18E+2150798]\n\tOrdinal0 [0x01361518+2168088]\n\tOrdinal0 [0x01361660+2168416]\n\tOrdinal0 [0x0136B330+2208560]\n\tBaseThreadInitThunk [0x76A30419+25]\n\tRtlGetAppContainerNamedObjectPath [0x771472FD+237]\n\tRtlGetAppContainerNamedObjectPath [0x771472CD+189]\n",
     "output_type": "error",
     "traceback": [
      "\u001b[1;31m---------------------------------------------------------------------------\u001b[0m",
      "\u001b[1;31mNoSuchElementException\u001b[0m                    Traceback (most recent call last)",
      "Input \u001b[1;32mIn [59]\u001b[0m, in \u001b[0;36m<module>\u001b[1;34m\u001b[0m\n\u001b[0;32m      7\u001b[0m driver\u001b[38;5;241m.\u001b[39mfind_element(By\u001b[38;5;241m.\u001b[39mXPATH, \u001b[38;5;124m\"\u001b[39m\u001b[38;5;124m//div[text()=\u001b[39m\u001b[38;5;124m'\u001b[39m\u001b[38;5;124mStop\u001b[39m\u001b[38;5;124m'\u001b[39m\u001b[38;5;124m]\u001b[39m\u001b[38;5;124m\"\u001b[39m)\u001b[38;5;241m.\u001b[39mclick()\n\u001b[0;32m      8\u001b[0m time\u001b[38;5;241m.\u001b[39msleep(\u001b[38;5;241m1\u001b[39m)\n\u001b[1;32m----> 9\u001b[0m \u001b[43mdriver\u001b[49m\u001b[38;5;241;43m.\u001b[39;49m\u001b[43mfind_element\u001b[49m\u001b[43m(\u001b[49m\u001b[43mBy\u001b[49m\u001b[38;5;241;43m.\u001b[39;49m\u001b[43mID\u001b[49m\u001b[43m,\u001b[49m\u001b[43m \u001b[49m\u001b[38;5;124;43m\"\u001b[39;49m\u001b[38;5;124;43msubmitButton\u001b[39;49m\u001b[38;5;124;43m\"\u001b[39;49m\u001b[43m)\u001b[49m\u001b[38;5;241m.\u001b[39mclick()\n\u001b[0;32m     10\u001b[0m time\u001b[38;5;241m.\u001b[39msleep(\u001b[38;5;241m5\u001b[39m)\n",
      "File \u001b[1;32m~\\AppData\\Local\\Programs\\Python\\Python310\\lib\\site-packages\\selenium\\webdriver\\remote\\webdriver.py:1244\u001b[0m, in \u001b[0;36mWebDriver.find_element\u001b[1;34m(self, by, value)\u001b[0m\n\u001b[0;32m   1241\u001b[0m     by \u001b[38;5;241m=\u001b[39m By\u001b[38;5;241m.\u001b[39mCSS_SELECTOR\n\u001b[0;32m   1242\u001b[0m     value \u001b[38;5;241m=\u001b[39m \u001b[38;5;124m'\u001b[39m\u001b[38;5;124m[name=\u001b[39m\u001b[38;5;124m\"\u001b[39m\u001b[38;5;132;01m%s\u001b[39;00m\u001b[38;5;124m\"\u001b[39m\u001b[38;5;124m]\u001b[39m\u001b[38;5;124m'\u001b[39m \u001b[38;5;241m%\u001b[39m value\n\u001b[1;32m-> 1244\u001b[0m \u001b[38;5;28;01mreturn\u001b[39;00m \u001b[38;5;28;43mself\u001b[39;49m\u001b[38;5;241;43m.\u001b[39;49m\u001b[43mexecute\u001b[49m\u001b[43m(\u001b[49m\u001b[43mCommand\u001b[49m\u001b[38;5;241;43m.\u001b[39;49m\u001b[43mFIND_ELEMENT\u001b[49m\u001b[43m,\u001b[49m\u001b[43m \u001b[49m\u001b[43m{\u001b[49m\n\u001b[0;32m   1245\u001b[0m \u001b[43m    \u001b[49m\u001b[38;5;124;43m'\u001b[39;49m\u001b[38;5;124;43musing\u001b[39;49m\u001b[38;5;124;43m'\u001b[39;49m\u001b[43m:\u001b[49m\u001b[43m \u001b[49m\u001b[43mby\u001b[49m\u001b[43m,\u001b[49m\n\u001b[0;32m   1246\u001b[0m \u001b[43m    \u001b[49m\u001b[38;5;124;43m'\u001b[39;49m\u001b[38;5;124;43mvalue\u001b[39;49m\u001b[38;5;124;43m'\u001b[39;49m\u001b[43m:\u001b[49m\u001b[43m \u001b[49m\u001b[43mvalue\u001b[49m\u001b[43m}\u001b[49m\u001b[43m)\u001b[49m[\u001b[38;5;124m'\u001b[39m\u001b[38;5;124mvalue\u001b[39m\u001b[38;5;124m'\u001b[39m]\n",
      "File \u001b[1;32m~\\AppData\\Local\\Programs\\Python\\Python310\\lib\\site-packages\\selenium\\webdriver\\remote\\webdriver.py:424\u001b[0m, in \u001b[0;36mWebDriver.execute\u001b[1;34m(self, driver_command, params)\u001b[0m\n\u001b[0;32m    422\u001b[0m response \u001b[38;5;241m=\u001b[39m \u001b[38;5;28mself\u001b[39m\u001b[38;5;241m.\u001b[39mcommand_executor\u001b[38;5;241m.\u001b[39mexecute(driver_command, params)\n\u001b[0;32m    423\u001b[0m \u001b[38;5;28;01mif\u001b[39;00m response:\n\u001b[1;32m--> 424\u001b[0m     \u001b[38;5;28;43mself\u001b[39;49m\u001b[38;5;241;43m.\u001b[39;49m\u001b[43merror_handler\u001b[49m\u001b[38;5;241;43m.\u001b[39;49m\u001b[43mcheck_response\u001b[49m\u001b[43m(\u001b[49m\u001b[43mresponse\u001b[49m\u001b[43m)\u001b[49m\n\u001b[0;32m    425\u001b[0m     response[\u001b[38;5;124m'\u001b[39m\u001b[38;5;124mvalue\u001b[39m\u001b[38;5;124m'\u001b[39m] \u001b[38;5;241m=\u001b[39m \u001b[38;5;28mself\u001b[39m\u001b[38;5;241m.\u001b[39m_unwrap_value(\n\u001b[0;32m    426\u001b[0m         response\u001b[38;5;241m.\u001b[39mget(\u001b[38;5;124m'\u001b[39m\u001b[38;5;124mvalue\u001b[39m\u001b[38;5;124m'\u001b[39m, \u001b[38;5;28;01mNone\u001b[39;00m))\n\u001b[0;32m    427\u001b[0m     \u001b[38;5;28;01mreturn\u001b[39;00m response\n",
      "File \u001b[1;32m~\\AppData\\Local\\Programs\\Python\\Python310\\lib\\site-packages\\selenium\\webdriver\\remote\\errorhandler.py:247\u001b[0m, in \u001b[0;36mErrorHandler.check_response\u001b[1;34m(self, response)\u001b[0m\n\u001b[0;32m    245\u001b[0m         alert_text \u001b[38;5;241m=\u001b[39m value[\u001b[38;5;124m'\u001b[39m\u001b[38;5;124malert\u001b[39m\u001b[38;5;124m'\u001b[39m]\u001b[38;5;241m.\u001b[39mget(\u001b[38;5;124m'\u001b[39m\u001b[38;5;124mtext\u001b[39m\u001b[38;5;124m'\u001b[39m)\n\u001b[0;32m    246\u001b[0m     \u001b[38;5;28;01mraise\u001b[39;00m exception_class(message, screen, stacktrace, alert_text)  \u001b[38;5;66;03m# type: ignore[call-arg]  # mypy is not smart enough here\u001b[39;00m\n\u001b[1;32m--> 247\u001b[0m \u001b[38;5;28;01mraise\u001b[39;00m exception_class(message, screen, stacktrace)\n",
      "\u001b[1;31mNoSuchElementException\u001b[0m: Message: no such element: Unable to locate element: {\"method\":\"css selector\",\"selector\":\"[id=\"submitButton\"]\"}\n  (Session info: chrome=97.0.4692.71)\nStacktrace:\nBacktrace:\n\tOrdinal0 [0x013BFDC3+2555331]\n\tOrdinal0 [0x013577F1+2127857]\n\tOrdinal0 [0x01252E08+1060360]\n\tOrdinal0 [0x0127E49E+1238174]\n\tOrdinal0 [0x0127E69B+1238683]\n\tOrdinal0 [0x012A9252+1413714]\n\tOrdinal0 [0x01297B54+1342292]\n\tOrdinal0 [0x012A75FA+1406458]\n\tOrdinal0 [0x01297976+1341814]\n\tOrdinal0 [0x012736B6+1193654]\n\tOrdinal0 [0x01274546+1197382]\n\tGetHandleVerifier [0x01559622+1619522]\n\tGetHandleVerifier [0x0160882C+2336844]\n\tGetHandleVerifier [0x014523E1+541697]\n\tGetHandleVerifier [0x01451443+537699]\n\tOrdinal0 [0x0135D18E+2150798]\n\tOrdinal0 [0x01361518+2168088]\n\tOrdinal0 [0x01361660+2168416]\n\tOrdinal0 [0x0136B330+2208560]\n\tBaseThreadInitThunk [0x76A30419+25]\n\tRtlGetAppContainerNamedObjectPath [0x771472FD+237]\n\tRtlGetAppContainerNamedObjectPath [0x771472CD+189]\n"
     ]
    }
   ],
   "source": [
    "driver.switch_to.default_content()\n",
    "frame_main = driver.find_element(By.XPATH, \"//frame[@name='main']\")\n",
    "driver.switch_to.frame(frame_main)\n",
    "while driver.find_elements(By.XPATH, \"//div[@title='Actions']\").__len__() != 0:\n",
    "    driver.find_element(By.XPATH, \"//div[@title='Actions']\").click()\n",
    "    time.sleep(1)\n",
    "    driver.find_element(By.XPATH, \"//div[text()='Stop']\").click()\n",
    "    time.sleep(1)\n",
    "    driver.find_element(By.ID, \"submitButton\").click()\n",
    "    time.sleep(5)"
   ]
  },
  {
   "cell_type": "code",
   "execution_count": null,
   "id": "5c69c3f0-9d09-4618-b8c2-ea7c566cd02c",
   "metadata": {},
   "outputs": [],
   "source": []
  }
 ],
 "metadata": {
  "kernelspec": {
   "display_name": "Python 3 (ipykernel)",
   "language": "python",
   "name": "python3"
  },
  "language_info": {
   "codemirror_mode": {
    "name": "ipython",
    "version": 3
   },
   "file_extension": ".py",
   "mimetype": "text/x-python",
   "name": "python",
   "nbconvert_exporter": "python",
   "pygments_lexer": "ipython3",
   "version": "3.10.2"
  }
 },
 "nbformat": 4,
 "nbformat_minor": 5
}
