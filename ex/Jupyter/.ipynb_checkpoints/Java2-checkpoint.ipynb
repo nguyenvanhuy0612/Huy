{
 "cells": [
  {
   "cell_type": "code",
   "execution_count": 1,
   "id": "6a44df30-2eab-4758-955f-a2c32326076f",
   "metadata": {},
   "outputs": [],
   "source": [
    "%%loadFromPOM\n",
    "<dependencies>\n",
    "    <!-- https://mvnrepository.com/artifact/org.testng/testng -->\n",
    "    <dependency>\n",
    "        <groupId>org.testng</groupId>\n",
    "        <artifactId>testng</artifactId>\n",
    "        <version>7.4.0</version>\n",
    "    </dependency>\n",
    "    <dependency>\n",
    "        <groupId>junit</groupId>\n",
    "        <artifactId>junit</artifactId>\n",
    "        <version>4.13.2</version>\n",
    "    </dependency>\n",
    "    <dependency>\n",
    "        <groupId>org.junit.jupiter</groupId>\n",
    "        <artifactId>junit-jupiter-engine</artifactId>\n",
    "        <version>5.8.1</version>\n",
    "    </dependency>\n",
    "    <dependency>\n",
    "        <groupId>org.seleniumhq.selenium</groupId>\n",
    "        <artifactId>selenium-java</artifactId>\n",
    "        <version>4.0.0</version>\n",
    "    </dependency>\n",
    "    <dependency>\n",
    "        <groupId>io.github.bonigarcia</groupId>\n",
    "        <artifactId>webdrivermanager</artifactId>\n",
    "        <version>5.0.2</version>\n",
    "    </dependency>\n",
    "    <dependency>\n",
    "        <groupId>log4j</groupId>\n",
    "        <artifactId>log4j</artifactId>\n",
    "        <version>1.2.17</version>\n",
    "    </dependency>\n",
    "    <dependency>\n",
    "        <groupId>org.json</groupId>\n",
    "        <artifactId>json</artifactId>\n",
    "        <version>20210307</version>\n",
    "    </dependency>\n",
    "    <dependency>\n",
    "        <groupId>com.google.code.gson</groupId>\n",
    "        <artifactId>gson</artifactId>\n",
    "        <version>2.8.9</version>\n",
    "    </dependency>\n",
    "\n",
    "</dependencies>"
   ]
  },
  {
   "cell_type": "code",
   "execution_count": 2,
   "id": "90c6d4f5-c7bc-4ad0-bb39-b697b6c54b9d",
   "metadata": {},
   "outputs": [
    {
     "name": "stdout",
     "output_type": "stream",
     "text": [
      "Hello\n"
     ]
    }
   ],
   "source": [
    "System.out.println(\"Hello\");"
   ]
  },
  {
   "cell_type": "code",
   "execution_count": 3,
   "id": "ff94f83a-d4f5-48f2-be38-f2ea23e8c3a7",
   "metadata": {},
   "outputs": [],
   "source": [
    "import org.openqa.selenium.By;\n",
    "import org.openqa.selenium.WebDriver;\n",
    "import org.openqa.selenium.WebElement;\n",
    "import org.openqa.selenium.interactions.Actions;\n",
    "import org.openqa.selenium.interactions.ClickAction;\n",
    "import org.openqa.selenium.support.FindBy;\n",
    "import org.openqa.selenium.support.PageFactory;\n",
    "import org.openqa.selenium.support.ui.ExpectedConditions;\n",
    "import org.openqa.selenium.support.ui.Select;\n",
    "import org.openqa.selenium.support.ui.Wait;\n",
    "import org.openqa.selenium.support.ui.WebDriverWait;\n",
    "import org.testng.Assert;\n",
    "import org.testng.annotations.Test;\n",
    "import org.openqa.selenium.*;\n",
    "\n",
    "import io.github.bonigarcia.wdm.WebDriverManager;\n",
    "import org.openqa.selenium.chrome.ChromeDriver;\n",
    "\n",
    "import java.io.IOException;\n",
    "import java.text.ParseException;\n",
    "import java.util.ArrayList;\n",
    "import java.util.Hashtable;\n",
    "import java.util.List;\n",
    "import java.time.Duration;\n",
    "import java.util.concurrent.TimeUnit;\n",
    "import java.util.Calendar;\n",
    "import java.text.SimpleDateFormat;\n"
   ]
  },
  {
   "cell_type": "code",
   "execution_count": 4,
   "id": "0990d2f8-1997-4db7-b06e-b3c0552bf7c9",
   "metadata": {},
   "outputs": [
    {
     "data": {
      "text/plain": [
       "03/08/2022 20:59"
      ]
     },
     "execution_count": 4,
     "metadata": {},
     "output_type": "execute_result"
    }
   ],
   "source": [
    "final SimpleDateFormat format = new SimpleDateFormat(\"MM/dd/yyyy HH:mm\");\n",
    "Calendar cal = Calendar.getInstance();\n",
    "format.format(cal.getTime())"
   ]
  },
  {
   "cell_type": "code",
   "execution_count": null,
   "id": "b4f52048-2163-4dcd-b5e5-2b2266bc61d4",
   "metadata": {},
   "outputs": [],
   "source": []
  },
  {
   "cell_type": "code",
   "execution_count": null,
   "id": "4eddac0e-0c81-4bf9-a275-d338e55f3825",
   "metadata": {},
   "outputs": [],
   "source": []
  },
  {
   "cell_type": "code",
   "execution_count": null,
   "id": "78fb1a86-3a53-4316-be5b-f5f9198f2aac",
   "metadata": {},
   "outputs": [],
   "source": []
  },
  {
   "cell_type": "code",
   "execution_count": 5,
   "id": "240e7ecb-3b71-43f8-ac4a-cb59b15d0d44",
   "metadata": {},
   "outputs": [],
   "source": [
    "WebDriverManager.chromedriver().setup();\n",
    "WebDriver driver = new ChromeDriver();\n",
    "driver.manage().timeouts().implicitlyWait(30, TimeUnit.SECONDS);\n",
    "WebDriverWait wait = new WebDriverWait(driver, 60);\n",
    "JavascriptExecutor js = (JavascriptExecutor) driver"
   ]
  },
  {
   "cell_type": "code",
   "execution_count": null,
   "id": "6136998d-4b40-4f29-b09d-59a21541328a",
   "metadata": {},
   "outputs": [],
   "source": []
  },
  {
   "cell_type": "code",
   "execution_count": 6,
   "id": "9c06b69a-eecd-4428-9889-d5137b3117bc",
   "metadata": {},
   "outputs": [],
   "source": [
    "driver.get(\"https://dev-8.ixcc-sandbox.avayacloud.com/services/ApplicationCenter/AdminPortal#/numbers\");"
   ]
  },
  {
   "cell_type": "code",
   "execution_count": 7,
   "id": "7a7447d4-c452-4e89-ae9c-81d3993ea74c",
   "metadata": {},
   "outputs": [],
   "source": [
    "public WebElement isElementPresent(By by, int sec){\n",
    "    driver.manage().timeouts().implicitlyWait(sec, TimeUnit.SECONDS);\n",
    "    try{\n",
    "        return driver.findElement(by);\n",
    "    }catch(Exception e){\n",
    "        return null;\n",
    "    }finally{\n",
    "        driver.manage().timeouts().implicitlyWait(30, TimeUnit.SECONDS);\n",
    "    }\n",
    "}"
   ]
  },
  {
   "cell_type": "code",
   "execution_count": 11,
   "id": "3c2790bc-10be-4589-b21f-80a26e765b24",
   "metadata": {},
   "outputs": [],
   "source": [
    "isElementPresent(By.id(\"username1\"), 1)"
   ]
  },
  {
   "cell_type": "code",
   "execution_count": 12,
   "id": "f9a3e3db-1213-4ea4-86d5-74c3540f044e",
   "metadata": {},
   "outputs": [
    {
     "ename": "EvalException",
     "evalue": "no such element: Unable to locate element: {\"method\":\"css selector\",\"selector\":\"#username1\"}\n  (Session info: chrome=99.0.4844.51)\nFor documentation on this error, please visit: https://selenium.dev/exceptions/#no_such_element\nBuild info: version: '4.0.0', revision: '3a21814679'\nSystem info: host: 'WIN-RHGJAOF8GGU', ip: '192.168.1.172', os.name: 'Windows 10', os.arch: 'amd64', os.version: '10.0', java.version: '11.0.13'\nDriver info: org.openqa.selenium.chrome.ChromeDriver\nCommand: [941db0a750c0e414f71d17da8473c0c6, findElement {using=id, value=username1}]\nCapabilities {acceptInsecureCerts: false, browserName: chrome, browserVersion: 99.0.4844.51, chrome: {chromedriverVersion: 99.0.4844.51 (d537ec02474b5..., userDataDir: C:\\Users\\Admin\\AppData\\Loca...}, goog:chromeOptions: {debuggerAddress: localhost:59920}, javascriptEnabled: true, networkConnectionEnabled: false, pageLoadStrategy: normal, platform: WINDOWS, platformName: WINDOWS, proxy: Proxy(), se:cdp: ws://localhost:59920/devtoo..., se:cdpVersion: 99.0.4844.51, setWindowRect: true, strictFileInteractability: false, timeouts: {implicit: 0, pageLoad: 300000, script: 30000}, unhandledPromptBehavior: dismiss and notify, webauthn:extension:credBlob: true, webauthn:extension:largeBlob: true, webauthn:virtualAuthenticators: true}\nSession ID: 941db0a750c0e414f71d17da8473c0c6",
     "output_type": "error",
     "traceback": [
      "\u001b[1m\u001b[31m---------------------------------------------------------------------------\u001b[0m",
      "\u001b[1m\u001b[31morg.openqa.selenium.NoSuchElementException: no such element: Unable to locate element: {\"method\":\"css selector\",\"selector\":\"#username1\"}\u001b[0m",
      "\u001b[1m\u001b[31m  (Session info: chrome=99.0.4844.51)\u001b[0m",
      "\u001b[1m\u001b[31mFor documentation on this error, please visit: https://selenium.dev/exceptions/#no_such_element\u001b[0m",
      "\u001b[1m\u001b[31mBuild info: version: '4.0.0', revision: '3a21814679'\u001b[0m",
      "\u001b[1m\u001b[31mSystem info: host: 'WIN-RHGJAOF8GGU', ip: '192.168.1.172', os.name: 'Windows 10', os.arch: 'amd64', os.version: '10.0', java.version: '11.0.13'\u001b[0m",
      "\u001b[1m\u001b[31mDriver info: org.openqa.selenium.chrome.ChromeDriver\u001b[0m",
      "\u001b[1m\u001b[31mCommand: [941db0a750c0e414f71d17da8473c0c6, findElement {using=id, value=username1}]\u001b[0m",
      "\u001b[1m\u001b[31mCapabilities {acceptInsecureCerts: false, browserName: chrome, browserVersion: 99.0.4844.51, chrome: {chromedriverVersion: 99.0.4844.51 (d537ec02474b5..., userDataDir: C:\\Users\\Admin\\AppData\\Loca...}, goog:chromeOptions: {debuggerAddress: localhost:59920}, javascriptEnabled: true, networkConnectionEnabled: false, pageLoadStrategy: normal, platform: WINDOWS, platformName: WINDOWS, proxy: Proxy(), se:cdp: ws://localhost:59920/devtoo..., se:cdpVersion: 99.0.4844.51, setWindowRect: true, strictFileInteractability: false, timeouts: {implicit: 0, pageLoad: 300000, script: 30000}, unhandledPromptBehavior: dismiss and notify, webauthn:extension:credBlob: true, webauthn:extension:largeBlob: true, webauthn:virtualAuthenticators: true}\u001b[0m",
      "\u001b[1m\u001b[31mSession ID: 941db0a750c0e414f71d17da8473c0c6\u001b[0m",
      "\u001b[1m\u001b[31m\tat java.base/jdk.internal.reflect.NativeConstructorAccessorImpl.newInstance0(Native Method)\u001b[0m",
      "\u001b[1m\u001b[31m\tat java.base/jdk.internal.reflect.NativeConstructorAccessorImpl.newInstance(NativeConstructorAccessorImpl.java:62)\u001b[0m",
      "\u001b[1m\u001b[31m\tat java.base/jdk.internal.reflect.DelegatingConstructorAccessorImpl.newInstance(DelegatingConstructorAccessorImpl.java:45)\u001b[0m",
      "\u001b[1m\u001b[31m\tat java.base/java.lang.reflect.Constructor.newInstance(Constructor.java:490)\u001b[0m",
      "\u001b[1m\u001b[31m\tat org.openqa.selenium.remote.codec.w3c.W3CHttpResponseCodec.createException(W3CHttpResponseCodec.java:200)\u001b[0m",
      "\u001b[1m\u001b[31m\tat org.openqa.selenium.remote.codec.w3c.W3CHttpResponseCodec.decode(W3CHttpResponseCodec.java:133)\u001b[0m",
      "\u001b[1m\u001b[31m\tat org.openqa.selenium.remote.codec.w3c.W3CHttpResponseCodec.decode(W3CHttpResponseCodec.java:53)\u001b[0m",
      "\u001b[1m\u001b[31m\tat org.openqa.selenium.remote.HttpCommandExecutor.execute(HttpCommandExecutor.java:184)\u001b[0m",
      "\u001b[1m\u001b[31m\tat org.openqa.selenium.remote.service.DriverCommandExecutor.invokeExecute(DriverCommandExecutor.java:164)\u001b[0m",
      "\u001b[1m\u001b[31m\tat org.openqa.selenium.remote.service.DriverCommandExecutor.execute(DriverCommandExecutor.java:139)\u001b[0m",
      "\u001b[1m\u001b[31m\tat org.openqa.selenium.remote.RemoteWebDriver.execute(RemoteWebDriver.java:559)\u001b[0m",
      "\u001b[1m\u001b[31m\tat org.openqa.selenium.remote.ElementLocation$ElementFinder$2.findElement(ElementLocation.java:162)\u001b[0m",
      "\u001b[1m\u001b[31m\tat org.openqa.selenium.remote.ElementLocation.findElement(ElementLocation.java:60)\u001b[0m",
      "\u001b[1m\u001b[31m\tat org.openqa.selenium.remote.RemoteWebDriver.findElement(RemoteWebDriver.java:383)\u001b[0m",
      "\u001b[1m\u001b[31m\tat org.openqa.selenium.remote.RemoteWebDriver.findElement(RemoteWebDriver.java:375)\u001b[0m",
      "\u001b[1m\u001b[31m\tat .(#55:1)\u001b[0m"
     ]
    }
   ],
   "source": [
    "driver.findElement(By.id(\"username1\"))"
   ]
  },
  {
   "cell_type": "code",
   "execution_count": null,
   "id": "1daf4aa4-ad92-4b6c-9f17-b9fcb1589ef0",
   "metadata": {},
   "outputs": [],
   "source": []
  },
  {
   "cell_type": "code",
   "execution_count": null,
   "id": "81acefbb-afc0-4087-8fc3-5db8914810ee",
   "metadata": {},
   "outputs": [],
   "source": []
  }
 ],
 "metadata": {
  "kernelspec": {
   "display_name": "Java",
   "language": "java",
   "name": "java"
  },
  "language_info": {
   "codemirror_mode": "java",
   "file_extension": ".jshell",
   "mimetype": "text/x-java-source",
   "name": "Java",
   "pygments_lexer": "java",
   "version": "11.0.13+10-LTS-370"
  }
 },
 "nbformat": 4,
 "nbformat_minor": 5
}
