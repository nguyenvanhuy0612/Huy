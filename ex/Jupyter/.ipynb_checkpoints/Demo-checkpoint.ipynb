{
 "cells": [
  {
   "cell_type": "markdown",
   "id": "a01f7783-f116-475a-bf34-e36806d73862",
   "metadata": {},
   "source": [
    "## Import thư viện"
   ]
  },
  {
   "cell_type": "code",
   "execution_count": 1,
   "id": "b8a4c72b-14e1-4721-9387-6e79ebff7a93",
   "metadata": {},
   "outputs": [],
   "source": [
    "from selenium import webdriver\n",
    "from selenium.webdriver.common.keys import Keys\n",
    "from selenium.webdriver.common.action_chains import ActionChains\n",
    "from selenium.webdriver.support.ui import Select\n",
    "from selenium.webdriver.common.by import By\n",
    "from selenium.webdriver.chrome.options import Options\n",
    "from selenium.webdriver.support.ui import WebDriverWait\n",
    "from selenium.webdriver.support import expected_conditions as EC\n",
    "import time\n",
    "\n",
    "options = Options()\n",
    "#options.add_argument(\"--disable-extensions\")\n",
    "options.add_argument(\"--allow-running-insecure-content\")\n",
    "options.add_argument(\"use-fake-device-for-media-stream\")\n",
    "options.add_argument(\"use-fake-ui-for-media-stream\")\n",
    "options.add_argument(\"disable-features=WebRtcHideLocalIpsWithMdns\")\n",
    "options.add_argument(\"disable-infobars\")\n",
    "options.add_argument(\"disable-notifications\")\n",
    "options.add_argument(\"disable-popup-blocking\")\n",
    "options.add_argument(\"excludeSwitches\")\n",
    "options.add_argument(\"--start-maximized\")"
   ]
  },
  {
   "cell_type": "code",
   "execution_count": 2,
   "id": "381c5a90-c2c6-4895-8f47-989dcfc793d2",
   "metadata": {},
   "outputs": [
    {
     "name": "stdout",
     "output_type": "stream",
     "text": [
      "SUCCESS: The process \"chromedriver.exe\" with PID 13308 has been terminated.\n"
     ]
    }
   ],
   "source": [
    "!taskkill /f /im chromedriver*"
   ]
  },
  {
   "cell_type": "markdown",
   "id": "cc50aa7b-ac4a-4e1a-b7c5-8aabb4302cdc",
   "metadata": {
    "tags": []
   },
   "source": [
    "##### Chúng ta có thể khởi tạo một WebDriver đơn giản như sau:\n",
    "driver = webdriver.Chrome()\n",
    "\n",
    "Cần chú ý là lúc này cần phải thêm chromedriver.exe vào thư mục chứa python.exe, ex: C:/Users/Admin/AppData/Local/Programs/Python/Python310/chromedriver.exe\n",
    "##### Một cách khác là ta có thể tự thêm đường dẫn cho Chromedriver bằng argument: executable_path:\n",
    "driver = webdriver.Chrome(options=options, executable_path=r\"C:/Users/Admin/AppData/Local/Programs/Python/Python310/chromedriver.exe\")"
   ]
  },
  {
   "cell_type": "code",
   "execution_count": 4,
   "id": "5873da3e-9d67-4e23-ba76-d1cae48e316b",
   "metadata": {},
   "outputs": [
    {
     "name": "stderr",
     "output_type": "stream",
     "text": [
      "C:\\Users\\Admin\\AppData\\Local\\Temp\\ipykernel_9560\\3760294584.py:1: DeprecationWarning: executable_path has been deprecated, please pass in a Service object\n",
      "  driver = webdriver.Chrome(options=options, executable_path=r\"D:/chromedriver.exe\")\n"
     ]
    }
   ],
   "source": [
    "driver = webdriver.Chrome(options=options, executable_path=r\"D:/chromedriver.exe\")\n",
    "driver.implicitly_wait(30)\n",
    "driver.set_page_load_timeout(30)\n",
    "action = ActionChains(driver)\n",
    "wait = WebDriverWait(driver, 60)"
   ]
  },
  {
   "cell_type": "code",
   "execution_count": null,
   "id": "d272c8a5-fb8e-464e-ad5b-495156db1ced",
   "metadata": {},
   "outputs": [],
   "source": [
    "driver.implicitly_wait(10)"
   ]
  },
  {
   "cell_type": "markdown",
   "id": "bde8ccb4-6315-4082-baa2-c8cadcf53b34",
   "metadata": {},
   "source": [
    "## Practice để hiểu hơn về selenium"
   ]
  },
  {
   "cell_type": "code",
   "execution_count": 5,
   "id": "a3edb6f7-c365-4058-9321-c0afa0711ba9",
   "metadata": {},
   "outputs": [],
   "source": [
    "driver.get(\"https://vnexpress.net\")"
   ]
  },
  {
   "cell_type": "code",
   "execution_count": null,
   "id": "f9996e0c-d89b-41f8-9f60-6bd2bff2b894",
   "metadata": {},
   "outputs": [],
   "source": [
    "webelement = driver.find_element(By.XPATH, \"//*[@class='txt-name']\")"
   ]
  },
  {
   "cell_type": "code",
   "execution_count": null,
   "id": "61fdb4fe-cad1-4208-8a14-a16572fdb7a8",
   "metadata": {},
   "outputs": [],
   "source": [
    "webelements = driver.find_elements(By.XPATH, \"//*[@class='txt-name']\")"
   ]
  },
  {
   "cell_type": "code",
   "execution_count": null,
   "id": "766e6051-339b-4ce7-9f7b-2f6237f54566",
   "metadata": {},
   "outputs": [],
   "source": [
    "if driver.find_element(By.XPATH, \"(//*[@class='container'])[1]\").is_enabled():\n",
    "    driver.find_element_by_xpath(\"(//*[@title='Covid 19'])[2]\").click()"
   ]
  },
  {
   "cell_type": "code",
   "execution_count": null,
   "id": "255d68a8-f674-480e-9b57-497741ee06b2",
   "metadata": {},
   "outputs": [],
   "source": [
    "driver.find_element_by_xpath(\"//a[@data-medium='Menu-BinhLuanNhieu']\").get_attribute(\"title\")"
   ]
  },
  {
   "cell_type": "code",
   "execution_count": null,
   "id": "f514e150-9095-4f8f-a8bd-0e274e25dd79",
   "metadata": {},
   "outputs": [],
   "source": [
    "driver.find_elements(By.XPATH, \"//*[@class='txt-name']\").__len__() == 0:"
   ]
  },
  {
   "cell_type": "code",
   "execution_count": null,
   "id": "b49e6fc7-7785-4dca-94af-038539597cba",
   "metadata": {},
   "outputs": [],
   "source": [
    "driver.window_handles"
   ]
  },
  {
   "cell_type": "code",
   "execution_count": null,
   "id": "66bd638d-269f-40e1-bf86-147125cca09d",
   "metadata": {},
   "outputs": [],
   "source": [
    "driver.switch_to.window(\"CDwindow-548A6D7E65C67502A35FD29436AF58C5\")"
   ]
  },
  {
   "cell_type": "code",
   "execution_count": null,
   "id": "c38cab6f-e430-4d1a-8105-ed72d9219a92",
   "metadata": {},
   "outputs": [],
   "source": [
    "driver.implicitly_wait(5)\n",
    "if driver.find_elements(By.XPATH, \"//div[@role='checkbox' and @aria-checked = 'true']\").__len__() == 0:\n",
    "    driver.find_element(By.XPATH, \"//div[@role='checkbox']\").click()\n",
    "else:\n",
    "    print(\"len != 0\")"
   ]
  },
  {
   "cell_type": "code",
   "execution_count": null,
   "id": "65b9dec4-25ca-41e1-957d-788f34b9b768",
   "metadata": {},
   "outputs": [],
   "source": [
    "driver.find_elements(By.XPATH, \"//div[@role='checkbox' and @aria-checked = 'true']\").__len__()"
   ]
  }
 ],
 "metadata": {
  "kernelspec": {
   "display_name": "Python 3 (ipykernel)",
   "language": "python",
   "name": "python3"
  },
  "language_info": {
   "codemirror_mode": {
    "name": "ipython",
    "version": 3
   },
   "file_extension": ".py",
   "mimetype": "text/x-python",
   "name": "python",
   "nbconvert_exporter": "python",
   "pygments_lexer": "ipython3",
   "version": "3.10.2"
  }
 },
 "nbformat": 4,
 "nbformat_minor": 5
}
