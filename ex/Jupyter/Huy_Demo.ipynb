{
 "cells": [
  {
   "cell_type": "code",
   "execution_count": 24,
   "id": "a875fc5f-834f-4a80-9360-84e386b34880",
   "metadata": {},
   "outputs": [],
   "source": [
    "from ngm_locator import *\n",
    "from ngm_page import *"
   ]
  },
  {
   "cell_type": "code",
   "execution_count": null,
   "id": "7cff5042-a225-47b9-acc6-5a749c905580",
   "metadata": {},
   "outputs": [],
   "source": []
  }
 ],
 "metadata": {
  "kernelspec": {
   "display_name": "Python 3 (ipykernel)",
   "language": "python",
   "name": "python3"
  },
  "language_info": {
   "codemirror_mode": {
    "name": "ipython",
    "version": 3
   },
   "file_extension": ".py",
   "mimetype": "text/x-python",
   "name": "python",
   "nbconvert_exporter": "python",
   "pygments_lexer": "ipython3",
   "version": "3.10.2"
  }
 },
 "nbformat": 4,
 "nbformat_minor": 5
}
