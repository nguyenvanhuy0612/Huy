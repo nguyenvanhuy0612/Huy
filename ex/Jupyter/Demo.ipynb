{
 "cells": [
  {
   "cell_type": "markdown",
   "id": "a01f7783-f116-475a-bf34-e36806d73862",
   "metadata": {},
   "source": [
    "## Import thư viện"
   ]
  },
  {
   "cell_type": "code",
   "execution_count": 1,
   "id": "b8a4c72b-14e1-4721-9387-6e79ebff7a93",
   "metadata": {},
   "outputs": [],
   "source": [
    "from selenium import webdriver\n",
    "from selenium.webdriver.common.keys import Keys\n",
    "from selenium.webdriver.common.action_chains import ActionChains\n",
    "from selenium.webdriver.support.ui import Select\n",
    "from selenium.webdriver.common.by import By\n",
    "from selenium.webdriver.chrome.options import Options\n",
    "from selenium.webdriver.support.ui import WebDriverWait\n",
    "from selenium.webdriver.support import expected_conditions as EC\n",
    "import time\n",
    "\n",
    "options = Options()\n",
    "#options.add_argument(\"--disable-extensions\")\n",
    "options.add_argument(\"--allow-running-insecure-content\")\n",
    "options.add_argument(\"use-fake-device-for-media-stream\")\n",
    "options.add_argument(\"use-fake-ui-for-media-stream\")\n",
    "options.add_argument(\"disable-features=WebRtcHideLocalIpsWithMdns\")\n",
    "options.add_argument(\"disable-infobars\")\n",
    "options.add_argument(\"disable-notifications\")\n",
    "options.add_argument(\"disable-popup-blocking\")\n",
    "options.add_argument(\"excludeSwitches\")\n",
    "options.add_argument(\"--start-maximized\")"
   ]
  },
  {
   "cell_type": "code",
   "execution_count": 2,
   "id": "381c5a90-c2c6-4895-8f47-989dcfc793d2",
   "metadata": {},
   "outputs": [
    {
     "name": "stderr",
     "output_type": "stream",
     "text": [
      "ERROR: The process \"chromedriver*\" not found.\n"
     ]
    }
   ],
   "source": [
    "!taskkill /f /im chromedriver*"
   ]
  },
  {
   "cell_type": "markdown",
   "id": "cc50aa7b-ac4a-4e1a-b7c5-8aabb4302cdc",
   "metadata": {
    "tags": []
   },
   "source": [
    "##### Chúng ta có thể khởi tạo một WebDriver đơn giản như sau:\n",
    "driver = webdriver.Chrome()\n",
    "\n",
    "Cần chú ý là lúc này cần phải thêm chromedriver.exe vào thư mục chứa python.exe, ex: C:/Users/Admin/AppData/Local/Programs/Python/Python310/chromedriver.exe\n",
    "##### Một cách khác là ta có thể tự thêm đường dẫn cho Chromedriver bằng argument: executable_path:\n",
    "driver = webdriver.Chrome(options=options, executable_path=r\"C:/Users/Admin/AppData/Local/Programs/Python/Python310/chromedriver.exe\")"
   ]
  },
  {
   "cell_type": "code",
   "execution_count": 3,
   "id": "5873da3e-9d67-4e23-ba76-d1cae48e316b",
   "metadata": {},
   "outputs": [],
   "source": [
    "#driver = webdriver.Chrome(options=options, executable_path=r\"D:/chromedriver.exe\")\n",
    "driver = webdriver.Chrome(options=options)\n",
    "driver.implicitly_wait(30)\n",
    "driver.set_page_load_timeout(30)\n",
    "action = ActionChains(driver)\n",
    "wait = WebDriverWait(driver, 60)"
   ]
  },
  {
   "cell_type": "code",
   "execution_count": null,
   "id": "d272c8a5-fb8e-464e-ad5b-495156db1ced",
   "metadata": {},
   "outputs": [],
   "source": [
    "driver.implicitly_wait(10)"
   ]
  },
  {
   "cell_type": "markdown",
   "id": "bde8ccb4-6315-4082-baa2-c8cadcf53b34",
   "metadata": {},
   "source": [
    "## Practice để hiểu hơn về selenium"
   ]
  },
  {
   "cell_type": "code",
   "execution_count": 4,
   "id": "a3edb6f7-c365-4058-9321-c0afa0711ba9",
   "metadata": {},
   "outputs": [
    {
     "ename": "TimeoutException",
     "evalue": "Message: timeout: Timed out receiving message from renderer: 18.787\n  (Session info: chrome=98.0.4758.102)\nStacktrace:\nBacktrace:\n\tOrdinal0 [0x00AD69A3+2582947]\n\tOrdinal0 [0x00A6A6D1+2139857]\n\tOrdinal0 [0x00963A98+1063576]\n\tOrdinal0 [0x00955727+1005351]\n\tOrdinal0 [0x00954727+1001255]\n\tOrdinal0 [0x00954AF7+1002231]\n\tOrdinal0 [0x0095EF9F+1044383]\n\tOrdinal0 [0x0096962B+1087019]\n\tOrdinal0 [0x0096BD40+1097024]\n\tOrdinal0 [0x00954DF6+1002998]\n\tOrdinal0 [0x009694D5+1086677]\n\tOrdinal0 [0x009B8616+1410582]\n\tOrdinal0 [0x009A8366+1344358]\n\tOrdinal0 [0x00985176+1200502]\n\tOrdinal0 [0x00986066+1204326]\n\tGetHandleVerifier [0x00C7BE02+1675858]\n\tGetHandleVerifier [0x00D3036C+2414524]\n\tGetHandleVerifier [0x00B6BB01+560977]\n\tGetHandleVerifier [0x00B6A8D3+556323]\n\tOrdinal0 [0x00A7020E+2163214]\n\tOrdinal0 [0x00A75078+2183288]\n\tOrdinal0 [0x00A751C0+2183616]\n\tOrdinal0 [0x00A7EE1C+2223644]\n\tBaseThreadInitThunk [0x76740419+25]\n\tRtlGetAppContainerNamedObjectPath [0x778E72FD+237]\n\tRtlGetAppContainerNamedObjectPath [0x778E72CD+189]\n",
     "output_type": "error",
     "traceback": [
      "\u001b[1;31m---------------------------------------------------------------------------\u001b[0m",
      "\u001b[1;31mTimeoutException\u001b[0m                          Traceback (most recent call last)",
      "Input \u001b[1;32mIn [4]\u001b[0m, in \u001b[0;36m<module>\u001b[1;34m\u001b[0m\n\u001b[1;32m----> 1\u001b[0m \u001b[43mdriver\u001b[49m\u001b[38;5;241;43m.\u001b[39;49m\u001b[43mget\u001b[49m\u001b[43m(\u001b[49m\u001b[38;5;124;43m\"\u001b[39;49m\u001b[38;5;124;43mhttps://vnexpress.net\u001b[39;49m\u001b[38;5;124;43m\"\u001b[39;49m\u001b[43m)\u001b[49m\n",
      "File \u001b[1;32m~\\AppData\\Local\\Programs\\Python\\Python310\\lib\\site-packages\\selenium\\webdriver\\remote\\webdriver.py:436\u001b[0m, in \u001b[0;36mWebDriver.get\u001b[1;34m(self, url)\u001b[0m\n\u001b[0;32m    432\u001b[0m \u001b[38;5;28;01mdef\u001b[39;00m \u001b[38;5;21mget\u001b[39m(\u001b[38;5;28mself\u001b[39m, url: \u001b[38;5;28mstr\u001b[39m) \u001b[38;5;241m-\u001b[39m\u001b[38;5;241m>\u001b[39m \u001b[38;5;28;01mNone\u001b[39;00m:\n\u001b[0;32m    433\u001b[0m     \u001b[38;5;124;03m\"\"\"\u001b[39;00m\n\u001b[0;32m    434\u001b[0m \u001b[38;5;124;03m    Loads a web page in the current browser session.\u001b[39;00m\n\u001b[0;32m    435\u001b[0m \u001b[38;5;124;03m    \"\"\"\u001b[39;00m\n\u001b[1;32m--> 436\u001b[0m     \u001b[38;5;28;43mself\u001b[39;49m\u001b[38;5;241;43m.\u001b[39;49m\u001b[43mexecute\u001b[49m\u001b[43m(\u001b[49m\u001b[43mCommand\u001b[49m\u001b[38;5;241;43m.\u001b[39;49m\u001b[43mGET\u001b[49m\u001b[43m,\u001b[49m\u001b[43m \u001b[49m\u001b[43m{\u001b[49m\u001b[38;5;124;43m'\u001b[39;49m\u001b[38;5;124;43murl\u001b[39;49m\u001b[38;5;124;43m'\u001b[39;49m\u001b[43m:\u001b[49m\u001b[43m \u001b[49m\u001b[43murl\u001b[49m\u001b[43m}\u001b[49m\u001b[43m)\u001b[49m\n",
      "File \u001b[1;32m~\\AppData\\Local\\Programs\\Python\\Python310\\lib\\site-packages\\selenium\\webdriver\\remote\\webdriver.py:424\u001b[0m, in \u001b[0;36mWebDriver.execute\u001b[1;34m(self, driver_command, params)\u001b[0m\n\u001b[0;32m    422\u001b[0m response \u001b[38;5;241m=\u001b[39m \u001b[38;5;28mself\u001b[39m\u001b[38;5;241m.\u001b[39mcommand_executor\u001b[38;5;241m.\u001b[39mexecute(driver_command, params)\n\u001b[0;32m    423\u001b[0m \u001b[38;5;28;01mif\u001b[39;00m response:\n\u001b[1;32m--> 424\u001b[0m     \u001b[38;5;28;43mself\u001b[39;49m\u001b[38;5;241;43m.\u001b[39;49m\u001b[43merror_handler\u001b[49m\u001b[38;5;241;43m.\u001b[39;49m\u001b[43mcheck_response\u001b[49m\u001b[43m(\u001b[49m\u001b[43mresponse\u001b[49m\u001b[43m)\u001b[49m\n\u001b[0;32m    425\u001b[0m     response[\u001b[38;5;124m'\u001b[39m\u001b[38;5;124mvalue\u001b[39m\u001b[38;5;124m'\u001b[39m] \u001b[38;5;241m=\u001b[39m \u001b[38;5;28mself\u001b[39m\u001b[38;5;241m.\u001b[39m_unwrap_value(\n\u001b[0;32m    426\u001b[0m         response\u001b[38;5;241m.\u001b[39mget(\u001b[38;5;124m'\u001b[39m\u001b[38;5;124mvalue\u001b[39m\u001b[38;5;124m'\u001b[39m, \u001b[38;5;28;01mNone\u001b[39;00m))\n\u001b[0;32m    427\u001b[0m     \u001b[38;5;28;01mreturn\u001b[39;00m response\n",
      "File \u001b[1;32m~\\AppData\\Local\\Programs\\Python\\Python310\\lib\\site-packages\\selenium\\webdriver\\remote\\errorhandler.py:247\u001b[0m, in \u001b[0;36mErrorHandler.check_response\u001b[1;34m(self, response)\u001b[0m\n\u001b[0;32m    245\u001b[0m         alert_text \u001b[38;5;241m=\u001b[39m value[\u001b[38;5;124m'\u001b[39m\u001b[38;5;124malert\u001b[39m\u001b[38;5;124m'\u001b[39m]\u001b[38;5;241m.\u001b[39mget(\u001b[38;5;124m'\u001b[39m\u001b[38;5;124mtext\u001b[39m\u001b[38;5;124m'\u001b[39m)\n\u001b[0;32m    246\u001b[0m     \u001b[38;5;28;01mraise\u001b[39;00m exception_class(message, screen, stacktrace, alert_text)  \u001b[38;5;66;03m# type: ignore[call-arg]  # mypy is not smart enough here\u001b[39;00m\n\u001b[1;32m--> 247\u001b[0m \u001b[38;5;28;01mraise\u001b[39;00m exception_class(message, screen, stacktrace)\n",
      "\u001b[1;31mTimeoutException\u001b[0m: Message: timeout: Timed out receiving message from renderer: 18.787\n  (Session info: chrome=98.0.4758.102)\nStacktrace:\nBacktrace:\n\tOrdinal0 [0x00AD69A3+2582947]\n\tOrdinal0 [0x00A6A6D1+2139857]\n\tOrdinal0 [0x00963A98+1063576]\n\tOrdinal0 [0x00955727+1005351]\n\tOrdinal0 [0x00954727+1001255]\n\tOrdinal0 [0x00954AF7+1002231]\n\tOrdinal0 [0x0095EF9F+1044383]\n\tOrdinal0 [0x0096962B+1087019]\n\tOrdinal0 [0x0096BD40+1097024]\n\tOrdinal0 [0x00954DF6+1002998]\n\tOrdinal0 [0x009694D5+1086677]\n\tOrdinal0 [0x009B8616+1410582]\n\tOrdinal0 [0x009A8366+1344358]\n\tOrdinal0 [0x00985176+1200502]\n\tOrdinal0 [0x00986066+1204326]\n\tGetHandleVerifier [0x00C7BE02+1675858]\n\tGetHandleVerifier [0x00D3036C+2414524]\n\tGetHandleVerifier [0x00B6BB01+560977]\n\tGetHandleVerifier [0x00B6A8D3+556323]\n\tOrdinal0 [0x00A7020E+2163214]\n\tOrdinal0 [0x00A75078+2183288]\n\tOrdinal0 [0x00A751C0+2183616]\n\tOrdinal0 [0x00A7EE1C+2223644]\n\tBaseThreadInitThunk [0x76740419+25]\n\tRtlGetAppContainerNamedObjectPath [0x778E72FD+237]\n\tRtlGetAppContainerNamedObjectPath [0x778E72CD+189]\n"
     ]
    }
   ],
   "source": [
    "driver.get(\"https://vnexpress.net\")"
   ]
  },
  {
   "cell_type": "code",
   "execution_count": null,
   "id": "f9996e0c-d89b-41f8-9f60-6bd2bff2b894",
   "metadata": {},
   "outputs": [],
   "source": [
    "webelement = driver.find_element(By.XPATH, \"//*[@class='txt-name']\")"
   ]
  },
  {
   "cell_type": "code",
   "execution_count": null,
   "id": "61fdb4fe-cad1-4208-8a14-a16572fdb7a8",
   "metadata": {},
   "outputs": [],
   "source": [
    "webelements = driver.find_elements(By.XPATH, \"//*[@class='txt-name']\")"
   ]
  },
  {
   "cell_type": "code",
   "execution_count": null,
   "id": "766e6051-339b-4ce7-9f7b-2f6237f54566",
   "metadata": {},
   "outputs": [],
   "source": [
    "if driver.find_element(By.XPATH, \"(//*[@class='container'])[1]\").is_enabled():\n",
    "    driver.find_element_by_xpath(\"(//*[@title='Covid 19'])[2]\").click()"
   ]
  },
  {
   "cell_type": "code",
   "execution_count": null,
   "id": "255d68a8-f674-480e-9b57-497741ee06b2",
   "metadata": {},
   "outputs": [],
   "source": [
    "driver.find_element_by_xpath(\"//a[@data-medium='Menu-BinhLuanNhieu']\").get_attribute(\"title\")"
   ]
  },
  {
   "cell_type": "code",
   "execution_count": null,
   "id": "f514e150-9095-4f8f-a8bd-0e274e25dd79",
   "metadata": {},
   "outputs": [],
   "source": [
    "driver.find_elements(By.XPATH, \"//*[@class='txt-name']\").__len__() == 0:"
   ]
  },
  {
   "cell_type": "code",
   "execution_count": null,
   "id": "b49e6fc7-7785-4dca-94af-038539597cba",
   "metadata": {},
   "outputs": [],
   "source": [
    "driver.window_handles"
   ]
  },
  {
   "cell_type": "code",
   "execution_count": null,
   "id": "66bd638d-269f-40e1-bf86-147125cca09d",
   "metadata": {},
   "outputs": [],
   "source": [
    "driver.switch_to.window(\"CDwindow-548A6D7E65C67502A35FD29436AF58C5\")"
   ]
  },
  {
   "cell_type": "code",
   "execution_count": null,
   "id": "c38cab6f-e430-4d1a-8105-ed72d9219a92",
   "metadata": {},
   "outputs": [],
   "source": [
    "driver.implicitly_wait(5)\n",
    "if driver.find_elements(By.XPATH, \"//div[@role='checkbox' and @aria-checked = 'true']\").__len__() == 0:\n",
    "    driver.find_element(By.XPATH, \"//div[@role='checkbox']\").click()\n",
    "else:\n",
    "    print(\"len != 0\")"
   ]
  },
  {
   "cell_type": "code",
   "execution_count": null,
   "id": "65b9dec4-25ca-41e1-957d-788f34b9b768",
   "metadata": {},
   "outputs": [],
   "source": [
    "driver.find_elements(By.XPATH, \"//div[@role='checkbox' and @aria-checked = 'true']\").__len__()"
   ]
  }
 ],
 "metadata": {
  "kernelspec": {
   "display_name": "Python 3 (ipykernel)",
   "language": "python",
   "name": "python3"
  },
  "language_info": {
   "codemirror_mode": {
    "name": "ipython",
    "version": 3
   },
   "file_extension": ".py",
   "mimetype": "text/x-python",
   "name": "python",
   "nbconvert_exporter": "python",
   "pygments_lexer": "ipython3",
   "version": "3.10.2"
  }
 },
 "nbformat": 4,
 "nbformat_minor": 5
}
